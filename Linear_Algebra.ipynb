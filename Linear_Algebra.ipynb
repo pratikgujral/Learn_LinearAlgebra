{
  "nbformat": 4,
  "nbformat_minor": 0,
  "metadata": {
    "colab": {
      "name": "Linear Algebra",
      "provenance": [],
      "collapsed_sections": [],
      "authorship_tag": "ABX9TyM/z8sj3LQk0x4L74flPQL3",
      "include_colab_link": true
    },
    "kernelspec": {
      "name": "python3",
      "display_name": "Python 3"
    },
    "language_info": {
      "name": "python"
    }
  },
  "cells": [
    {
      "cell_type": "markdown",
      "metadata": {
        "id": "view-in-github",
        "colab_type": "text"
      },
      "source": [
        "<a href=\"https://colab.research.google.com/github/pratikgujral/Learn_LinearAlgebra/blob/main/Linear_Algebra.ipynb\" target=\"_parent\"><img src=\"https://colab.research.google.com/assets/colab-badge.svg\" alt=\"Open In Colab\"/></a>"
      ]
    },
    {
      "cell_type": "code",
      "metadata": {
        "id": "Hom0M11JqaQ-"
      },
      "source": [
        "import numpy as np\n",
        "import sympy"
      ],
      "execution_count": 2,
      "outputs": []
    },
    {
      "cell_type": "markdown",
      "metadata": {
        "id": "a_XMyxI8qsh0"
      },
      "source": [
        "# Gaussian Elimination\n",
        "\n",
        "Given a system of linear equations:  \n",
        "$-x -y + 3z = 3$  \n",
        "$x + z = 3$  \n",
        "$3x -y + 7z = 15$\n",
        "\n",
        "<br/>\n",
        "\n",
        "This is solved by converting the system of equations to Row Echelon form.\n",
        "\n",
        "Reduced Row Echelon Form can be computed using **`sympy.Matrix.rref()`**"
      ]
    },
    {
      "cell_type": "code",
      "metadata": {
        "colab": {
          "base_uri": "https://localhost:8080/",
          "height": 78
        },
        "id": "DzabgYa3qhJC",
        "outputId": "a7795405-66a2-49da-9235-f31a6204da93"
      },
      "source": [
        "A = sympy.Matrix([\n",
        "                  [-1,-1,3,-3],\n",
        "                  [1,0,1,-3],\n",
        "                  [3,-1,7,-15]\n",
        "                ])\n",
        "A"
      ],
      "execution_count": 3,
      "outputs": [
        {
          "output_type": "execute_result",
          "data": {
            "text/latex": "$\\displaystyle \\left[\\begin{matrix}-1 & -1 & 3 & -3\\\\1 & 0 & 1 & -3\\\\3 & -1 & 7 & -15\\end{matrix}\\right]$",
            "text/plain": [
              "Matrix([\n",
              "[-1, -1, 3,  -3],\n",
              "[ 1,  0, 1,  -3],\n",
              "[ 3, -1, 7, -15]])"
            ]
          },
          "metadata": {},
          "execution_count": 3
        }
      ]
    },
    {
      "cell_type": "markdown",
      "metadata": {
        "id": "bHnG0Mtkst8q"
      },
      "source": [
        "**`A.rref()`** returns the Reduced Row Echelon Form and also the index of the Pivot columns in `A`."
      ]
    },
    {
      "cell_type": "code",
      "metadata": {
        "colab": {
          "base_uri": "https://localhost:8080/",
          "height": 96
        },
        "id": "fZaluk9gsd7I",
        "outputId": "96c133aa-a088-49d3-c124-1d6501e633f6"
      },
      "source": [
        "A_rref, pivot_col_indices = A.rref()\n",
        "\n",
        "print(pivot_col_indices)\n",
        "A_rref"
      ],
      "execution_count": 4,
      "outputs": [
        {
          "output_type": "stream",
          "name": "stdout",
          "text": [
            "(0, 1)\n"
          ]
        },
        {
          "output_type": "execute_result",
          "data": {
            "text/latex": "$\\displaystyle \\left[\\begin{matrix}1 & 0 & 1 & -3\\\\0 & 1 & -4 & 6\\\\0 & 0 & 0 & 0\\end{matrix}\\right]$",
            "text/plain": [
              "Matrix([\n",
              "[1, 0,  1, -3],\n",
              "[0, 1, -4,  6],\n",
              "[0, 0,  0,  0]])"
            ]
          },
          "metadata": {},
          "execution_count": 4
        }
      ]
    },
    {
      "cell_type": "markdown",
      "metadata": {
        "id": "H_74XEe37sOn"
      },
      "source": [
        "**Another Example...**  \n",
        "Find the reduced row echelon form, and pivot columns of given system of equations.\n",
        "\n",
        "NOTEL: The given system os equations represents a determined system."
      ]
    },
    {
      "cell_type": "code",
      "metadata": {
        "colab": {
          "base_uri": "https://localhost:8080/",
          "height": 78
        },
        "id": "vCPFmYNUssOk",
        "outputId": "cc9d65dc-7532-4a63-e232-ef32f7a75176"
      },
      "source": [
        "A = sympy.Matrix([\n",
        "                  [1,2,2,2],\n",
        "                  [2,4,6,8],\n",
        "                  [3,6,8,10]\n",
        "])\n",
        "A"
      ],
      "execution_count": 5,
      "outputs": [
        {
          "output_type": "execute_result",
          "data": {
            "text/latex": "$\\displaystyle \\left[\\begin{matrix}1 & 2 & 2 & 2\\\\2 & 4 & 6 & 8\\\\3 & 6 & 8 & 10\\end{matrix}\\right]$",
            "text/plain": [
              "Matrix([\n",
              "[1, 2, 2,  2],\n",
              "[2, 4, 6,  8],\n",
              "[3, 6, 8, 10]])"
            ]
          },
          "metadata": {},
          "execution_count": 5
        }
      ]
    },
    {
      "cell_type": "code",
      "metadata": {
        "colab": {
          "base_uri": "https://localhost:8080/"
        },
        "id": "Mrp1JDto7W9J",
        "outputId": "90194a7e-0c29-4238-e017-d107c55c36a9"
      },
      "source": [
        "A.rref()"
      ],
      "execution_count": 6,
      "outputs": [
        {
          "output_type": "execute_result",
          "data": {
            "text/plain": [
              "(Matrix([\n",
              " [1, 2, 0, -2],\n",
              " [0, 0, 1,  2],\n",
              " [0, 0, 0,  0]]), (0, 2))"
            ]
          },
          "metadata": {},
          "execution_count": 6
        }
      ]
    },
    {
      "cell_type": "markdown",
      "metadata": {
        "id": "90HzXG8X8FTg"
      },
      "source": [
        "**Example of solving an overdermined system**"
      ]
    },
    {
      "cell_type": "code",
      "metadata": {
        "colab": {
          "base_uri": "https://localhost:8080/",
          "height": 78
        },
        "id": "NKe5Kf4Y7YfO",
        "outputId": "a4628a6b-8c27-4a06-f9a2-ff94ff149b14"
      },
      "source": [
        "A = sympy.Matrix([\n",
        "                  [1,2,3],\n",
        "                  [2,4,6],\n",
        "                  [2,8,10]\n",
        "])\n",
        "A"
      ],
      "execution_count": 7,
      "outputs": [
        {
          "output_type": "execute_result",
          "data": {
            "text/latex": "$\\displaystyle \\left[\\begin{matrix}1 & 2 & 3\\\\2 & 4 & 6\\\\2 & 8 & 10\\end{matrix}\\right]$",
            "text/plain": [
              "Matrix([\n",
              "[1, 2,  3],\n",
              "[2, 4,  6],\n",
              "[2, 8, 10]])"
            ]
          },
          "metadata": {},
          "execution_count": 7
        }
      ]
    },
    {
      "cell_type": "markdown",
      "metadata": {
        "id": "IxBJa0q78SLI"
      },
      "source": [
        "NOTE: We do have 3 cols, but all 3 columns are not independent.   \n",
        "$R_3 <= R_1 + R_2$ "
      ]
    },
    {
      "cell_type": "code",
      "metadata": {
        "colab": {
          "base_uri": "https://localhost:8080/"
        },
        "id": "31VkGSxh8P-5",
        "outputId": "14577f5a-586b-4fe4-d3a9-907d0dc8e059"
      },
      "source": [
        "A.rref()"
      ],
      "execution_count": 8,
      "outputs": [
        {
          "output_type": "execute_result",
          "data": {
            "text/plain": [
              "(Matrix([\n",
              " [1, 0, 1],\n",
              " [0, 1, 1],\n",
              " [0, 0, 0]]), (0, 1))"
            ]
          },
          "metadata": {},
          "execution_count": 8
        }
      ]
    },
    {
      "cell_type": "markdown",
      "metadata": {
        "id": "eOGta5_D8ubB"
      },
      "source": [
        "## Rank\n",
        "\n",
        "Rank = # of pivot columns in A."
      ]
    },
    {
      "cell_type": "code",
      "metadata": {
        "colab": {
          "base_uri": "https://localhost:8080/"
        },
        "id": "qDajVq2S8h9h",
        "outputId": "7f944ab1-cf62-4dff-cd50-608a0a83628b"
      },
      "source": [
        "A.rank()"
      ],
      "execution_count": 9,
      "outputs": [
        {
          "output_type": "execute_result",
          "data": {
            "text/plain": [
              "2"
            ]
          },
          "metadata": {},
          "execution_count": 9
        }
      ]
    },
    {
      "cell_type": "markdown",
      "metadata": {
        "id": "WjqE9pyK87dw"
      },
      "source": [
        "## Null Space of matrix\n",
        "\n",
        "Null space of a matrix $A$ is defined as a set of all the vectors $X$ that satisfy $A.X=0$\n",
        "\n",
        "Steps to compute null space:\n",
        "1. Convert to reduced row echelon form using Gaussian Elimination\n",
        "2. Pick any values for the free variables. So if we have two free variables `f1` and `f2`, we assume their values to be `(1, 0)` and `(0, 1)`. We don't choose `(0,0)` as that is a trivial; solution to $A.X=0$."
      ]
    },
    {
      "cell_type": "code",
      "metadata": {
        "colab": {
          "base_uri": "https://localhost:8080/"
        },
        "id": "DJdHN-888trY",
        "outputId": "e1cd0269-4711-4648-da54-2428b050800f"
      },
      "source": [
        "A.nullspace()"
      ],
      "execution_count": 10,
      "outputs": [
        {
          "output_type": "execute_result",
          "data": {
            "text/plain": [
              "[Matrix([\n",
              " [-1],\n",
              " [-1],\n",
              " [ 1]])]"
            ]
          },
          "metadata": {},
          "execution_count": 10
        }
      ]
    },
    {
      "cell_type": "markdown",
      "metadata": {
        "id": "IK12fjTL-8i1"
      },
      "source": [
        "---\n",
        "\n",
        "# Solving $A.X=B$\n",
        "\n",
        "## Goal \n",
        "Check if a solution exists to a given system of equations, and if it does, find all those solutions.\n",
        "\n",
        "<br/>\n",
        "\n",
        "Example:\n",
        "```\n",
        "x + y + z = 1 \n",
        "x + y + 2z = 3\n",
        "```\n",
        "\n",
        "This can be solved via Sympy in a variety of ways.\n",
        "\n",
        "1. Augmented Matrix form\n",
        "2. System of Equations\n",
        "3. $A.x=b$ form\n",
        "\n",
        "### Augmented Matrix Form"
      ]
    },
    {
      "cell_type": "code",
      "metadata": {
        "colab": {
          "base_uri": "https://localhost:8080/",
          "height": 57
        },
        "id": "bJakiEw-85Nx",
        "outputId": "fb347d91-cfc0-40cb-c87f-4e488f573c52"
      },
      "source": [
        "from sympy import Matrix, symbols\n",
        "from sympy.solvers.solveset import linsolve\n",
        "\n",
        "A = sympy.Matrix([\n",
        "                  [1,1,1,1],\n",
        "                  [1,1,2,3]\n",
        "])\n",
        "\n",
        "A"
      ],
      "execution_count": 11,
      "outputs": [
        {
          "output_type": "execute_result",
          "data": {
            "text/latex": "$\\displaystyle \\left[\\begin{matrix}1 & 1 & 1 & 1\\\\1 & 1 & 2 & 3\\end{matrix}\\right]$",
            "text/plain": [
              "Matrix([\n",
              "[1, 1, 1, 1],\n",
              "[1, 1, 2, 3]])"
            ]
          },
          "metadata": {},
          "execution_count": 11
        }
      ]
    },
    {
      "cell_type": "code",
      "metadata": {
        "colab": {
          "base_uri": "https://localhost:8080/",
          "height": 39
        },
        "id": "T3BwMnL6AHSc",
        "outputId": "e9d9c647-5889-432f-e89e-0892c7c5cc09"
      },
      "source": [
        "# Create Sympy symbols for representing variables of the given system of equations\n",
        "x, y, z = symbols('x y z')\n",
        "\n",
        "linsolve(A, (x, y, z))"
      ],
      "execution_count": 12,
      "outputs": [
        {
          "output_type": "execute_result",
          "data": {
            "text/latex": "$\\displaystyle \\left\\{\\left( - y - 1, \\  y, \\  2\\right)\\right\\}$",
            "text/plain": [
              "FiniteSet((-y - 1, y, 2))"
            ]
          },
          "metadata": {},
          "execution_count": 12
        }
      ]
    },
    {
      "cell_type": "markdown",
      "metadata": {
        "id": "B5QUx-VnCUW2"
      },
      "source": [
        "### System of equations form"
      ]
    },
    {
      "cell_type": "code",
      "metadata": {
        "colab": {
          "base_uri": "https://localhost:8080/",
          "height": 39
        },
        "id": "-W8P2mIRATe0",
        "outputId": "a44abd15-75ea-431a-f2ee-79f681563eac"
      },
      "source": [
        "# Create Sympy symbols\n",
        "x, y, z = symbols('x y z')\n",
        "\n",
        "linsolve([x + y + z - 1, x + y + 2*z - 3 ], (x, y, z))"
      ],
      "execution_count": 13,
      "outputs": [
        {
          "output_type": "execute_result",
          "data": {
            "text/latex": "$\\displaystyle \\left\\{\\left( - y - 1, \\  y, \\  2\\right)\\right\\}$",
            "text/plain": [
              "FiniteSet((-y - 1, y, 2))"
            ]
          },
          "metadata": {},
          "execution_count": 13
        }
      ]
    },
    {
      "cell_type": "markdown",
      "metadata": {
        "id": "opE6yS2bC2YN"
      },
      "source": [
        "### $A.x=b$ form"
      ]
    },
    {
      "cell_type": "code",
      "metadata": {
        "colab": {
          "base_uri": "https://localhost:8080/",
          "height": 57
        },
        "id": "0JOyNDpwA-zP",
        "outputId": "b98f6264-024a-4bb8-cb50-61d4bc564b8f"
      },
      "source": [
        "M = sympy.Matrix([\n",
        "                  [1,1,1,1],\n",
        "                  [1,1,2,3]\n",
        "])\n",
        "\n",
        "M"
      ],
      "execution_count": 14,
      "outputs": [
        {
          "output_type": "execute_result",
          "data": {
            "text/latex": "$\\displaystyle \\left[\\begin{matrix}1 & 1 & 1 & 1\\\\1 & 1 & 2 & 3\\end{matrix}\\right]$",
            "text/plain": [
              "Matrix([\n",
              "[1, 1, 1, 1],\n",
              "[1, 1, 2, 3]])"
            ]
          },
          "metadata": {},
          "execution_count": 14
        }
      ]
    },
    {
      "cell_type": "code",
      "metadata": {
        "colab": {
          "base_uri": "https://localhost:8080/"
        },
        "id": "VKLXeATBC-bk",
        "outputId": "1f580eae-811b-427d-d88a-f86b92fa2b9d"
      },
      "source": [
        "system = A, b = M[:, :-1], M[:, -1]\n",
        "\n",
        "print(A)\n",
        "print(b)\n",
        "print(system)"
      ],
      "execution_count": 15,
      "outputs": [
        {
          "output_type": "stream",
          "name": "stdout",
          "text": [
            "Matrix([[1, 1, 1], [1, 1, 2]])\n",
            "Matrix([[1], [3]])\n",
            "(Matrix([\n",
            "[1, 1, 1],\n",
            "[1, 1, 2]]), Matrix([\n",
            "[1],\n",
            "[3]]))\n"
          ]
        }
      ]
    },
    {
      "cell_type": "code",
      "metadata": {
        "colab": {
          "base_uri": "https://localhost:8080/",
          "height": 39
        },
        "id": "eZ1Q7ePGENVT",
        "outputId": "757c75ed-1139-4652-ebb5-6a62eafc2d7b"
      },
      "source": [
        "linsolve(system, x, y, z)"
      ],
      "execution_count": 16,
      "outputs": [
        {
          "output_type": "execute_result",
          "data": {
            "text/latex": "$\\displaystyle \\left\\{\\left( - y - 1, \\  y, \\  2\\right)\\right\\}$",
            "text/plain": [
              "FiniteSet((-y - 1, y, 2))"
            ]
          },
          "metadata": {},
          "execution_count": 16
        }
      ]
    },
    {
      "cell_type": "markdown",
      "metadata": {
        "id": "e01PJch5CPrn"
      },
      "source": [
        "---\n",
        "# Solving linear system of equations\n",
        "\n",
        "$A.x = b$\n",
        "\n",
        "We can use Gaussian elimination to solve the system of equations. However the time complexity of performing Gaussian Elimination is $O(n_3)$.  \n",
        "\n",
        "If $A$ is a suare matrix, then there are couple of approximation techniques that can be used to speed up the solution."
      ]
    },
    {
      "cell_type": "code",
      "metadata": {
        "colab": {
          "base_uri": "https://localhost:8080/"
        },
        "id": "1nVsnUAwCwWr",
        "outputId": "90bcf2d4-382c-49ca-c490-77bb802f3f42"
      },
      "source": [
        "import numpy as np\n",
        "\n",
        "A = np.array([\n",
        "             [3,2,1],\n",
        "             [1,4,4],\n",
        "             [3,2,8]\n",
        "])\n",
        "\n",
        "b = np.array([\n",
        "              [8],\n",
        "              [13],\n",
        "              [15]\n",
        "])\n",
        "\n",
        "print(A)\n",
        "print(b)"
      ],
      "execution_count": 17,
      "outputs": [
        {
          "output_type": "stream",
          "name": "stdout",
          "text": [
            "[[3 2 1]\n",
            " [1 4 4]\n",
            " [3 2 8]]\n",
            "[[ 8]\n",
            " [13]\n",
            " [15]]\n"
          ]
        }
      ]
    },
    {
      "cell_type": "markdown",
      "metadata": {
        "id": "ZFd3twryCPi5"
      },
      "source": [
        "## Jacobi Iterations\n",
        "\n",
        "$A = D + E$   \n",
        "\n",
        "$A$ : (m * m) matrix  \n",
        "$D$ : (m * m) matrix containing only diagonal elements of A  \n",
        "$E$ : (m * m) matrix containing only non-diagonal elements of A\n",
        "\n",
        "\n",
        "### Derivation\n",
        "$b = Ax$  \n",
        "$b = (D + E) x$  \n",
        "$b = Dx + Ex$  \n",
        "$Dx = -Ex + b$  \n",
        "$x = -D^{-1}Ex + D^{-1}b$  \n",
        "\n",
        "\n",
        "### Algorithm\n",
        "\n",
        "- Initialize:\n",
        "  $x = x_0$\n",
        "\n",
        "- For kth iteration  \n",
        "    $x_i^{k+1} = -\\frac{1}{A_{ii}} (\\sum\\limits_{j \\neq i} A_{ij} - b_i)$\n",
        "\n",
        "- Find error\n",
        "    \n"
      ]
    },
    {
      "cell_type": "code",
      "metadata": {
        "id": "4pVGehSLGGwC"
      },
      "source": [
        "# Implement here"
      ],
      "execution_count": 18,
      "outputs": []
    },
    {
      "cell_type": "markdown",
      "metadata": {
        "id": "B79il6IBkh9S"
      },
      "source": [
        "# Solving $|| b - Ax ||$\n",
        "\n",
        "## Steepest Descent\n",
        "### Theory\n",
        "- https://towardsdatascience.com/descent-method-steepest-descent-and-conjugate-gradient-math-explained-78601d8df3ce\n",
        "- https://sophiamyang.medium.com/descent-method-steepest-descent-and-conjugate-gradient-in-python-85aa4c4aac7b\n",
        "\n",
        "### Algorithm\n",
        "- Initialize\n",
        "      x(0) = 0\n",
        "\n",
        "- For `k=1` to `max_iter`:\n",
        "      1. Find the residue at current position\n",
        "         r(k) = b - Ax(k)\n",
        "\n",
        "      2. Update step size α\n",
        "         α = ( r(k).T x r(k) ) / ( r(k).T x A x r(k) )\n",
        "\n",
        "      3. Take a step of size α in the direction of steepest descent \n",
        "         x(k+1) = x(k) + α r(k)\n",
        "  End\n"
      ]
    },
    {
      "cell_type": "code",
      "metadata": {
        "id": "FEZpbYvmGIcv"
      },
      "source": [
        "def my_steepest_descent(A, b, max_iter=100):\n",
        "  \"\"\"\n",
        "  A -> m x m\n",
        "  b -> m x 1\n",
        "  \"\"\"\n",
        "\n",
        "  # Get shapes. NOTE: A is a square matrix\n",
        "  m, m = A.shape\n",
        "\n",
        "  # Intialize. Since Ax = b => Shape(x) = m x 1, such that A(m,m)x(m,1) = b(m,1)\n",
        "  x = np.zeros(shape=m)\n",
        "\n",
        "  for i in range(max_iter):\n",
        "    # Find residue. NOTE: Shape(r) = Shape(b) = Shape(Ax) = (m,1).\n",
        "    r = b - A @ x\n",
        "\n",
        "    # Step size. \n",
        "    \"\"\"\n",
        "    NOTE: As Shape(r) = (m,1) \n",
        "          => Shape(r.T) = (1,m)\n",
        "          => Shape(r.T @ r) = (1,1)\n",
        "        And  Shape(r.T @ A) = (1,m)\n",
        "          => Shape(r.T @A @ r) = (1,m) x (m,1) = (1,1)\n",
        "          => Shape(alpha) = (1,1)\n",
        "    \"\"\"\n",
        "    alpha = (r.T @ r) / (r.T @ A @ r)\n",
        "\n",
        "    # Update step\n",
        "    x = x + alpha * r\n",
        "\n",
        "  return x"
      ],
      "execution_count": 19,
      "outputs": []
    },
    {
      "cell_type": "markdown",
      "metadata": {
        "id": "1G4X3kfqr3Yx"
      },
      "source": [
        "### Evaluating"
      ]
    },
    {
      "cell_type": "code",
      "metadata": {
        "colab": {
          "base_uri": "https://localhost:8080/"
        },
        "id": "PeoXIhbxnmjL",
        "outputId": "ccaa7816-2d70-4d17-92fb-6fe7c4af8c7f"
      },
      "source": [
        "A = np.array([\n",
        "             [3,2,1],\n",
        "             [1,4,4],\n",
        "             [3,2,8]\n",
        "])\n",
        "\n",
        "np.random.seed(7)\n",
        "\n",
        "b = np.random.standard_normal(size=(3))\n",
        "\n",
        "print(A)\n",
        "print(A.shape)\n",
        "print(b)\n",
        "print(b.shape)"
      ],
      "execution_count": 20,
      "outputs": [
        {
          "output_type": "stream",
          "name": "stdout",
          "text": [
            "[[3 2 1]\n",
            " [1 4 4]\n",
            " [3 2 8]]\n",
            "(3, 3)\n",
            "[ 1.6905257  -0.46593737  0.03282016]\n",
            "(3,)\n"
          ]
        }
      ]
    },
    {
      "cell_type": "markdown",
      "metadata": {
        "id": "xoKji5Gar0He"
      },
      "source": [
        "Calling the steepest decent implementation function..."
      ]
    },
    {
      "cell_type": "code",
      "metadata": {
        "colab": {
          "base_uri": "https://localhost:8080/"
        },
        "id": "csNQggvGnn1N",
        "outputId": "8985ed1a-401d-4b48-bbb9-7fb7a2611502"
      },
      "source": [
        "x = my_steepest_descent(A,b)\n",
        "print(x)"
      ],
      "execution_count": 21,
      "outputs": [
        {
          "output_type": "stream",
          "name": "stdout",
          "text": [
            "[ 0.67467172 -0.0483372  -0.23681508]\n"
          ]
        }
      ]
    },
    {
      "cell_type": "markdown",
      "metadata": {
        "id": "qkmZ5xn4sHN9"
      },
      "source": [
        "This `x` should be the solution to `Ax = b`.\n",
        "\n",
        "We can verify this by multiplying `A` and calculated `x` to check if we get back `b`. Ideally we should get back `b`, but since this solution is obtained through approximation, the value of `Ax` may not be exactly be equal to `b` but would be close enough."
      ]
    },
    {
      "cell_type": "code",
      "metadata": {
        "colab": {
          "base_uri": "https://localhost:8080/"
        },
        "id": "quV4lg_erYwE",
        "outputId": "6c8839ae-b6ab-46b2-8eaf-ea576bf70dfd"
      },
      "source": [
        "A @ x"
      ],
      "execution_count": 22,
      "outputs": [
        {
          "output_type": "execute_result",
          "data": {
            "text/plain": [
              "array([ 1.6905257 , -0.46593737,  0.03282016])"
            ]
          },
          "metadata": {},
          "execution_count": 22
        }
      ]
    },
    {
      "cell_type": "markdown",
      "metadata": {
        "id": "HA6MZ0N1tBUK"
      },
      "source": [
        "---\n",
        "\n",
        "# Steepest Descent continued...\n",
        "Our previous implementation of steepest descent required that the given system of equations should be determined, that is, $A$ should be a square matrix.\n",
        "\n",
        "However, we may have over-determined (Tall $A_{m,n}$ ;  $m > n$) or under-determined (Wide $A_{m,n}$ ;  $m < n$) systems.\n",
        "\n",
        "Hence, we will have to tweak our system $b=Ax$ such that, $A$ becomes a square matrix, and we can use the same solver(or function) for steepest descent that we used for determined system."
      ]
    },
    {
      "cell_type": "markdown",
      "metadata": {
        "id": "5Q4Pg0K7uPVt"
      },
      "source": [
        "## Steepest descent for overdetermined system\n",
        "For overdetermined system, $A_{m,n}$ such that $m>n$.  \n",
        "\n",
        "$b_{m,1} = A_{m,n} x_{n,1}$\n",
        "\n",
        "> $Ax = b$  \n",
        "Multiply $A^T$ on both sides  \n",
        "$A^T Ax = A^Tb$  \n",
        "\n",
        "**Note**: $A$ = (m,n) => $A^T$ = (n,m) => $A^T A$ = (m,m)  \n",
        "We successfully converted $A$ to a square matrix by multiplying it with $A^T$.\n",
        "\n",
        "\n",
        "So for square systems,  \n",
        "```\n",
        "x = my_steepest_gradient(A, b)\n",
        "```\n",
        "\n",
        "But if A is not square,\n",
        "```\n",
        "x = my_steepest_gradient(A.T @ A, A.T @ b)\n",
        "```"
      ]
    },
    {
      "cell_type": "markdown",
      "metadata": {
        "id": "thxmdFPCxjJq"
      },
      "source": [
        "### Evaluating"
      ]
    },
    {
      "cell_type": "code",
      "metadata": {
        "colab": {
          "base_uri": "https://localhost:8080/"
        },
        "id": "1e3h8i0dskGB",
        "outputId": "5136c45b-05cf-4f45-8b0b-e69ff3bf2f8b"
      },
      "source": [
        "A_under = np.array([\n",
        "             [3,2,1,2],\n",
        "             [1,4,4,5],\n",
        "             [3,2,8,1]\n",
        "])\n",
        "\n",
        "np.random.seed(7)\n",
        "\n",
        "b = np.random.standard_normal(size=(3))\n",
        "\n",
        "print(A_under)\n",
        "print(A_under.shape)\n",
        "print(b)\n",
        "print(b.shape)"
      ],
      "execution_count": 23,
      "outputs": [
        {
          "output_type": "stream",
          "name": "stdout",
          "text": [
            "[[3 2 1 2]\n",
            " [1 4 4 5]\n",
            " [3 2 8 1]]\n",
            "(3, 4)\n",
            "[ 1.6905257  -0.46593737  0.03282016]\n",
            "(3,)\n"
          ]
        }
      ]
    },
    {
      "cell_type": "code",
      "metadata": {
        "colab": {
          "base_uri": "https://localhost:8080/"
        },
        "id": "iMzGt1MLxS6g",
        "outputId": "9b8be12f-13d2-44b2-e6b8-94d68dad30ea"
      },
      "source": [
        "x = my_steepest_descent(A_under.T @ A_under, A_under.T @ b)\n",
        "print(x)"
      ],
      "execution_count": 24,
      "outputs": [
        {
          "output_type": "stream",
          "name": "stdout",
          "text": [
            "[ 0.65783421  0.04703677 -0.24616324 -0.0654519 ]\n"
          ]
        }
      ]
    },
    {
      "cell_type": "markdown",
      "metadata": {
        "id": "ynaPlrr6xlsw"
      },
      "source": [
        "Verifying that $Ax$ indeed produces value approximately equal to $b$"
      ]
    },
    {
      "cell_type": "code",
      "metadata": {
        "colab": {
          "base_uri": "https://localhost:8080/"
        },
        "id": "CVDou95BxgKJ",
        "outputId": "871c770f-b019-4c7d-f461-17b489d0572b"
      },
      "source": [
        "A_under @ x"
      ],
      "execution_count": 25,
      "outputs": [
        {
          "output_type": "execute_result",
          "data": {
            "text/plain": [
              "array([ 1.69050914, -0.46593115,  0.03281839])"
            ]
          },
          "metadata": {},
          "execution_count": 25
        }
      ]
    },
    {
      "cell_type": "code",
      "metadata": {
        "colab": {
          "base_uri": "https://localhost:8080/"
        },
        "id": "z8A2j5t3Bznw",
        "outputId": "d912f08f-6cdf-4ec0-8d31-fdc54873fb50"
      },
      "source": [
        "A_over = np.array([\n",
        "             [3,2,1],\n",
        "             [1,4,4],\n",
        "             [3,2,8],\n",
        "             [6,4,2]\n",
        "])\n",
        "\n",
        "b = np.array([10, 21, 31, 20])\n",
        "\n",
        "print(A_over)\n",
        "print(A_over.shape)\n",
        "print(b)\n",
        "print(b.shape)"
      ],
      "execution_count": 26,
      "outputs": [
        {
          "output_type": "stream",
          "name": "stdout",
          "text": [
            "[[3 2 1]\n",
            " [1 4 4]\n",
            " [3 2 8]\n",
            " [6 4 2]]\n",
            "(4, 3)\n",
            "[10 21 31 20]\n",
            "(4,)\n"
          ]
        }
      ]
    },
    {
      "cell_type": "code",
      "metadata": {
        "colab": {
          "base_uri": "https://localhost:8080/"
        },
        "id": "MLn-RK-KB_9F",
        "outputId": "f30105ae-d9ef-4f44-969d-0d7af8675431"
      },
      "source": [
        "x = my_steepest_descent(A_over.T @ A_over, A_over.T @ b)\n",
        "print(x)"
      ],
      "execution_count": 27,
      "outputs": [
        {
          "output_type": "stream",
          "name": "stdout",
          "text": [
            "[1.00005144 1.99991709 3.00000982]\n"
          ]
        }
      ]
    },
    {
      "cell_type": "markdown",
      "metadata": {
        "id": "SW895MkZCmmA"
      },
      "source": [
        "Verifying that indeed A.x gives b"
      ]
    },
    {
      "cell_type": "code",
      "metadata": {
        "colab": {
          "base_uri": "https://localhost:8080/"
        },
        "id": "VVTa8ZeDClat",
        "outputId": "07864577-68b5-409b-ac2e-6384307d66eb"
      },
      "source": [
        "A_over @ x"
      ],
      "execution_count": 28,
      "outputs": [
        {
          "output_type": "execute_result",
          "data": {
            "text/plain": [
              "array([ 9.99999831, 20.99975907, 31.00006701, 19.99999661])"
            ]
          },
          "metadata": {},
          "execution_count": 28
        }
      ]
    },
    {
      "cell_type": "markdown",
      "metadata": {
        "id": "auj02aD6zeEU"
      },
      "source": [
        "---\n",
        "---"
      ]
    },
    {
      "cell_type": "markdown",
      "metadata": {
        "id": "vHawVrl_6dI_"
      },
      "source": [
        "## Conjugate Gradient\n",
        "\n",
        "The steepest descent method is great that we minimize the function in the direction of each step. But it doesn’t guarantee that the direction we are going to minimize the function from all the previous directions.\n",
        "\n",
        "Directions p are A conjugate directions if they have the following property (note A is symmetric positive definite):\n",
        "\n",
        "> $P_0, P_1, P_2... P_{k-1}$, such that   \n",
        "$P_i^T A P_i = 0$ for $i \\ne j$\n",
        "\n",
        "Only when the current direction p is A conjugate to all the previous directions, will the next data point minimize the function in the span of all previous directions.\n"
      ]
    },
    {
      "cell_type": "markdown",
      "metadata": {
        "id": "BlJ7b3m79E0j"
      },
      "source": [
        "### Calculating A conjugate\n",
        "Remember that the steepest descent chose the steepest slope, which is also the residual (r) at each step. And we know that this is a good choice. How about we find an A-conjugate direction that’s the closest to the direction of the steepest descent, i.e., we minimize the 2-norm of the vector (r-p).\n",
        "\n",
        "Current direction  = Current Residual + Last direction  \n",
        "$P_{k} = r_k + \\gamma_k P_{k-1}$\n",
        "\n",
        "Because of the property of A-conjugate directions:\n",
        "$P_i^T A P_i = 0$\n",
        "\n",
        "We can then calculate $\\gamma_k$ as :\n",
        "\n",
        "$P_{k-1}^T A \\gamma_k + \\gamma P_{k-1}^T A P_{k-1} = 0$\n",
        "\n",
        "Hence,  \n",
        "> $\\gamma_k = - \\frac{P_{k-1}^T A \\gamma_k}{P_{k-1}^T A P_{k-1}} $  \n"
      ]
    },
    {
      "cell_type": "code",
      "metadata": {
        "id": "altd6l1l__QC"
      },
      "source": [
        "from numpy import linalg as LA"
      ],
      "execution_count": 29,
      "outputs": []
    },
    {
      "cell_type": "code",
      "metadata": {
        "id": "TVXHtplVAGLY"
      },
      "source": [
        "def is_pos_def(x):\n",
        "  \"\"\"check if a matrix is symmetric positive definite\"\"\"\n",
        "  return np.all(np.linalg.eigvals(x) > 0)"
      ],
      "execution_count": 30,
      "outputs": []
    },
    {
      "cell_type": "code",
      "metadata": {
        "id": "OjnqsQhJxt6B"
      },
      "source": [
        "def my_conjugate_gradient(A, b):\n",
        "  # if (is_pos_def(A) == False) | (A != A.T).any():\n",
        "    # raise ValueError('Matrix A needs to be symmetric positive definite (SPD)')\n",
        "  \n",
        "  # Initialize\n",
        "  p = r = b\n",
        "  k = 0\n",
        "  x = np.zeros(A.shape[-1])\n",
        "\n",
        "  # Can iterate for fixed number of times or until residue drops below threshold\n",
        "  while LA.norm(r) > 1e-10 :\n",
        "    if k == 0:\n",
        "      pass\n",
        "    else: \n",
        "      gamma = - (p @ A @ r)/(p @ A @ p)\n",
        "      p = r + gamma * p\n",
        "    \n",
        "    # Calculate step size\n",
        "    alpha = (p @ r) / (p @ A @ p)\n",
        "\n",
        "    # Update step\n",
        "    x = x + alpha * p\n",
        "    # Update residue for next iteration\n",
        "    r = r - alpha * (A @ p)\n",
        "    k =+ 1\n",
        "  return x"
      ],
      "execution_count": 31,
      "outputs": []
    },
    {
      "cell_type": "markdown",
      "metadata": {
        "id": "e_9PpbWuAlB-"
      },
      "source": [
        "### Evaluate"
      ]
    },
    {
      "cell_type": "code",
      "metadata": {
        "colab": {
          "base_uri": "https://localhost:8080/"
        },
        "id": "I__7MxYRAv-l",
        "outputId": "931c1ed5-9f2e-4139-d2cb-59bfa41b5adb"
      },
      "source": [
        "A = np.array([\n",
        "              [3,2],\n",
        "              [2,3]\n",
        "])\n",
        "\n",
        "b = np.array([-2, 7])\n",
        "\n",
        "print(A)\n",
        "print(A.shape)\n",
        "print(b)\n",
        "print(b.shape)"
      ],
      "execution_count": 32,
      "outputs": [
        {
          "output_type": "stream",
          "name": "stdout",
          "text": [
            "[[3 2]\n",
            " [2 3]]\n",
            "(2, 2)\n",
            "[-2  7]\n",
            "(2,)\n"
          ]
        }
      ]
    },
    {
      "cell_type": "code",
      "metadata": {
        "colab": {
          "base_uri": "https://localhost:8080/"
        },
        "id": "yH9L7upuARGH",
        "outputId": "8975e4a8-539d-4c70-f830-368b10c41200"
      },
      "source": [
        "x = my_conjugate_gradient(A.T @ A, A.T @ b)\n",
        "print(x)"
      ],
      "execution_count": 33,
      "outputs": [
        {
          "output_type": "stream",
          "name": "stdout",
          "text": [
            "[-4.  5.]\n"
          ]
        }
      ]
    },
    {
      "cell_type": "markdown",
      "metadata": {
        "id": "2RLx2_RNC2ZL"
      },
      "source": [
        "Verifying..."
      ]
    },
    {
      "cell_type": "code",
      "metadata": {
        "colab": {
          "base_uri": "https://localhost:8080/"
        },
        "id": "fmBeNun-C4yx",
        "outputId": "0fe613ff-5627-4634-f8ee-d4db8d4bbf01"
      },
      "source": [
        "A @ x"
      ],
      "execution_count": 34,
      "outputs": [
        {
          "output_type": "execute_result",
          "data": {
            "text/plain": [
              "array([-2.,  7.])"
            ]
          },
          "metadata": {},
          "execution_count": 34
        }
      ]
    },
    {
      "cell_type": "markdown",
      "metadata": {
        "id": "Gg1k-1wdBBud"
      },
      "source": [
        "If A is an overdetermined system"
      ]
    },
    {
      "cell_type": "code",
      "metadata": {
        "colab": {
          "base_uri": "https://localhost:8080/"
        },
        "id": "l7hMjTzJAUSU",
        "outputId": "e2ccc273-3a38-454a-e330-ebed867a1199"
      },
      "source": [
        "A_over = np.array([\n",
        "             [3,2,1],\n",
        "             [1,4,4],\n",
        "             [3,2,8],\n",
        "             [6,4,2]\n",
        "])\n",
        "\n",
        "b = np.array([10, 21, 31, 20])\n",
        "\n",
        "print(A_over)\n",
        "print(A_over.shape)\n",
        "print(b)\n",
        "print(b.shape)"
      ],
      "execution_count": 35,
      "outputs": [
        {
          "output_type": "stream",
          "name": "stdout",
          "text": [
            "[[3 2 1]\n",
            " [1 4 4]\n",
            " [3 2 8]\n",
            " [6 4 2]]\n",
            "(4, 3)\n",
            "[10 21 31 20]\n",
            "(4,)\n"
          ]
        }
      ]
    },
    {
      "cell_type": "code",
      "metadata": {
        "colab": {
          "base_uri": "https://localhost:8080/"
        },
        "id": "uLOcZjL1DHGS",
        "outputId": "e9fc6083-4bb9-4ba0-a50e-5c63e5c935be"
      },
      "source": [
        "x = my_conjugate_gradient(A_over.T @ A_over, A_over.T @ b)\n",
        "print(x)"
      ],
      "execution_count": 36,
      "outputs": [
        {
          "output_type": "stream",
          "name": "stdout",
          "text": [
            "[1. 2. 3.]\n"
          ]
        }
      ]
    },
    {
      "cell_type": "markdown",
      "metadata": {
        "id": "tSNloxzfDWLX"
      },
      "source": [
        "Verifying..."
      ]
    },
    {
      "cell_type": "code",
      "metadata": {
        "colab": {
          "base_uri": "https://localhost:8080/"
        },
        "id": "KJNdOEMTDUcG",
        "outputId": "c5c22e95-4900-436e-d89d-c45f8e3577f8"
      },
      "source": [
        "A_over @ x"
      ],
      "execution_count": 37,
      "outputs": [
        {
          "output_type": "execute_result",
          "data": {
            "text/plain": [
              "array([10., 21., 31., 20.])"
            ]
          },
          "metadata": {},
          "execution_count": 37
        }
      ]
    },
    {
      "cell_type": "markdown",
      "metadata": {
        "id": "nTj5BfvTEuXt"
      },
      "source": [
        "If A is an underdetermined system"
      ]
    },
    {
      "cell_type": "code",
      "metadata": {
        "colab": {
          "base_uri": "https://localhost:8080/"
        },
        "id": "FJ_WM8AwDYnK",
        "outputId": "e9889cb7-d2a5-4a1d-9b31-53369ec6f93f"
      },
      "source": [
        "A_under = np.array([\n",
        "             [3,2,1,2],\n",
        "             [1,4,4,5],\n",
        "             [3,2,8,1]\n",
        "])\n",
        "\n",
        "np.random.seed(7)\n",
        "\n",
        "b = np.array([12, 26, 32])\n",
        "\n",
        "print(A_under)\n",
        "print(A_under.shape)\n",
        "print(b)\n",
        "print(b.shape)"
      ],
      "execution_count": 38,
      "outputs": [
        {
          "output_type": "stream",
          "name": "stdout",
          "text": [
            "[[3 2 1 2]\n",
            " [1 4 4 5]\n",
            " [3 2 8 1]]\n",
            "(3, 4)\n",
            "[12 26 32]\n",
            "(3,)\n"
          ]
        }
      ]
    },
    {
      "cell_type": "code",
      "metadata": {
        "colab": {
          "base_uri": "https://localhost:8080/"
        },
        "id": "7zmD1zBbFTIZ",
        "outputId": "d8d75b28-49fd-439e-b39a-e2f52a12c430"
      },
      "source": [
        "x = my_conjugate_gradient(A_under.T @ A_under, A_under.T @b)\n",
        "print(x)"
      ],
      "execution_count": 39,
      "outputs": [
        {
          "output_type": "stream",
          "name": "stdout",
          "text": [
            "[1.09842319 1.44226857 3.05467955 1.38275687]\n"
          ]
        }
      ]
    },
    {
      "cell_type": "markdown",
      "metadata": {
        "id": "olMtBIg4G_oa"
      },
      "source": [
        "Veriying..."
      ]
    },
    {
      "cell_type": "code",
      "metadata": {
        "colab": {
          "base_uri": "https://localhost:8080/"
        },
        "id": "Q_FeDNTnFbpi",
        "outputId": "da8a8274-ab2f-4418-8ed5-479c7ae7ae47"
      },
      "source": [
        "A_under @ x"
      ],
      "execution_count": 40,
      "outputs": [
        {
          "output_type": "execute_result",
          "data": {
            "text/plain": [
              "array([12., 26., 32.])"
            ]
          },
          "metadata": {},
          "execution_count": 40
        }
      ]
    },
    {
      "cell_type": "markdown",
      "metadata": {
        "id": "Eu5XdZhcHC5A"
      },
      "source": [
        "---\n",
        "---"
      ]
    },
    {
      "cell_type": "markdown",
      "metadata": {
        "id": "4ddCuHkQTk8Q"
      },
      "source": [
        "# Weighted Least Squares Solver"
      ]
    },
    {
      "cell_type": "code",
      "metadata": {
        "id": "eoqjUHaWT7Mw"
      },
      "source": [
        "import numpy as np"
      ],
      "execution_count": 41,
      "outputs": []
    },
    {
      "cell_type": "markdown",
      "metadata": {
        "id": "7-BbcIrDVtjt"
      },
      "source": [
        "Least squares solver.\n",
        "\n",
        "Solves for $Ax=b$. \n",
        "\n",
        "If A is square and full rank (that is the system is well-determined), then `np.linalg.lstsq` returns the exact solution. \n",
        "\n",
        "Else, if the system is overdetermined or under-determined, then approximate solution is computed by minimizing the L2 Norm of $\\epsilon$, that is,   \n",
        "$min_x || \\epsilon ||_2$  \n",
        "$=min_x || b - Ax ||_2$"
      ]
    },
    {
      "cell_type": "code",
      "metadata": {
        "id": "_taEJbc6HDdj"
      },
      "source": [
        "def least_squares_solver(A, b):\n",
        "  # Using Numpy\n",
        "  x_np, residuals, rank, singular  = np.linalg.lstsq(A, b)\n",
        "\n",
        "  return x_np, residuals, rank, singular"
      ],
      "execution_count": 42,
      "outputs": []
    },
    {
      "cell_type": "markdown",
      "metadata": {
        "id": "hrqXFJ0TXADp"
      },
      "source": [
        "To compute Weighted Least Squares, we simply pass in the weighted matrices\n",
        "\n",
        "Solution to $Ax=b$ can be found by minimizing $=min_x || b - Ax ||_2$ in `LS(A, b)`, where `LS` represents any least squares solver such as steepest descent or conjugate gradient..\n",
        "\n",
        "But to solve \n",
        "$min_x ||W( b - Ax ) ||_2$  \n",
        "$= min_x ||Wb - WAx ) ||_2$\n",
        "\n",
        "So simply use `LS(WA, Wb)` to solve the system, where `LS` still represents the same linear solver."
      ]
    },
    {
      "cell_type": "markdown",
      "metadata": {
        "id": "TYmVsPHoYVqB"
      },
      "source": [
        "### Iteratively Reweighted Least Squares (IRLS)\n",
        "\n",
        "Using Numpy's approximate least squares solver for fixed number of iterations."
      ]
    },
    {
      "cell_type": "code",
      "metadata": {
        "id": "TvnqZ3HMC4lU"
      },
      "source": [
        "import numpy as np"
      ],
      "execution_count": 43,
      "outputs": []
    },
    {
      "cell_type": "code",
      "metadata": {
        "id": "kteW43GtVo_A"
      },
      "source": [
        "def my_IRLS(A, b, max_iter=100):\n",
        "  # Get dimensions\n",
        "  m, n = A.shape # A is (m,n)\n",
        "\n",
        "  # Initialize\n",
        "  W = np.eye(n)\n",
        "  print(W.shape)\n",
        "\n",
        "  for i in range(max_iter):\n",
        "    # Solve\n",
        "    x,_,_,_ = np.linalg.lstsq(W @ (A.T @ A), W @ (A.T @ b))\n",
        "\n",
        "    # Update weights\n",
        "    W = np.fill_diagonal(W, 1/np.sqrt(x))\n",
        "\n",
        "  return x"
      ],
      "execution_count": 44,
      "outputs": []
    },
    {
      "cell_type": "code",
      "metadata": {
        "id": "OnHJTdjTETVF"
      },
      "source": [
        "def my_IRLS(A, b, max_iter=100, delta=0.001):\n",
        "  # Get dimensions\n",
        "  m = A.shape[0] # A is (m,m)\n",
        "\n",
        "  # Initialize\n",
        "  W = np.eye(m)\n",
        "\n",
        "  for i in range(max_iter):\n",
        "    # Solve\n",
        "    x,_,_,_ = np.linalg.lstsq(W @ A, W @ b, rcond=None)\n",
        "\n",
        "    # Update weights\n",
        "    np.fill_diagonal(W, 1/np.sqrt(b - A @ x + delta))\n",
        "    # a small delta is added because b-Ax can yeild very small negative values.\n",
        "    # Adding delta ensures that everythign inside sqrt remains +ve\n",
        "\n",
        "  return x"
      ],
      "execution_count": 45,
      "outputs": []
    },
    {
      "cell_type": "markdown",
      "metadata": {
        "id": "rZdLsObNU61m"
      },
      "source": [
        "#### For a determined system"
      ]
    },
    {
      "cell_type": "code",
      "metadata": {
        "colab": {
          "base_uri": "https://localhost:8080/"
        },
        "id": "XcAQkbP5EcLF",
        "outputId": "b330585b-ec78-4363-ddc2-ea99f3ea8f62"
      },
      "source": [
        "A = np.array([\n",
        "              [3,2],\n",
        "              [2,3]\n",
        "])\n",
        "\n",
        "b = np.array([-2, 7])\n",
        "\n",
        "print(A)\n",
        "print(A.shape)\n",
        "print(b)\n",
        "print(b.shape)"
      ],
      "execution_count": 46,
      "outputs": [
        {
          "output_type": "stream",
          "name": "stdout",
          "text": [
            "[[3 2]\n",
            " [2 3]]\n",
            "(2, 2)\n",
            "[-2  7]\n",
            "(2,)\n"
          ]
        }
      ]
    },
    {
      "cell_type": "code",
      "metadata": {
        "colab": {
          "base_uri": "https://localhost:8080/"
        },
        "id": "dKSfCO4pEiF9",
        "outputId": "0c4d3db3-0873-431c-e1f2-98de7580d286"
      },
      "source": [
        "x = my_IRLS(A, b)\n",
        "print(x)"
      ],
      "execution_count": 47,
      "outputs": [
        {
          "output_type": "stream",
          "name": "stdout",
          "text": [
            "[-4.  5.]\n"
          ]
        }
      ]
    },
    {
      "cell_type": "markdown",
      "metadata": {
        "id": "9pImy4zZjrEG"
      },
      "source": [
        "Verifying..."
      ]
    },
    {
      "cell_type": "code",
      "metadata": {
        "colab": {
          "base_uri": "https://localhost:8080/"
        },
        "id": "enQ99ifDjsbE",
        "outputId": "9b7fbcec-827a-4c7e-deaa-386c8cc331ee"
      },
      "source": [
        "print(b)\n",
        "print(A @ x)"
      ],
      "execution_count": 48,
      "outputs": [
        {
          "output_type": "stream",
          "name": "stdout",
          "text": [
            "[-2  7]\n",
            "[-2.  7.]\n"
          ]
        }
      ]
    },
    {
      "cell_type": "markdown",
      "metadata": {
        "id": "g60gB1NEjws5"
      },
      "source": [
        "#### Over-determined system"
      ]
    },
    {
      "cell_type": "code",
      "metadata": {
        "colab": {
          "base_uri": "https://localhost:8080/"
        },
        "id": "GpGHNxaBahs4",
        "outputId": "f8b75b31-3430-4c39-e163-31659212294f"
      },
      "source": [
        "A_over = np.array([\n",
        "             [3,2,1],\n",
        "             [1,4,4],\n",
        "             [3,2,8],\n",
        "             [6,4,2]\n",
        "])\n",
        "\n",
        "b = np.array([10, 21, 31, 20])\n",
        "\n",
        "print(A_over)\n",
        "print(A_over.shape)\n",
        "print(b)\n",
        "print(b.shape)"
      ],
      "execution_count": 49,
      "outputs": [
        {
          "output_type": "stream",
          "name": "stdout",
          "text": [
            "[[3 2 1]\n",
            " [1 4 4]\n",
            " [3 2 8]\n",
            " [6 4 2]]\n",
            "(4, 3)\n",
            "[10 21 31 20]\n",
            "(4,)\n"
          ]
        }
      ]
    },
    {
      "cell_type": "markdown",
      "metadata": {
        "id": "4moONgQ5k6TM"
      },
      "source": [
        "If our least squares solver `LS` is only capable of solving determined systems (that is when A is a square matrix), we tweak our inputs to the solver as \n",
        "\n",
        "$x = LS (A, b) \\mid A_{m,m}$  \n",
        "\n",
        "If our $A$ is over-determined or underdetermined, we input   \n",
        "$x = LS (A^T A, A^T b) \\mid A_{m,n}$  "
      ]
    },
    {
      "cell_type": "code",
      "metadata": {
        "colab": {
          "base_uri": "https://localhost:8080/"
        },
        "id": "fQkEdzMakSYQ",
        "outputId": "3cf9844e-d135-4137-8333-d6af557c4a35"
      },
      "source": [
        "x = my_IRLS(A_over.T @ A_over, A_over.T @ b)\n",
        "print(x)"
      ],
      "execution_count": 50,
      "outputs": [
        {
          "output_type": "stream",
          "name": "stdout",
          "text": [
            "[1. 2. 3.]\n"
          ]
        }
      ]
    },
    {
      "cell_type": "markdown",
      "metadata": {
        "id": "88juR6rukOBD"
      },
      "source": [
        "Verifying that the solution x we found indeed satisfies $Ax = b$:"
      ]
    },
    {
      "cell_type": "code",
      "metadata": {
        "colab": {
          "base_uri": "https://localhost:8080/"
        },
        "id": "bG9mI6Mykawq",
        "outputId": "c69df089-6735-4864-a781-a7d7bc9af90a"
      },
      "source": [
        "print(b)\n",
        "print(A_over @ x)"
      ],
      "execution_count": 51,
      "outputs": [
        {
          "output_type": "stream",
          "name": "stdout",
          "text": [
            "[10 21 31 20]\n",
            "[10. 21. 31. 20.]\n"
          ]
        }
      ]
    },
    {
      "cell_type": "markdown",
      "metadata": {
        "id": "2vpaFnyRmFwa"
      },
      "source": [
        "However, the Least Squares Solver that we're using from Numpy namely **`np.linalg.lstsq`** is internally capable of handling overdetermined, underdtermined and fully determined systems. So, actually we do not have to worry about first converting $A$ into a square matrix.\n",
        "\n",
        "Verifying this by simply calling `my_IRLS(A_over, b)` instead of `my_IRLS(A_over.T @ A_over, A_over.T @ b)`"
      ]
    },
    {
      "cell_type": "code",
      "metadata": {
        "colab": {
          "base_uri": "https://localhost:8080/"
        },
        "id": "EiczgXt0ayQu",
        "outputId": "60ab1633-bdee-4075-cd6f-08bfd4715457"
      },
      "source": [
        "x = my_IRLS(A_over, b)\n",
        "print(x)"
      ],
      "execution_count": 52,
      "outputs": [
        {
          "output_type": "stream",
          "name": "stdout",
          "text": [
            "[1. 2. 3.]\n"
          ]
        }
      ]
    },
    {
      "cell_type": "markdown",
      "metadata": {
        "id": "4vR1tQ7um3cq"
      },
      "source": [
        "Verifying that the solution x we found indeed satisfies $Ax=b$ :"
      ]
    },
    {
      "cell_type": "code",
      "metadata": {
        "colab": {
          "base_uri": "https://localhost:8080/"
        },
        "id": "MrriAjKrDXfg",
        "outputId": "b0ba84f0-3fdb-4f7f-8e75-916bdd1d0f64"
      },
      "source": [
        "print(b)\n",
        "print( A_over @ x )"
      ],
      "execution_count": 53,
      "outputs": [
        {
          "output_type": "stream",
          "name": "stdout",
          "text": [
            "[10 21 31 20]\n",
            "[10. 21. 31. 20.]\n"
          ]
        }
      ]
    },
    {
      "cell_type": "markdown",
      "metadata": {
        "id": "ut1JPXbmm8ve"
      },
      "source": [
        "#### Underdetermined systems"
      ]
    },
    {
      "cell_type": "code",
      "metadata": {
        "colab": {
          "base_uri": "https://localhost:8080/"
        },
        "id": "J5ysYy6PkjdS",
        "outputId": "0e468fca-86d6-4a4f-a46f-7ea301e1719f"
      },
      "source": [
        "A_under = np.array([\n",
        "             [3,2,1,2],\n",
        "             [1,4,4,5],\n",
        "             [3,2,8,1]\n",
        "])\n",
        "\n",
        "b = np.array([12, 26, 32])\n",
        "\n",
        "print(A_under.shape)\n",
        "print(b.shape)"
      ],
      "execution_count": 54,
      "outputs": [
        {
          "output_type": "stream",
          "name": "stdout",
          "text": [
            "(3, 4)\n",
            "(3,)\n"
          ]
        }
      ]
    },
    {
      "cell_type": "markdown",
      "metadata": {
        "id": "3KbGUe0PwISc"
      },
      "source": [
        "Just like the case of overdetermined systems, if the Least Squares solver is capable of solving only sqaure (fully determined) systems, then we convert the inputs $A, b$ to square matrices such that $A \\rightarrow A^T A$ and $b \\rightarrow A^T b$"
      ]
    },
    {
      "cell_type": "code",
      "metadata": {
        "colab": {
          "base_uri": "https://localhost:8080/"
        },
        "id": "WmVlH8t4v6r8",
        "outputId": "b32c9d53-fec0-4bfe-cc73-23e041fcb6c7"
      },
      "source": [
        "x = my_IRLS(A_under.T @ A_under, A_under.T @ b)\n",
        "print(x)"
      ],
      "execution_count": 55,
      "outputs": [
        {
          "output_type": "stream",
          "name": "stdout",
          "text": [
            "[1.09842319 1.44226857 3.05467955 1.38275687]\n"
          ]
        }
      ]
    },
    {
      "cell_type": "code",
      "metadata": {
        "colab": {
          "base_uri": "https://localhost:8080/"
        },
        "id": "xAzQwI3MnFjv",
        "outputId": "429e2b30-199e-4ec3-f6a5-64d0b3011ece"
      },
      "source": [
        "x = my_IRLS(A_under, b)\n",
        "print(x)"
      ],
      "execution_count": 56,
      "outputs": [
        {
          "output_type": "stream",
          "name": "stdout",
          "text": [
            "[1.09842319 1.44226857 3.05467955 1.38275687]\n"
          ]
        }
      ]
    },
    {
      "cell_type": "markdown",
      "metadata": {
        "id": "o3Nfjbs308Xa"
      },
      "source": [
        "Verifying that the solution `x` we computed indeed satisfies $Ax=b$"
      ]
    },
    {
      "cell_type": "code",
      "metadata": {
        "colab": {
          "base_uri": "https://localhost:8080/"
        },
        "id": "v6y9UNRYntsM",
        "outputId": "851d53b0-15cf-41db-9ff3-69aa4c84edd3"
      },
      "source": [
        "print(b)\n",
        "print(A_under @ x)"
      ],
      "execution_count": 57,
      "outputs": [
        {
          "output_type": "stream",
          "name": "stdout",
          "text": [
            "[12 26 32]\n",
            "[12. 26. 32.]\n"
          ]
        }
      ]
    },
    {
      "cell_type": "markdown",
      "metadata": {
        "id": "NwhCv6Hh1SJK"
      },
      "source": [
        "But since, **`np.linalg.lstsq`** is internally capable of handling overdetermined, underdtermined and fully determined systems, we do not have to worry about first converting $A$ into a square matrix."
      ]
    },
    {
      "cell_type": "code",
      "metadata": {
        "colab": {
          "base_uri": "https://localhost:8080/"
        },
        "id": "EjjrWEWpv1VQ",
        "outputId": "b631e7b9-feba-4300-a2fb-9773d4df076a"
      },
      "source": [
        "x = my_IRLS(A_under, b)\n",
        "print(x)"
      ],
      "execution_count": 58,
      "outputs": [
        {
          "output_type": "stream",
          "name": "stdout",
          "text": [
            "[1.09842319 1.44226857 3.05467955 1.38275687]\n"
          ]
        }
      ]
    },
    {
      "cell_type": "markdown",
      "metadata": {
        "id": "lLqLdWY11hnS"
      },
      "source": [
        "Verifying that the solution `x` we computed indeed satisfies $Ax=b$"
      ]
    },
    {
      "cell_type": "code",
      "metadata": {
        "colab": {
          "base_uri": "https://localhost:8080/"
        },
        "id": "n-k4WEp-1hLR",
        "outputId": "57e80804-0d9b-4858-e45f-4e620a347bbb"
      },
      "source": [
        "print(b)\n",
        "print(A_under @ x)"
      ],
      "execution_count": 59,
      "outputs": [
        {
          "output_type": "stream",
          "name": "stdout",
          "text": [
            "[12 26 32]\n",
            "[12. 26. 32.]\n"
          ]
        }
      ]
    },
    {
      "cell_type": "markdown",
      "metadata": {
        "id": "-nyN3Ztk2Ixb"
      },
      "source": [
        "---\n",
        "---"
      ]
    },
    {
      "cell_type": "markdown",
      "metadata": {
        "id": "ueePEsCR7rvV"
      },
      "source": [
        "## Langrangian\n",
        "Lagrangian can used when whenever we have to minimize a function $g(x)$ such that a condition $f(x)$ holds true\n",
        "\n",
        "**Goal:** $min_x g(x)$ such that $f(x)$\n",
        "\n",
        "This is done by:  \n",
        "1. $L(x,\\lambda) = g(x) + \\lambda f(x)$\n",
        "2. $\\triangledown_x L(x,\\lambda) = 0$\n",
        "3. $\\triangledown_\\lambda L(x,\\lambda) = 0$\n",
        "\n",
        "From (2) and (3) solve for eliminate $\\lambda$ and solve for $x$.\n",
        "\n",
        "\n",
        "---\n",
        "---"
      ]
    },
    {
      "cell_type": "markdown",
      "metadata": {
        "id": "oHk9VxBxCk6B"
      },
      "source": [
        "# Underdetermined systems\n",
        "\n",
        "Underdetermined systems have infinite many solutions. Because of the presence of free variables, those free variables can assume any value(s) thereby resulting in infinite many solutions.\n",
        "\n",
        "## Finding solutions for underdetermined systems\n",
        "Since they have infinitely many solutions, finding a solution to an underdetermined system is essentially just a search problem.\n",
        "\n",
        "This can be accomplished through a variety of ways such as\n",
        "- Minimum Energy Solution\n",
        "- Weighted minimum energy solution"
      ]
    },
    {
      "cell_type": "markdown",
      "metadata": {
        "id": "5lGYQ9BOCoaW"
      },
      "source": [
        "### Minimum Energy Solution\n",
        "Goal is to minimize $||x||_2^2$, such that $b = Ax$\n",
        "\n",
        "Since the goal is to simply find the minimum value of a function, we can use **Lagrangian**.\n"
      ]
    },
    {
      "cell_type": "code",
      "metadata": {
        "id": "N0jzKxJz5OPM"
      },
      "source": [
        "import numpy as np\n",
        "import sympy"
      ],
      "execution_count": 84,
      "outputs": []
    },
    {
      "cell_type": "markdown",
      "metadata": {
        "id": "dD9Di8D89j1k"
      },
      "source": [
        "The expression for minimum energy solution when solved using Lagrangian is:  \n",
        "\n",
        "$x = A^T (A A^T)^{-1} b$"
      ]
    },
    {
      "cell_type": "code",
      "metadata": {
        "id": "26JJize91nEB"
      },
      "source": [
        "def minimum_energy(A, b, max_iter=100):\n",
        "  x = A.T @ np.linalg.inv(A @ A.T) @ b\n",
        "  return x"
      ],
      "execution_count": 94,
      "outputs": []
    },
    {
      "cell_type": "code",
      "metadata": {
        "colab": {
          "base_uri": "https://localhost:8080/"
        },
        "id": "FL3h5ldCFT5E",
        "outputId": "fd2b46d8-fbe7-42f6-b53d-14fc1c956cd7"
      },
      "source": [
        "A_under = np.array([\n",
        "             [3,2,1,2],\n",
        "             [1,4,4,5],\n",
        "             [3,2,8,1]\n",
        "])\n",
        "\n",
        "b = np.array([12, 26, 32])\n",
        "\n",
        "print(A_under.shape)\n",
        "print((A_under @ A_under.T).shape)\n",
        "print(b.shape)"
      ],
      "execution_count": 88,
      "outputs": [
        {
          "output_type": "stream",
          "name": "stdout",
          "text": [
            "(3, 4)\n",
            "(3, 3)\n",
            "(3,)\n"
          ]
        }
      ]
    },
    {
      "cell_type": "code",
      "metadata": {
        "colab": {
          "base_uri": "https://localhost:8080/"
        },
        "id": "HtskXBo_7WZ0",
        "outputId": "3ab3c10f-691b-4df2-8c6c-fb9405e6866c"
      },
      "source": [
        "x = minimum_energy(A_under, b)\n",
        "print(x)"
      ],
      "execution_count": 96,
      "outputs": [
        {
          "output_type": "stream",
          "name": "stdout",
          "text": [
            "[1.09842319 1.44226857 3.05467955 1.38275687]\n"
          ]
        }
      ]
    },
    {
      "cell_type": "markdown",
      "metadata": {
        "id": "X2e4Ue-y9_c8"
      },
      "source": [
        "Hence, these are the values of $x$ that satisfy $Ax=b$. There are many more $x$ that would satisfy $Ax=b$, but the one that we computed has the minimum energy, that is, lowest $||x||_2^2$"
      ]
    },
    {
      "cell_type": "markdown",
      "metadata": {
        "id": "ChjWkwtg91Hg"
      },
      "source": [
        "Verifying that our solution is indeed correct..."
      ]
    },
    {
      "cell_type": "code",
      "metadata": {
        "colab": {
          "base_uri": "https://localhost:8080/"
        },
        "id": "IwaLzYy0bryi",
        "outputId": "bf38f35a-14fc-435e-eddf-b797ea2357a5"
      },
      "source": [
        "print(b)\n",
        "print(A_under @ x)"
      ],
      "execution_count": 98,
      "outputs": [
        {
          "output_type": "stream",
          "name": "stdout",
          "text": [
            "[12 26 32]\n",
            "[12. 26. 32.]\n"
          ]
        }
      ]
    },
    {
      "cell_type": "markdown",
      "metadata": {
        "id": "E4sZ-BCN-a_O"
      },
      "source": [
        "## Weighted Minimuim Energy Solution\n",
        "\n",
        "The expression for weighted minimum energy solution is:  \n",
        "\\begin{align}\n",
        "  x = M \\tilde{A}^T (\\tilde{A} \\tilde{A}^T )^{-1} b\n",
        "\\end{align}\n",
        "\n",
        "where,  \n",
        "$A$ = $(m,n)$ and $b$ = $(n,1)$  \n",
        "$W $ = Diagonal matrix of size $(n,n)$  \n",
        "\n",
        "> $M =  W^T W$  \n",
        "> $\\tilde{A} = AM$\n",
        "\n",
        "We already know that minimum energy solution to $min_x Ax=b$ was  \n",
        "$x = A^T (A A^T)^{-1} b$\n",
        "\n",
        "To solve $x = M \\tilde{A}^T (\\tilde{A} \\tilde{A}^T )^{-1} b$, we simply use the same solver by:  \n",
        "\n",
        "> $t$ = minenergy $(\\tilde{A}, b)$  \n",
        "> $x = Mt$"
      ]
    },
    {
      "cell_type": "code",
      "metadata": {
        "id": "XUt_W0eQ963r"
      },
      "source": [
        "def weighted_min_energy(A, b, max_iter=100, delta=0.0001):\n",
        "  m,n = A.shape # A = (m,n)\n",
        "  \n",
        "  # Initialize\n",
        "  W = np.eye(n) # W = (n,n)\n",
        "  \n",
        "  for i in range(max_iter):\n",
        "    M = W.T @ W  # M = (n,n)\n",
        "    A_tilde = A @ M  # A_tilde = (m,n)\n",
        "\n",
        "    # solving using minenergy solver\n",
        "    t = minimum_energy(A_tilde, b) # t = (n,)\n",
        "    x = M @ t\n",
        "\n",
        "    # Update weights\n",
        "    np.fill_diagonal(W, 1/np.sqrt(b - A @ x + delta))\n",
        "    # Note: (b-Ax) can lead to very tiny negative values\n",
        "    # delta is added to keep the content of sqrt positive\n",
        "    \n",
        "  return x"
      ],
      "execution_count": 105,
      "outputs": []
    },
    {
      "cell_type": "code",
      "metadata": {
        "colab": {
          "base_uri": "https://localhost:8080/"
        },
        "id": "SYQA7WZGGbRr",
        "outputId": "af43e9c8-6ef8-483e-b897-2c43ee447410"
      },
      "source": [
        "A_under = np.array([\n",
        "             [3,2,1,2],\n",
        "             [1,4,4,5],\n",
        "             [3,2,8,1]\n",
        "])\n",
        "\n",
        "b = np.array([12, 26, 32])\n",
        "\n",
        "print(A_under.shape)\n",
        "print((A_under @ A_under.T).shape)\n",
        "print(b.shape)"
      ],
      "execution_count": 106,
      "outputs": [
        {
          "output_type": "stream",
          "name": "stdout",
          "text": [
            "(3, 4)\n",
            "(3, 3)\n",
            "(3,)\n"
          ]
        }
      ]
    },
    {
      "cell_type": "code",
      "metadata": {
        "colab": {
          "base_uri": "https://localhost:8080/"
        },
        "id": "ojEmMpSjGd5q",
        "outputId": "6f09796b-5ce2-4a05-f4ec-81d04efed44b"
      },
      "source": [
        "x = weighted_min_energy(A_under, b)\n",
        "print(x)"
      ],
      "execution_count": 107,
      "outputs": [
        {
          "output_type": "stream",
          "name": "stdout",
          "text": [
            "[1.09842319 1.44226857 3.05467955 1.38275687]\n"
          ]
        }
      ]
    },
    {
      "cell_type": "markdown",
      "metadata": {
        "id": "98CevgOeG6b8"
      },
      "source": [
        "Validating if $Ax$ indeed gives us $b$"
      ]
    },
    {
      "cell_type": "code",
      "metadata": {
        "colab": {
          "base_uri": "https://localhost:8080/"
        },
        "id": "YHhaCtc_Ghtj",
        "outputId": "5d91327d-990b-4d27-91c3-1203e1615216"
      },
      "source": [
        "print(b)\n",
        "print(A_under @ x)"
      ],
      "execution_count": 109,
      "outputs": [
        {
          "output_type": "stream",
          "name": "stdout",
          "text": [
            "[12 26 32]\n",
            "[12. 26. 32.]\n"
          ]
        }
      ]
    },
    {
      "cell_type": "markdown",
      "metadata": {
        "id": "4U9L-CrdHE1F"
      },
      "source": [
        "----\n",
        "---"
      ]
    },
    {
      "cell_type": "code",
      "metadata": {
        "id": "_mXetC0fHAuC"
      },
      "source": [
        ""
      ],
      "execution_count": null,
      "outputs": []
    }
  ]
}