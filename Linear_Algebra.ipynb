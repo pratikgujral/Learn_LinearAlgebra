{
  "nbformat": 4,
  "nbformat_minor": 0,
  "metadata": {
    "colab": {
      "name": "Linear Algebra",
      "provenance": [],
      "collapsed_sections": [],
      "authorship_tag": "ABX9TyNPwumZ+xjsYtQCjkZU7nSl",
      "include_colab_link": true
    },
    "kernelspec": {
      "name": "python3",
      "display_name": "Python 3"
    },
    "language_info": {
      "name": "python"
    }
  },
  "cells": [
    {
      "cell_type": "markdown",
      "metadata": {
        "id": "view-in-github",
        "colab_type": "text"
      },
      "source": [
        "<a href=\"https://colab.research.google.com/github/pratikgujral/Learn_LinearAlgebra/blob/main/Linear_Algebra.ipynb\" target=\"_parent\"><img src=\"https://colab.research.google.com/assets/colab-badge.svg\" alt=\"Open In Colab\"/></a>"
      ]
    },
    {
      "cell_type": "code",
      "metadata": {
        "id": "Hom0M11JqaQ-"
      },
      "source": [
        "import numpy as np\n",
        "import sympy"
      ],
      "execution_count": null,
      "outputs": []
    },
    {
      "cell_type": "markdown",
      "metadata": {
        "id": "a_XMyxI8qsh0"
      },
      "source": [
        "# Gaussian Elimination\n",
        "\n",
        "Given a system of linear equations:  \n",
        "$-x -y + 3z = 3$  \n",
        "$x + z = 3$  \n",
        "$3x -y + 7z = 15$\n",
        "\n",
        "<br/>\n",
        "\n",
        "This is solved by converting the system of equations to Row Echelon form.\n",
        "\n",
        "Reduced Row Echelon Form can be computed using **`sympy.Matrix.rref()`**"
      ]
    },
    {
      "cell_type": "code",
      "metadata": {
        "colab": {
          "base_uri": "https://localhost:8080/",
          "height": 78
        },
        "id": "DzabgYa3qhJC",
        "outputId": "1d8a7fa9-ecad-4e20-b860-faa82780977b"
      },
      "source": [
        "A = sympy.Matrix([\n",
        "                  [-1,-1,3,-3],\n",
        "                  [1,0,1,-3],\n",
        "                  [3,-1,7,-15]\n",
        "                ])\n",
        "A"
      ],
      "execution_count": null,
      "outputs": [
        {
          "output_type": "execute_result",
          "data": {
            "text/latex": "$\\displaystyle \\left[\\begin{matrix}-1 & -1 & 3 & -3\\\\1 & 0 & 1 & -3\\\\3 & -1 & 7 & -15\\end{matrix}\\right]$",
            "text/plain": [
              "Matrix([\n",
              "[-1, -1, 3,  -3],\n",
              "[ 1,  0, 1,  -3],\n",
              "[ 3, -1, 7, -15]])"
            ]
          },
          "metadata": {},
          "execution_count": 2
        }
      ]
    },
    {
      "cell_type": "markdown",
      "metadata": {
        "id": "bHnG0Mtkst8q"
      },
      "source": [
        "**`A.rref()`** returns the Reduced Row Echelon Form and also the index of the Pivot columns in `A`."
      ]
    },
    {
      "cell_type": "code",
      "metadata": {
        "colab": {
          "base_uri": "https://localhost:8080/",
          "height": 95
        },
        "id": "fZaluk9gsd7I",
        "outputId": "ca10d8db-de88-421c-c38b-ad4c2f407d77"
      },
      "source": [
        "A_rref, pivot_col_indices = A.rref()\n",
        "\n",
        "print(pivot_col_indices)\n",
        "A_rref"
      ],
      "execution_count": null,
      "outputs": [
        {
          "output_type": "stream",
          "name": "stdout",
          "text": [
            "(0, 1)\n"
          ]
        },
        {
          "output_type": "execute_result",
          "data": {
            "text/latex": "$\\displaystyle \\left[\\begin{matrix}1 & 0 & 1 & -3\\\\0 & 1 & -4 & 6\\\\0 & 0 & 0 & 0\\end{matrix}\\right]$",
            "text/plain": [
              "Matrix([\n",
              "[1, 0,  1, -3],\n",
              "[0, 1, -4,  6],\n",
              "[0, 0,  0,  0]])"
            ]
          },
          "metadata": {},
          "execution_count": 3
        }
      ]
    },
    {
      "cell_type": "markdown",
      "metadata": {
        "id": "H_74XEe37sOn"
      },
      "source": [
        "**Another Example...(Determined System)**  \n",
        "Find the reduced row echelon form, and pivot columns of given system of equations.\n",
        "\n",
        "NOTE: The given system of equations represents a determined system."
      ]
    },
    {
      "cell_type": "code",
      "metadata": {
        "colab": {
          "base_uri": "https://localhost:8080/",
          "height": 78
        },
        "id": "vCPFmYNUssOk",
        "outputId": "de8de094-7ab4-410e-ea17-cf82b2cc6b68"
      },
      "source": [
        "A = sympy.Matrix([\n",
        "                  [1,2,2,2],\n",
        "                  [2,4,6,8],\n",
        "                  [3,6,8,10]\n",
        "])\n",
        "A"
      ],
      "execution_count": null,
      "outputs": [
        {
          "output_type": "execute_result",
          "data": {
            "text/latex": "$\\displaystyle \\left[\\begin{matrix}1 & 2 & 2 & 2\\\\2 & 4 & 6 & 8\\\\3 & 6 & 8 & 10\\end{matrix}\\right]$",
            "text/plain": [
              "Matrix([\n",
              "[1, 2, 2,  2],\n",
              "[2, 4, 6,  8],\n",
              "[3, 6, 8, 10]])"
            ]
          },
          "metadata": {},
          "execution_count": 6
        }
      ]
    },
    {
      "cell_type": "code",
      "metadata": {
        "colab": {
          "base_uri": "https://localhost:8080/"
        },
        "id": "Mrp1JDto7W9J",
        "outputId": "4c88776e-ebdb-411a-fc45-17650ecf71ce"
      },
      "source": [
        "A.rref()"
      ],
      "execution_count": null,
      "outputs": [
        {
          "output_type": "execute_result",
          "data": {
            "text/plain": [
              "(Matrix([\n",
              " [1, 2, 0, -2],\n",
              " [0, 0, 1,  2],\n",
              " [0, 0, 0,  0]]), (0, 2))"
            ]
          },
          "metadata": {},
          "execution_count": 7
        }
      ]
    },
    {
      "cell_type": "markdown",
      "metadata": {
        "id": "90HzXG8X8FTg"
      },
      "source": [
        "**Example of solving an overdermined system**"
      ]
    },
    {
      "cell_type": "code",
      "metadata": {
        "colab": {
          "base_uri": "https://localhost:8080/",
          "height": 78
        },
        "id": "NKe5Kf4Y7YfO",
        "outputId": "871d9050-1044-4b82-b61b-992e881d798d"
      },
      "source": [
        "A = sympy.Matrix([\n",
        "                  [1,2,3],\n",
        "                  [2,4,6],\n",
        "                  [2,8,10]\n",
        "])\n",
        "A"
      ],
      "execution_count": null,
      "outputs": [
        {
          "output_type": "execute_result",
          "data": {
            "text/latex": "$\\displaystyle \\left[\\begin{matrix}1 & 2 & 3\\\\2 & 4 & 6\\\\2 & 8 & 10\\end{matrix}\\right]$",
            "text/plain": [
              "Matrix([\n",
              "[1, 2,  3],\n",
              "[2, 4,  6],\n",
              "[2, 8, 10]])"
            ]
          },
          "metadata": {},
          "execution_count": 8
        }
      ]
    },
    {
      "cell_type": "markdown",
      "metadata": {
        "id": "IxBJa0q78SLI"
      },
      "source": [
        "NOTE: We do have 3 cols, but all 3 columns are not independent.   \n",
        "$R_3 <= R_1 + R_2$ "
      ]
    },
    {
      "cell_type": "code",
      "metadata": {
        "colab": {
          "base_uri": "https://localhost:8080/"
        },
        "id": "31VkGSxh8P-5",
        "outputId": "ca853688-5456-40be-c792-0fbb26b81f8f"
      },
      "source": [
        "A.rref()"
      ],
      "execution_count": null,
      "outputs": [
        {
          "output_type": "execute_result",
          "data": {
            "text/plain": [
              "(Matrix([\n",
              " [1, 0, 1],\n",
              " [0, 1, 1],\n",
              " [0, 0, 0]]), (0, 1))"
            ]
          },
          "metadata": {},
          "execution_count": 9
        }
      ]
    },
    {
      "cell_type": "markdown",
      "metadata": {
        "id": "eOGta5_D8ubB"
      },
      "source": [
        "## Rank\n",
        "\n",
        "Rank = # of pivot columns in A."
      ]
    },
    {
      "cell_type": "code",
      "metadata": {
        "colab": {
          "base_uri": "https://localhost:8080/"
        },
        "id": "qDajVq2S8h9h",
        "outputId": "10b69aca-bd82-4596-e65d-27c46d697d95"
      },
      "source": [
        "A.rank()"
      ],
      "execution_count": null,
      "outputs": [
        {
          "output_type": "execute_result",
          "data": {
            "text/plain": [
              "2"
            ]
          },
          "metadata": {},
          "execution_count": 10
        }
      ]
    },
    {
      "cell_type": "markdown",
      "metadata": {
        "id": "gS0B5y_wc_Nu"
      },
      "source": [
        "---\n",
        "## Gaussian elimination implementation (recursive)\n",
        "$2x + y - z = 8$  \n",
        "$-3x -y + 2z = -11$  \n",
        "$-2x + y + 2z = -3$"
      ]
    },
    {
      "cell_type": "code",
      "metadata": {
        "colab": {
          "base_uri": "https://localhost:8080/"
        },
        "id": "HnBcktM3c-1O",
        "outputId": "6e09364d-aa99-41c9-e07a-b3d0c1a8f5b3"
      },
      "source": [
        "A = [\n",
        "    [2, 1, -1],\n",
        "    [-3, -1, 2],\n",
        "    [-2, 1, 2]\n",
        "]\n",
        "\n",
        "b = [8, -11, -3]\n",
        "\n",
        "\n",
        "def reduce(A, b, i):\n",
        "    if i == len(A):\n",
        "        return\n",
        "    if A[i][i] == 0:\n",
        "        #swap as need non zero pivot\n",
        "        for j in range(i + 1, len(A)):\n",
        "            if A[j][i] != 0:\n",
        "                A[i], A[j] = A[j], A[i]\n",
        "                break\n",
        "    if A[i][i] == 0:\n",
        "        #no pivots\n",
        "        reduce(A, b, i + 1)\n",
        "\n",
        "    pivot = float(A[i][i])\n",
        "    A[i] = [v/pivot for v in A[i]]\n",
        "    b[i] = b[i]/pivot\n",
        "\n",
        "    for j in range(i + 1, len(A)):\n",
        "        to_zero = A[j][i]\n",
        "        A[j] = [v_row - to_zero * v_pivot for v_row, v_pivot in zip(A[j], A[i])]\n",
        "        b[j] = b[j] - to_zero * b[i]\n",
        "\n",
        "    reduce(A, b, i + 1)\n",
        "\n",
        "reduce(A, b, 0)\n",
        "\n",
        "print(A)\n",
        "print(b)"
      ],
      "execution_count": 2,
      "outputs": [
        {
          "output_type": "stream",
          "name": "stdout",
          "text": [
            "[[1.0, 0.5, -0.5], [0.0, 1.0, 1.0], [-0.0, -0.0, 1.0]]\n",
            "[4.0, 2.0, -1.0]\n"
          ]
        }
      ]
    },
    {
      "cell_type": "markdown",
      "metadata": {
        "id": "WjqE9pyK87dw"
      },
      "source": [
        "## Null Space of matrix\n",
        "\n",
        "Null space of a matrix $A$ is defined as a set of all the vectors $X$ that satisfy $A.X=0$\n",
        "\n",
        "Steps to compute null space:\n",
        "1. Convert to reduced row echelon form using Gaussian Elimination\n",
        "2. Pick any values for the free variables. So if we have two free variables `f1` and `f2`, we assume their values to be `(1, 0)` and `(0, 1)`. We don't choose `(0,0)` as that is a trivial; solution to $A.X=0$."
      ]
    },
    {
      "cell_type": "code",
      "metadata": {
        "colab": {
          "base_uri": "https://localhost:8080/"
        },
        "id": "DJdHN-888trY",
        "outputId": "bc7da5a6-ceb3-4ff8-c0d0-f63b0f23ef31"
      },
      "source": [
        "A.nullspace()"
      ],
      "execution_count": null,
      "outputs": [
        {
          "output_type": "execute_result",
          "data": {
            "text/plain": [
              "[Matrix([\n",
              " [-1],\n",
              " [-1],\n",
              " [ 1]])]"
            ]
          },
          "metadata": {},
          "execution_count": 11
        }
      ]
    },
    {
      "cell_type": "markdown",
      "metadata": {
        "id": "0WDWfLpF_98K"
      },
      "source": [
        "We can verify that this is indeed the nullspace of A by verifying that $A.X=0$"
      ]
    },
    {
      "cell_type": "code",
      "metadata": {
        "colab": {
          "base_uri": "https://localhost:8080/",
          "height": 78
        },
        "id": "wySzeKVq_9LR",
        "outputId": "0573f45a-5e80-4993-c7ad-5df5eac4ca6a"
      },
      "source": [
        "A @ A.nullspace()[0]"
      ],
      "execution_count": null,
      "outputs": [
        {
          "output_type": "execute_result",
          "data": {
            "text/latex": "$\\displaystyle \\left[\\begin{matrix}0\\\\0\\\\0\\end{matrix}\\right]$",
            "text/plain": [
              "Matrix([\n",
              "[0],\n",
              "[0],\n",
              "[0]])"
            ]
          },
          "metadata": {},
          "execution_count": 16
        }
      ]
    },
    {
      "cell_type": "markdown",
      "metadata": {
        "id": "IK12fjTL-8i1"
      },
      "source": [
        "---\n",
        "\n",
        "# Solving $A.X=B$\n",
        "Depending on the shape of $A$, the given system can be classified into \n",
        "1. Underdetermined System\n",
        "2. Determined System\n",
        "3. Overdetermined System\n",
        "\n",
        "## Goal \n",
        "Check if a solution exists to a given system of equations, and if it does, find all those solutions.\n",
        "\n",
        "<br/>\n",
        "\n",
        "Example:\n",
        "```\n",
        "x + y + z = 1 \n",
        "x + y + 2z = 3\n",
        "```\n",
        "\n",
        "This can be solved via Sympy in a variety of ways.\n",
        "\n",
        "1. Augmented Matrix form\n",
        "2. System of Equations\n",
        "3. $A.x=b$ form\n",
        "\n",
        "### Augmented Matrix Form"
      ]
    },
    {
      "cell_type": "code",
      "metadata": {
        "colab": {
          "base_uri": "https://localhost:8080/",
          "height": 57
        },
        "id": "bJakiEw-85Nx",
        "outputId": "f5e9f9ea-244a-45e1-d59b-a90ae8182cca"
      },
      "source": [
        "from sympy import Matrix, symbols\n",
        "from sympy.solvers.solveset import linsolve\n",
        "\n",
        "A = sympy.Matrix([\n",
        "                  [1,1,1,1],\n",
        "                  [1,1,2,3]\n",
        "])\n",
        "\n",
        "A"
      ],
      "execution_count": null,
      "outputs": [
        {
          "output_type": "execute_result",
          "data": {
            "text/latex": "$\\displaystyle \\left[\\begin{matrix}1 & 1 & 1 & 1\\\\1 & 1 & 2 & 3\\end{matrix}\\right]$",
            "text/plain": [
              "Matrix([\n",
              "[1, 1, 1, 1],\n",
              "[1, 1, 2, 3]])"
            ]
          },
          "metadata": {},
          "execution_count": 17
        }
      ]
    },
    {
      "cell_type": "code",
      "metadata": {
        "colab": {
          "base_uri": "https://localhost:8080/",
          "height": 37
        },
        "id": "T3BwMnL6AHSc",
        "outputId": "24fe55f8-d0b8-4f74-8ab0-e27937e9d917"
      },
      "source": [
        "# Create Sympy symbols for representing variables of the given system of equations\n",
        "x, y, z = symbols('x y z')\n",
        "\n",
        "linsolve(A, (x, y, z))"
      ],
      "execution_count": null,
      "outputs": [
        {
          "output_type": "execute_result",
          "data": {
            "text/latex": "$\\displaystyle \\left\\{\\left( - y - 1, \\  y, \\  2\\right)\\right\\}$",
            "text/plain": [
              "FiniteSet((-y - 1, y, 2))"
            ]
          },
          "metadata": {},
          "execution_count": 18
        }
      ]
    },
    {
      "cell_type": "markdown",
      "metadata": {
        "id": "B5QUx-VnCUW2"
      },
      "source": [
        "### System of equations form"
      ]
    },
    {
      "cell_type": "code",
      "metadata": {
        "colab": {
          "base_uri": "https://localhost:8080/",
          "height": 37
        },
        "id": "-W8P2mIRATe0",
        "outputId": "563a9fe1-03d7-4fee-cdd1-16315e1326c2"
      },
      "source": [
        "# Create Sympy symbols\n",
        "x, y, z = symbols('x y z')\n",
        "\n",
        "linsolve([x + y + z - 1, x + y + 2*z - 3 ], (x, y, z))"
      ],
      "execution_count": null,
      "outputs": [
        {
          "output_type": "execute_result",
          "data": {
            "text/latex": "$\\displaystyle \\left\\{\\left( - y - 1, \\  y, \\  2\\right)\\right\\}$",
            "text/plain": [
              "FiniteSet((-y - 1, y, 2))"
            ]
          },
          "metadata": {},
          "execution_count": 19
        }
      ]
    },
    {
      "cell_type": "markdown",
      "metadata": {
        "id": "opE6yS2bC2YN"
      },
      "source": [
        "### $A.x=b$ form"
      ]
    },
    {
      "cell_type": "code",
      "metadata": {
        "colab": {
          "base_uri": "https://localhost:8080/",
          "height": 57
        },
        "id": "0JOyNDpwA-zP",
        "outputId": "2068f52a-dd05-4973-cae8-7c1e339eb46a"
      },
      "source": [
        "M = sympy.Matrix([\n",
        "                  [1,1,1,1],\n",
        "                  [1,1,2,3]\n",
        "])\n",
        "\n",
        "M"
      ],
      "execution_count": null,
      "outputs": [
        {
          "output_type": "execute_result",
          "data": {
            "text/latex": "$\\displaystyle \\left[\\begin{matrix}1 & 1 & 1 & 1\\\\1 & 1 & 2 & 3\\end{matrix}\\right]$",
            "text/plain": [
              "Matrix([\n",
              "[1, 1, 1, 1],\n",
              "[1, 1, 2, 3]])"
            ]
          },
          "metadata": {},
          "execution_count": 20
        }
      ]
    },
    {
      "cell_type": "code",
      "metadata": {
        "colab": {
          "base_uri": "https://localhost:8080/"
        },
        "id": "VKLXeATBC-bk",
        "outputId": "cd314d80-45b1-4596-ddac-006129045fb7"
      },
      "source": [
        "system = A, b = M[:, :-1], M[:, -1]\n",
        "\n",
        "print(A)\n",
        "print(b)\n",
        "print(system)"
      ],
      "execution_count": null,
      "outputs": [
        {
          "output_type": "stream",
          "name": "stdout",
          "text": [
            "Matrix([[1, 1, 1], [1, 1, 2]])\n",
            "Matrix([[1], [3]])\n",
            "(Matrix([\n",
            "[1, 1, 1],\n",
            "[1, 1, 2]]), Matrix([\n",
            "[1],\n",
            "[3]]))\n"
          ]
        }
      ]
    },
    {
      "cell_type": "code",
      "metadata": {
        "colab": {
          "base_uri": "https://localhost:8080/",
          "height": 37
        },
        "id": "eZ1Q7ePGENVT",
        "outputId": "a9afb31b-6fdd-4db6-f9e7-7f3da1b5cb70"
      },
      "source": [
        "linsolve(system, x, y, z)"
      ],
      "execution_count": null,
      "outputs": [
        {
          "output_type": "execute_result",
          "data": {
            "text/latex": "$\\displaystyle \\left\\{\\left( - y - 1, \\  y, \\  2\\right)\\right\\}$",
            "text/plain": [
              "FiniteSet((-y - 1, y, 2))"
            ]
          },
          "metadata": {},
          "execution_count": 22
        }
      ]
    },
    {
      "cell_type": "markdown",
      "metadata": {
        "id": "e01PJch5CPrn"
      },
      "source": [
        "---\n",
        "# Solving linear system of equations\n",
        "\n",
        "$A.x = b$\n",
        "\n",
        "We can use Gaussian elimination to solve the system of equations. However the time complexity of performing Gaussian Elimination is $O(n^3)$.  \n",
        "\n",
        "If $A$ is a suare matrix, then there are couple of approximation techniques that can be used to speed up the solution auch as:\n",
        "- Jacobi Iterations\n",
        "- Gauss Seidel"
      ]
    },
    {
      "cell_type": "code",
      "metadata": {
        "colab": {
          "base_uri": "https://localhost:8080/"
        },
        "id": "1nVsnUAwCwWr",
        "outputId": "a745afcb-1e9c-4e93-c096-9ae793574add"
      },
      "source": [
        "import numpy as np\n",
        "\n",
        "A = np.array([\n",
        "             [3,2,1],\n",
        "             [1,4,4],\n",
        "             [3,2,8]\n",
        "])\n",
        "\n",
        "b = np.array([\n",
        "              [8],\n",
        "              [13],\n",
        "              [15]\n",
        "])\n",
        "\n",
        "print(A)\n",
        "print(b)"
      ],
      "execution_count": null,
      "outputs": [
        {
          "output_type": "stream",
          "name": "stdout",
          "text": [
            "[[3 2 1]\n",
            " [1 4 4]\n",
            " [3 2 8]]\n",
            "[[ 8]\n",
            " [13]\n",
            " [15]]\n"
          ]
        }
      ]
    },
    {
      "cell_type": "markdown",
      "metadata": {
        "id": "ZFd3twryCPi5"
      },
      "source": [
        "## Jacobi Iterations (for determined systems)\n",
        "\n",
        "$A = D + E$   \n",
        "\n",
        "$A$ : (m * m) matrix  \n",
        "$D$ : (m * m) matrix containing only diagonal elements of A  \n",
        "$E$ : (m * m) matrix containing only non-diagonal elements of A\n",
        "\n",
        "\n",
        "### Derivation\n",
        "$b = Ax$  \n",
        "$b = (D + E) x$  \n",
        "$b = Dx + Ex$  \n",
        "$Dx = -Ex + b$  \n",
        "$x = -D^{-1}Ex + D^{-1}b$  \n",
        "\n",
        "\n",
        "### Algorithm\n",
        "\n",
        "- Initialize:\n",
        "  $x = x_0$\n",
        "\n",
        "- For kth iteration  \n",
        "    $x^{k} = -D^{-1} E x^{k-1} + D^{-1}b$\n",
        "- Find error\n",
        "\n",
        "### Conditions for Jacobi to converge\n",
        "- For Jacobi iterations to converge, our system should exhibit **Diagonal Dominance**.\n",
        "\n",
        "#### Diagonal Dominance\n",
        "$|A_{ii}| - \\sum \\limits_{i \\ne j}{|A_{ij}|} > 0$  \n",
        "\n",
        "\n",
        "So for a given matrix,\n",
        "\\begin{equation*}\n",
        "A = \n",
        "\\begin{pmatrix}\n",
        "a_{11} & a_{12} & a_{13} \\\\\n",
        "a_{21} & a_{22} & a_{23} \\\\\n",
        "a_{31} & a_{32} & a_{33}\n",
        "\\end{pmatrix}\n",
        "\\end{equation*}\n",
        "\n",
        "$|a_{11}| > |a_{12}| + |a_{13}|$,  \n",
        "$|a_{21}| > |a_{22}| + |a_{23}|$, and   \n",
        "$|a_{31}| > |a_{32}| + |a_{33}|$\n",
        "\n",
        "If there is diagonal dominance, Jacobi will converge, else it will not converge.\n",
        "\n",
        "$x_i^{k+1} = -\\frac{1}{A_{ii}} (\\sum\\limits_{j \\neq i} A_{ij} - b_i)$\n",
        "    \n"
      ]
    },
    {
      "cell_type": "markdown",
      "metadata": {
        "id": "IbavMC_phGZj"
      },
      "source": [
        "Algorithm:\n",
        "\n",
        "1. Initialize:  $x = x_0$ \n",
        "\n",
        "2. Repeat until convergence of for fixed number of iterations:   \n",
        "For kth iteration:  $x_k = −D^{−1}E x_{k−1} + D^{−1}b$\n",
        "\n",
        "Note: Since expression $D^{−1}b$ does not change inside the loop, we can compute it once and then use it inside the loop instead of recomputing.\n"
      ]
    },
    {
      "cell_type": "code",
      "metadata": {
        "id": "4pVGehSLGGwC"
      },
      "source": [
        "# Implement here\n",
        "def my_jacobi(A, b, max_iter=None, epsilon=None):\n",
        "  \"\"\"Implements Jacobi iteration for finding solution to Determined systems Ax=b.\n",
        "  \n",
        "  Need to provide a value for one of max_iter and epsilon. \n",
        "  If both are provided, max_iter takes precedence.\n",
        "\n",
        "  A : Sq. Matrix (ndarray) of size (mxm) \n",
        "  b : Vector of (ndarray) length (m)\n",
        "  max_iter : int or None. Numbe rof iterations to run on\n",
        "  epsilon : float or None. Represents max. permissible normalized L2 norm of error in approximation\n",
        "  \"\"\"\n",
        "\n",
        "  # Getting shape of A\n",
        "  m = A.shape[0]\n",
        "\n",
        "  # Creating D, E such that D= diag elem of A; E = off-diag elem of A\n",
        "  D = np.zeros((m,m))\n",
        "  np.fill_diagonal(D, A.diagonal()) # Happens inplace\n",
        "  \n",
        "  E = A.copy()\n",
        "  np.fill_diagonal(E, 0) # Inplace replacement\n",
        "\n",
        "  # Initialize x\n",
        "  x = np.random.randn(m)\n",
        "\n",
        "  # Precomputing D inverse b\n",
        "  D_inv = np.linalg.inv(D)\n",
        "  Dinv_b = D_inv @ b\n",
        "  Dinv_E = D_inv @ E\n",
        "\n",
        "  if max_iter is not None:\n",
        "    # Iterate for fixed number of times\n",
        "    for k in range(max_iter):\n",
        "      x = - Dinv_E @ x + Dinv_b\n",
        "\n",
        "  else:\n",
        "    # Iterate until error becomes smaller than provided epsilon\n",
        "    \n",
        "    epsilon_hat = np.inf\n",
        "\n",
        "    while epsilon < epsilon_hat:\n",
        "      # Calcualte error\n",
        "      b_hat = A @ x\n",
        "    \n",
        "      epsilon_hat = ((b - b_hat)**2).sum() / (b**2).sum()\n",
        "\n",
        "      # Update x\n",
        "      x = - Dinv_E @ x + Dinv_b\n",
        "  return x"
      ],
      "execution_count": null,
      "outputs": []
    },
    {
      "cell_type": "markdown",
      "metadata": {
        "id": "AFxJzz_-tcaB"
      },
      "source": [
        "Evaluating Jacobi iteration."
      ]
    },
    {
      "cell_type": "code",
      "metadata": {
        "colab": {
          "base_uri": "https://localhost:8080/"
        },
        "id": "Rzz7iyETcUVC",
        "outputId": "5f534e03-fb35-4c29-8365-04eeebc5d331"
      },
      "source": [
        "A = np.array([\n",
        "               [4,1,2],\n",
        "               [4,7,1],\n",
        "               [0,7,9]\n",
        "              ])\n",
        "b = np.array([8, 19, 23])\n",
        "# x should be [1,2,1]\n",
        "\n",
        "# Using fixed number of iterations\n",
        "print('-'*10, 'Using fixed number of iterations', '-'*10)\n",
        "x = my_jacobi(A, b, 100)\n",
        "print('x: \\t', x)\n",
        "\n",
        "# Verifying\n",
        "print('A @ x: \\t', A @ x)\n",
        "\n",
        "print('\\n')\n",
        "######\n",
        "# Using epsilon error\n",
        "print('-'*10, 'Using error threshold', '-'*10)\n",
        "x = my_jacobi(A, b, epsilon=0.00000001)\n",
        "print('x: \\t', x)\n",
        "\n",
        "# Verifying\n",
        "print('A @ x: \\t', A @ x)"
      ],
      "execution_count": null,
      "outputs": [
        {
          "output_type": "stream",
          "name": "stdout",
          "text": [
            "---------- Using fixed number of iterations ----------\n",
            "x: \t [1. 2. 1.]\n",
            "A @ x: \t [ 8. 19. 23.]\n",
            "\n",
            "\n",
            "---------- Using error threshold ----------\n",
            "x: \t [1.00010839 2.00010424 1.00010905]\n",
            "A @ x: \t [ 8.00075588 19.00127226 23.00171112]\n"
          ]
        }
      ]
    },
    {
      "cell_type": "markdown",
      "metadata": {
        "id": "BetNMJXupc8S"
      },
      "source": [
        "-----\n",
        "\n",
        "Solving  \n",
        "3x - 2y = 5  \n",
        "x  + 2y = -1"
      ]
    },
    {
      "cell_type": "code",
      "metadata": {
        "colab": {
          "base_uri": "https://localhost:8080/"
        },
        "id": "2v9Jc99_pb8X",
        "outputId": "d2c8a5fd-97da-4f1c-eaf1-51df22a347ac"
      },
      "source": [
        "A = np.array([\n",
        "              [3,-2],\n",
        "              [1, 2]\n",
        "])\n",
        "\n",
        "b = np.array([5, -1])\n",
        "\n",
        "print(A)\n",
        "print(b)\n",
        "\n",
        "x = my_jacobi(A, b, epsilon=0.000001)\n",
        "print('x:', x)\n",
        "\n",
        "print(A @ x)\n"
      ],
      "execution_count": null,
      "outputs": [
        {
          "output_type": "stream",
          "name": "stdout",
          "text": [
            "[[ 3 -2]\n",
            " [ 1  2]]\n",
            "[ 5 -1]\n",
            "x: [ 0.99919822 -0.99989512]\n",
            "[ 4.99738491 -1.00059203]\n"
          ]
        }
      ]
    },
    {
      "cell_type": "markdown",
      "metadata": {
        "id": "59JdEusHhpYH"
      },
      "source": [
        "---\n",
        "---\n",
        "\n",
        "## Gauss Seidel (for determined systems)\n",
        "\n",
        "To solve $Ax=b$ where A represents a determined system, we write $A$ as a sum of lower and upper triangular matrices.  \n",
        "**Note:** Lower traingular matrix will include the diagonal elements as well.\n",
        "\n",
        "$A = L_* + U$  \n",
        "$Ax = b$  \n",
        "$(L_* + U)x = b$  \n",
        "$L_* x + Ux = b$  \n",
        "$L_* x = b - Ux$\n",
        "\n",
        "Iterations.....  \n",
        "$L_* x^{k+1} = b - Ux^{k}$\n",
        "\n",
        "<br/>\n",
        "\n",
        "Hence,  \n",
        "$x^{k+1} = L_*^{-1} (b - Ux^{k})$\n",
        "\n",
        "<br/>\n",
        "\n",
        "We do not directly compute $L^{-1}$ as that is going to be computationally expensive.\n",
        "\n",
        "We start with some $x=x_0$  \n",
        "Then, $b - Ux_0 = v_1$\n",
        "\n",
        "Since, $L_* x^{k+1} = b - Ux^{k}$, substituting above value, expression becomes,  \n",
        "$L_* x^{k+1} = v_1$"
      ]
    },
    {
      "cell_type": "markdown",
      "metadata": {
        "id": "gSVpX5ngmFma"
      },
      "source": [
        "#### Algorithm\n",
        "```\n",
        "init: x := x_0\n",
        "\n",
        "For k iterations:\n",
        "  v = b - U x^{k-1} (Value of x from previous iteration)\n",
        "  L_star @ x  = v  (Update step)\n",
        "\n",
        "```\n",
        "\n",
        "Reading: https://www.geeksforgeeks.org/gauss-seidel-method/"
      ]
    },
    {
      "cell_type": "code",
      "metadata": {
        "id": "khMgXZ5XqFQV"
      },
      "source": [
        "import numpy as np"
      ],
      "execution_count": null,
      "outputs": []
    },
    {
      "cell_type": "code",
      "metadata": {
        "id": "z7ECSm7ThpCn"
      },
      "source": [
        "def my_gauss_seidel(A,b):\n",
        "  \"\"\"\n",
        "  A -> (m x m)\n",
        "  b -> (m x 1)\n",
        "  \"\"\"\n",
        "  # Initialize\n",
        "  np.random.seed(7)\n",
        "  m = A.shape[0]\n",
        "  x = np.random.randn(m) # x -> (m x 1)\n",
        "\n",
        "  # Creating Upper triang matrix and lower triang matrix (with diagonal) from A\n",
        "  L_star = np.tril(A) # Lower triangular matrix with diagonal \n",
        "  U = np.triu(A) # Upper triangular matrix with diagonal\n",
        "  # But since we need to have diagonal elements ONLY in upper traingular matrix\n",
        "  np.fill_diagonal(U, 0) # inplace operation\n",
        "\n",
        "  # Iterations to be run for every row in A\n",
        "  for k in range(m):\n",
        "    v = b - U @ x\n",
        "    \n",
        "  \n"
      ],
      "execution_count": null,
      "outputs": []
    },
    {
      "cell_type": "code",
      "metadata": {
        "colab": {
          "base_uri": "https://localhost:8080/"
        },
        "id": "LzODX2RKqBxU",
        "outputId": "6c5f46cb-33f2-4388-a9a0-92630e55afd2"
      },
      "source": [
        "A = np.array([\n",
        "               [4,1,2],\n",
        "               [4,7,1],\n",
        "               [0,7,9]\n",
        "              ])\n",
        "\n",
        "my_gauss_seidel(A, None)"
      ],
      "execution_count": null,
      "outputs": [
        {
          "output_type": "stream",
          "name": "stdout",
          "text": [
            "[[4 0 0]\n",
            " [4 7 0]\n",
            " [0 7 9]]\n",
            "[[0 1 2]\n",
            " [0 0 1]\n",
            " [0 0 0]]\n"
          ]
        }
      ]
    },
    {
      "cell_type": "markdown",
      "metadata": {
        "id": "B79il6IBkh9S"
      },
      "source": [
        "# Overdetermined Systems: Solving $|| b - Ax ||$\n",
        "\n",
        "## Steepest Descent\n",
        "### Theory\n",
        "- https://towardsdatascience.com/descent-method-steepest-descent-and-conjugate-gradient-math-explained-78601d8df3ce\n",
        "- https://sophiamyang.medium.com/descent-method-steepest-descent-and-conjugate-gradient-in-python-85aa4c4aac7b\n",
        "\n",
        "### Algorithm\n",
        "- Initialize\n",
        "      x(0) = 0\n",
        "\n",
        "- For `k=1` to `max_iter`:\n",
        "      1. Find the residue at current position\n",
        "         r(k) = b - Ax(k)\n",
        "\n",
        "      2. Update step size α\n",
        "         α = ( r(k).T x r(k) ) / ( r(k).T x A x r(k) )\n",
        "\n",
        "      3. Take a step of size α in the direction of steepest descent \n",
        "         x(k+1) = x(k) + α r(k)\n",
        "  End\n"
      ]
    },
    {
      "cell_type": "code",
      "metadata": {
        "id": "FEZpbYvmGIcv"
      },
      "source": [
        "def my_steepest_descent(A, b, max_iter=100):\n",
        "  \"\"\"\n",
        "  A -> m x m\n",
        "  b -> m x 1\n",
        "  \"\"\"\n",
        "\n",
        "  # Get shapes. NOTE: A is a square matrix\n",
        "  m, m = A.shape\n",
        "\n",
        "  # Intialize. Since Ax = b => Shape(x) = m x 1, such that A(m,m)x(m,1) = b(m,1)\n",
        "  x = np.zeros(shape=m)\n",
        "\n",
        "  for i in range(max_iter):\n",
        "    # Find residue. NOTE: Shape(r) = Shape(b) = Shape(Ax) = (m,1).\n",
        "    r = b - A @ x\n",
        "\n",
        "    # Step size. \n",
        "    \"\"\"\n",
        "    NOTE: As Shape(r) = (m,1) \n",
        "          => Shape(r.T) = (1,m)\n",
        "          => Shape(r.T @ r) = (1,1)\n",
        "        And  Shape(r.T @ A) = (1,m)\n",
        "          => Shape(r.T @A @ r) = (1,m) x (m,1) = (1,1)\n",
        "          => Shape(alpha) = (1,1)\n",
        "    \"\"\"\n",
        "    alpha = (r.T @ r) / (r.T @ A @ r)\n",
        "\n",
        "    # Update step\n",
        "    x = x + alpha * r\n",
        "\n",
        "  return x"
      ],
      "execution_count": null,
      "outputs": []
    },
    {
      "cell_type": "markdown",
      "metadata": {
        "id": "1G4X3kfqr3Yx"
      },
      "source": [
        "### Evaluating"
      ]
    },
    {
      "cell_type": "code",
      "metadata": {
        "colab": {
          "base_uri": "https://localhost:8080/"
        },
        "id": "PeoXIhbxnmjL",
        "outputId": "5cdad127-dae2-4787-9b44-9bacf7922243"
      },
      "source": [
        "A = np.array([\n",
        "             [3,2,1],\n",
        "             [1,4,4],\n",
        "             [3,2,8]\n",
        "])\n",
        "\n",
        "np.random.seed(7)\n",
        "\n",
        "b = np.random.standard_normal(size=(3))\n",
        "\n",
        "print(A)\n",
        "print(A.shape)\n",
        "print(b)\n",
        "print(b.shape)"
      ],
      "execution_count": null,
      "outputs": [
        {
          "output_type": "stream",
          "name": "stdout",
          "text": [
            "[[3 2 1]\n",
            " [1 4 4]\n",
            " [3 2 8]]\n",
            "(3, 3)\n",
            "[ 1.6905257  -0.46593737  0.03282016]\n",
            "(3,)\n"
          ]
        }
      ]
    },
    {
      "cell_type": "markdown",
      "metadata": {
        "id": "xoKji5Gar0He"
      },
      "source": [
        "Calling the steepest decent implementation function..."
      ]
    },
    {
      "cell_type": "code",
      "metadata": {
        "colab": {
          "base_uri": "https://localhost:8080/"
        },
        "id": "csNQggvGnn1N",
        "outputId": "93feb266-08d9-458c-d09e-524eba80909e"
      },
      "source": [
        "x = my_steepest_descent(A,b)\n",
        "print(x)"
      ],
      "execution_count": null,
      "outputs": [
        {
          "output_type": "stream",
          "name": "stdout",
          "text": [
            "[ 0.67467172 -0.0483372  -0.23681508]\n"
          ]
        }
      ]
    },
    {
      "cell_type": "markdown",
      "metadata": {
        "id": "qkmZ5xn4sHN9"
      },
      "source": [
        "This `x` should be the solution to `Ax = b`.\n",
        "\n",
        "We can verify this by multiplying `A` and calculated `x` to check if we get back `b`. Ideally we should get back `b`, but since this solution is obtained through approximation, the value of `Ax` may not be exactly be equal to `b` but would be close enough."
      ]
    },
    {
      "cell_type": "code",
      "metadata": {
        "colab": {
          "base_uri": "https://localhost:8080/"
        },
        "id": "quV4lg_erYwE",
        "outputId": "e1dfc36e-9e55-4195-a338-e5c9dd1c5ea3"
      },
      "source": [
        "print(b)\n",
        "print( A @ x )"
      ],
      "execution_count": null,
      "outputs": [
        {
          "output_type": "stream",
          "name": "stdout",
          "text": [
            "[ 1.6905257  -0.46593737  0.03282016]\n",
            "[ 1.6905257  -0.46593737  0.03282016]\n"
          ]
        }
      ]
    },
    {
      "cell_type": "markdown",
      "metadata": {
        "id": "HA6MZ0N1tBUK"
      },
      "source": [
        "---\n",
        "\n",
        "# Steepest Descent continued...\n",
        "Our previous implementation of steepest descent required that the given system of equations should be determined, that is, $A$ should be a square matrix.\n",
        "\n",
        "However, we may have over-determined (Tall $A_{m,n}$ ;  $m > n$) or under-determined (Wide $A_{m,n}$ ;  $m < n$) systems.\n",
        "\n",
        "Hence, we will have to tweak our system $b=Ax$ such that, $A$ becomes a square matrix, and we can use the same solver(or function) for steepest descent that we used for determined system."
      ]
    },
    {
      "cell_type": "markdown",
      "metadata": {
        "id": "5Q4Pg0K7uPVt"
      },
      "source": [
        "## Steepest descent for overdetermined system\n",
        "For overdetermined system, $A_{m,n}$ such that $m>n$.  \n",
        "\n",
        "$b_{m,1} = A_{m,n} x_{n,1}$\n",
        "\n",
        "> $Ax = b$  \n",
        "Multiply $A^T$ on both sides  \n",
        "$A^T Ax = A^Tb$  \n",
        "\n",
        "**Note**: $A$ = (m,n) => $A^T$ = (n,m) => $A^T A$ = (m,m)  \n",
        "We successfully converted $A$ to a square matrix by multiplying it with $A^T$.\n",
        "\n",
        "\n",
        "So for square systems,  \n",
        "```\n",
        "x = my_steepest_gradient(A, b)\n",
        "```\n",
        "\n",
        "But if A is not square,\n",
        "```\n",
        "x = my_steepest_gradient(A.T @ A, A.T @ b)\n",
        "```"
      ]
    },
    {
      "cell_type": "markdown",
      "metadata": {
        "id": "thxmdFPCxjJq"
      },
      "source": [
        "### Evaluating"
      ]
    },
    {
      "cell_type": "code",
      "metadata": {
        "colab": {
          "base_uri": "https://localhost:8080/"
        },
        "id": "1e3h8i0dskGB",
        "outputId": "fe380eab-345b-471a-8c50-467b53b81d9e"
      },
      "source": [
        "A_under = np.array([\n",
        "             [3,2,1,2],\n",
        "             [1,4,4,5],\n",
        "             [3,2,8,1]\n",
        "])\n",
        "\n",
        "np.random.seed(7)\n",
        "\n",
        "b = np.random.standard_normal(size=(3))\n",
        "\n",
        "print(A_under)\n",
        "print(A_under.shape)\n",
        "print(b)\n",
        "print(b.shape)"
      ],
      "execution_count": null,
      "outputs": [
        {
          "output_type": "stream",
          "name": "stdout",
          "text": [
            "[[3 2 1 2]\n",
            " [1 4 4 5]\n",
            " [3 2 8 1]]\n",
            "(3, 4)\n",
            "[ 1.6905257  -0.46593737  0.03282016]\n",
            "(3,)\n"
          ]
        }
      ]
    },
    {
      "cell_type": "code",
      "metadata": {
        "colab": {
          "base_uri": "https://localhost:8080/"
        },
        "id": "iMzGt1MLxS6g",
        "outputId": "aa552385-0b30-45de-cb19-57693d95a64e"
      },
      "source": [
        "x = my_steepest_descent(A_under.T @ A_under, A_under.T @ b)\n",
        "print(x)"
      ],
      "execution_count": null,
      "outputs": [
        {
          "output_type": "stream",
          "name": "stdout",
          "text": [
            "[ 0.65783421  0.04703677 -0.24616324 -0.0654519 ]\n"
          ]
        }
      ]
    },
    {
      "cell_type": "markdown",
      "metadata": {
        "id": "ynaPlrr6xlsw"
      },
      "source": [
        "Verifying that $Ax$ indeed produces value approximately equal to $b$"
      ]
    },
    {
      "cell_type": "code",
      "metadata": {
        "colab": {
          "base_uri": "https://localhost:8080/"
        },
        "id": "CVDou95BxgKJ",
        "outputId": "12603144-e3da-4939-ba9d-556a2e6b0a89"
      },
      "source": [
        "print(b)\n",
        "print(A_under @ x)"
      ],
      "execution_count": null,
      "outputs": [
        {
          "output_type": "stream",
          "name": "stdout",
          "text": [
            "[ 1.6905257  -0.46593737  0.03282016]\n",
            "[ 1.69050914 -0.46593115  0.03281839]\n"
          ]
        }
      ]
    },
    {
      "cell_type": "code",
      "metadata": {
        "colab": {
          "base_uri": "https://localhost:8080/"
        },
        "id": "z8A2j5t3Bznw",
        "outputId": "cd9ef102-fff0-473a-9ec0-80817a39adb6"
      },
      "source": [
        "A_over = np.array([\n",
        "             [3,2,1],\n",
        "             [1,4,4],\n",
        "             [3,2,8],\n",
        "             [6,4,2]\n",
        "])\n",
        "\n",
        "b = np.array([10, 21, 31, 20])\n",
        "\n",
        "print(A_over)\n",
        "print(A_over.shape)\n",
        "print(b)\n",
        "print(b.shape)"
      ],
      "execution_count": null,
      "outputs": [
        {
          "output_type": "stream",
          "name": "stdout",
          "text": [
            "[[3 2 1]\n",
            " [1 4 4]\n",
            " [3 2 8]\n",
            " [6 4 2]]\n",
            "(4, 3)\n",
            "[10 21 31 20]\n",
            "(4,)\n"
          ]
        }
      ]
    },
    {
      "cell_type": "code",
      "metadata": {
        "colab": {
          "base_uri": "https://localhost:8080/"
        },
        "id": "MLn-RK-KB_9F",
        "outputId": "bc38c3da-0999-47cb-b790-023414c3cc6e"
      },
      "source": [
        "x = my_steepest_descent(A_over.T @ A_over, A_over.T @ b)\n",
        "print(x)"
      ],
      "execution_count": null,
      "outputs": [
        {
          "output_type": "stream",
          "name": "stdout",
          "text": [
            "[1.00005144 1.99991709 3.00000982]\n"
          ]
        }
      ]
    },
    {
      "cell_type": "markdown",
      "metadata": {
        "id": "SW895MkZCmmA"
      },
      "source": [
        "Verifying that indeed A.x gives b"
      ]
    },
    {
      "cell_type": "code",
      "metadata": {
        "colab": {
          "base_uri": "https://localhost:8080/"
        },
        "id": "VVTa8ZeDClat",
        "outputId": "27c22702-18a0-4182-ca24-ced6afd4468e"
      },
      "source": [
        "print(b)\n",
        "print(A_over @ x)"
      ],
      "execution_count": null,
      "outputs": [
        {
          "output_type": "stream",
          "name": "stdout",
          "text": [
            "[10 21 31 20]\n",
            "[ 9.99999831 20.99975907 31.00006701 19.99999661]\n"
          ]
        }
      ]
    },
    {
      "cell_type": "markdown",
      "metadata": {
        "id": "auj02aD6zeEU"
      },
      "source": [
        "---\n",
        "---"
      ]
    },
    {
      "cell_type": "markdown",
      "metadata": {
        "id": "vHawVrl_6dI_"
      },
      "source": [
        "## Conjugate Gradient\n",
        "\n",
        "The steepest descent method is great that we minimize the function in the direction of each step. But it doesn’t guarantee that the direction we are going to minimize the function from all the previous directions.\n",
        "\n",
        "Directions p are A conjugate directions if they have the following property (note A is symmetric positive definite):\n",
        "\n",
        "> $P_0, P_1, P_2... P_{k-1}$, such that   \n",
        "$P_i^T A P_i = 0$ for $i \\ne j$\n",
        "\n",
        "Only when the current direction p is A conjugate to all the previous directions, will the next data point minimize the function in the span of all previous directions.\n"
      ]
    },
    {
      "cell_type": "markdown",
      "metadata": {
        "id": "BlJ7b3m79E0j"
      },
      "source": [
        "### Calculating A conjugate\n",
        "Remember that the steepest descent chose the steepest slope, which is also the residual (r) at each step. And we know that this is a good choice. How about we find an A-conjugate direction that’s the closest to the direction of the steepest descent, i.e., we minimize the 2-norm of the vector (r-p).\n",
        "\n",
        "Current direction  = Current Residual + Last direction  \n",
        "$P_{k} = r_k + \\gamma_k P_{k-1}$\n",
        "\n",
        "Because of the property of A-conjugate directions:\n",
        "$P_i^T A P_i = 0$\n",
        "\n",
        "We can then calculate $\\gamma_k$ as :\n",
        "\n",
        "$P_{k-1}^T A \\gamma_k + \\gamma P_{k-1}^T A P_{k-1} = 0$\n",
        "\n",
        "Hence,  \n",
        "> $\\gamma_k = - \\frac{P_{k-1}^T A \\gamma_k}{P_{k-1}^T A P_{k-1}} $  \n"
      ]
    },
    {
      "cell_type": "code",
      "metadata": {
        "id": "altd6l1l__QC"
      },
      "source": [
        "from numpy import linalg as LA"
      ],
      "execution_count": null,
      "outputs": []
    },
    {
      "cell_type": "code",
      "metadata": {
        "id": "TVXHtplVAGLY"
      },
      "source": [
        "def is_pos_def(x):\n",
        "  \"\"\"check if a matrix is symmetric positive definite\"\"\"\n",
        "  return np.all(np.linalg.eigvals(x) > 0)"
      ],
      "execution_count": null,
      "outputs": []
    },
    {
      "cell_type": "code",
      "metadata": {
        "id": "OjnqsQhJxt6B"
      },
      "source": [
        "def my_conjugate_gradient(A, b):\n",
        "  # if (is_pos_def(A) == False) | (A != A.T).any():\n",
        "    # raise ValueError('Matrix A needs to be symmetric positive definite (SPD)')\n",
        "  \n",
        "  # Initialize\n",
        "  p = r = b\n",
        "  k = 0\n",
        "  x = np.zeros(A.shape[-1])\n",
        "\n",
        "  # Can iterate for fixed number of times or until residue drops below threshold\n",
        "  while LA.norm(r) > 1e-10 :\n",
        "    if k == 0:\n",
        "      pass\n",
        "    else: \n",
        "      gamma = - (p @ A @ r)/(p @ A @ p)\n",
        "      p = r + gamma * p\n",
        "    \n",
        "    # Calculate step size\n",
        "    alpha = (p @ r) / (p @ A @ p)\n",
        "\n",
        "    # Update step\n",
        "    x = x + alpha * p\n",
        "    # Update residue for next iteration\n",
        "    r = r - alpha * (A @ p)\n",
        "    k =+ 1\n",
        "  return x"
      ],
      "execution_count": null,
      "outputs": []
    },
    {
      "cell_type": "markdown",
      "metadata": {
        "id": "e_9PpbWuAlB-"
      },
      "source": [
        "### Evaluate"
      ]
    },
    {
      "cell_type": "code",
      "metadata": {
        "colab": {
          "base_uri": "https://localhost:8080/"
        },
        "id": "I__7MxYRAv-l",
        "outputId": "27598c76-794b-41cd-e72d-0407520ecdb9"
      },
      "source": [
        "A = np.array([\n",
        "              [3,2],\n",
        "              [2,3]\n",
        "])\n",
        "\n",
        "b = np.array([-2, 7])\n",
        "\n",
        "print(A)\n",
        "print(A.shape)\n",
        "print(b)\n",
        "print(b.shape)"
      ],
      "execution_count": null,
      "outputs": [
        {
          "output_type": "stream",
          "name": "stdout",
          "text": [
            "[[3 2]\n",
            " [2 3]]\n",
            "(2, 2)\n",
            "[-2  7]\n",
            "(2,)\n"
          ]
        }
      ]
    },
    {
      "cell_type": "code",
      "metadata": {
        "colab": {
          "base_uri": "https://localhost:8080/"
        },
        "id": "yH9L7upuARGH",
        "outputId": "759c7d04-b10d-406a-ba02-e85759ee328b"
      },
      "source": [
        "x = my_conjugate_gradient(A.T @ A, A.T @ b)\n",
        "print(x)"
      ],
      "execution_count": null,
      "outputs": [
        {
          "output_type": "stream",
          "name": "stdout",
          "text": [
            "[-4.  5.]\n"
          ]
        }
      ]
    },
    {
      "cell_type": "markdown",
      "metadata": {
        "id": "2RLx2_RNC2ZL"
      },
      "source": [
        "Verifying..."
      ]
    },
    {
      "cell_type": "code",
      "metadata": {
        "colab": {
          "base_uri": "https://localhost:8080/"
        },
        "id": "fmBeNun-C4yx",
        "outputId": "f016f60f-d7e9-48f4-d8e4-4a5e143ab7ea"
      },
      "source": [
        "A @ x"
      ],
      "execution_count": null,
      "outputs": [
        {
          "output_type": "execute_result",
          "data": {
            "text/plain": [
              "array([-2.,  7.])"
            ]
          },
          "metadata": {},
          "execution_count": 53
        }
      ]
    },
    {
      "cell_type": "markdown",
      "metadata": {
        "id": "Gg1k-1wdBBud"
      },
      "source": [
        "If A is an overdetermined system"
      ]
    },
    {
      "cell_type": "code",
      "metadata": {
        "colab": {
          "base_uri": "https://localhost:8080/"
        },
        "id": "l7hMjTzJAUSU",
        "outputId": "1412eb76-e4a4-4dc0-f442-be796a96ef9d"
      },
      "source": [
        "A_over = np.array([\n",
        "             [3,2,1],\n",
        "             [1,4,4],\n",
        "             [3,2,8],\n",
        "             [6,4,2]\n",
        "])\n",
        "\n",
        "b = np.array([10, 21, 31, 20])\n",
        "\n",
        "print(A_over)\n",
        "print(A_over.shape)\n",
        "print(b)\n",
        "print(b.shape)"
      ],
      "execution_count": null,
      "outputs": [
        {
          "output_type": "stream",
          "name": "stdout",
          "text": [
            "[[3 2 1]\n",
            " [1 4 4]\n",
            " [3 2 8]\n",
            " [6 4 2]]\n",
            "(4, 3)\n",
            "[10 21 31 20]\n",
            "(4,)\n"
          ]
        }
      ]
    },
    {
      "cell_type": "code",
      "metadata": {
        "colab": {
          "base_uri": "https://localhost:8080/"
        },
        "id": "uLOcZjL1DHGS",
        "outputId": "443871c6-1728-4139-8a59-e6234008127b"
      },
      "source": [
        "x = my_conjugate_gradient(A_over.T @ A_over, A_over.T @ b)\n",
        "print(x)"
      ],
      "execution_count": null,
      "outputs": [
        {
          "output_type": "stream",
          "name": "stdout",
          "text": [
            "[1. 2. 3.]\n"
          ]
        }
      ]
    },
    {
      "cell_type": "markdown",
      "metadata": {
        "id": "tSNloxzfDWLX"
      },
      "source": [
        "Verifying..."
      ]
    },
    {
      "cell_type": "code",
      "metadata": {
        "colab": {
          "base_uri": "https://localhost:8080/"
        },
        "id": "KJNdOEMTDUcG",
        "outputId": "3cbb5e8b-b9c1-48f0-ec90-16e2edcaf2ba"
      },
      "source": [
        "A_over @ x"
      ],
      "execution_count": null,
      "outputs": [
        {
          "output_type": "execute_result",
          "data": {
            "text/plain": [
              "array([10., 21., 31., 20.])"
            ]
          },
          "metadata": {},
          "execution_count": 56
        }
      ]
    },
    {
      "cell_type": "markdown",
      "metadata": {
        "id": "nTj5BfvTEuXt"
      },
      "source": [
        "If A is an underdetermined system"
      ]
    },
    {
      "cell_type": "code",
      "metadata": {
        "colab": {
          "base_uri": "https://localhost:8080/"
        },
        "id": "FJ_WM8AwDYnK",
        "outputId": "74b09b1c-eb36-42ea-aba7-5bce30f1aa16"
      },
      "source": [
        "A_under = np.array([\n",
        "             [3,2,1,2],\n",
        "             [1,4,4,5],\n",
        "             [3,2,8,1]\n",
        "])\n",
        "\n",
        "np.random.seed(7)\n",
        "\n",
        "b = np.array([12, 26, 32])\n",
        "\n",
        "print(A_under)\n",
        "print(A_under.shape)\n",
        "print(b)\n",
        "print(b.shape)"
      ],
      "execution_count": null,
      "outputs": [
        {
          "output_type": "stream",
          "name": "stdout",
          "text": [
            "[[3 2 1 2]\n",
            " [1 4 4 5]\n",
            " [3 2 8 1]]\n",
            "(3, 4)\n",
            "[12 26 32]\n",
            "(3,)\n"
          ]
        }
      ]
    },
    {
      "cell_type": "code",
      "metadata": {
        "colab": {
          "base_uri": "https://localhost:8080/"
        },
        "id": "7zmD1zBbFTIZ",
        "outputId": "84acf325-aa01-415b-da3d-f9b32c122fb6"
      },
      "source": [
        "x = my_conjugate_gradient(A_under.T @ A_under, A_under.T @b)\n",
        "print(x)"
      ],
      "execution_count": null,
      "outputs": [
        {
          "output_type": "stream",
          "name": "stdout",
          "text": [
            "[1.09842319 1.44226857 3.05467955 1.38275687]\n"
          ]
        }
      ]
    },
    {
      "cell_type": "markdown",
      "metadata": {
        "id": "olMtBIg4G_oa"
      },
      "source": [
        "Verifying..."
      ]
    },
    {
      "cell_type": "code",
      "metadata": {
        "colab": {
          "base_uri": "https://localhost:8080/"
        },
        "id": "Q_FeDNTnFbpi",
        "outputId": "a143e04e-cce7-4642-a323-068aae899f7b"
      },
      "source": [
        "A_under @ x"
      ],
      "execution_count": null,
      "outputs": [
        {
          "output_type": "execute_result",
          "data": {
            "text/plain": [
              "array([12., 26., 32.])"
            ]
          },
          "metadata": {},
          "execution_count": 59
        }
      ]
    },
    {
      "cell_type": "markdown",
      "metadata": {
        "id": "Eu5XdZhcHC5A"
      },
      "source": [
        "---\n",
        "---"
      ]
    },
    {
      "cell_type": "markdown",
      "metadata": {
        "id": "4ddCuHkQTk8Q"
      },
      "source": [
        "# Weighted Least Squares Solver"
      ]
    },
    {
      "cell_type": "code",
      "metadata": {
        "id": "eoqjUHaWT7Mw"
      },
      "source": [
        "import numpy as np"
      ],
      "execution_count": null,
      "outputs": []
    },
    {
      "cell_type": "markdown",
      "metadata": {
        "id": "7-BbcIrDVtjt"
      },
      "source": [
        "Least squares solver.\n",
        "\n",
        "Solves for $Ax=b$. \n",
        "\n",
        "If A is square and full rank (that is the system is well-determined), then `np.linalg.lstsq` returns the exact solution. \n",
        "\n",
        "Else, if the system is overdetermined or under-determined, then approximate solution is computed by minimizing the L2 Norm of $\\epsilon$, that is,   \n",
        "$min_x || \\epsilon ||_2$  \n",
        "$=min_x || b - Ax ||_2$\n",
        "\n",
        "This is also called an **Minimum Energy Solution**."
      ]
    },
    {
      "cell_type": "code",
      "metadata": {
        "id": "_taEJbc6HDdj"
      },
      "source": [
        "def least_squares_solver(A, b):\n",
        "  # Using Numpy. \n",
        "  x_np, residuals, rank, singular  = np.linalg.lstsq(A, b, rcond=-1)\n",
        "\n",
        "  return x_np, residuals, rank, singular"
      ],
      "execution_count": null,
      "outputs": []
    },
    {
      "cell_type": "markdown",
      "metadata": {
        "id": "hrqXFJ0TXADp"
      },
      "source": [
        "To compute Weighted Least Squares, we simply pass in the weighted matrices\n",
        "\n",
        "Solution to $Ax=b$ can be found by minimizing $=min_x || b - Ax ||_2$ in `LS(A, b)`, where `LS` represents any least squares solver such as steepest descent or conjugate gradient..\n",
        "\n",
        "But to solve \n",
        "$min_x ||W( b - Ax ) ||_2$  \n",
        "$= min_x ||Wb - WAx ) ||_2$\n",
        "\n",
        "So simply use `LS(WA, Wb)` to solve the system, where `LS` still represents the same linear solver."
      ]
    },
    {
      "cell_type": "markdown",
      "metadata": {
        "id": "cQ9laT_dcNiE"
      },
      "source": [
        "### Weighted Least Squares Solver \n",
        "**(When we know the weights beforehand)**\n"
      ]
    },
    {
      "cell_type": "code",
      "metadata": {
        "colab": {
          "base_uri": "https://localhost:8080/"
        },
        "id": "v4koEcPOcdsE",
        "outputId": "75499057-3896-4e34-ee82-a46657ee5767"
      },
      "source": [
        "A_over = np.array([\n",
        "             [3,2,1],\n",
        "             [1,4,4],\n",
        "             [3,2,8],\n",
        "             [6,4,2]\n",
        "])\n",
        "\n",
        "b = np.array([10, 21, 31, 20])\n",
        "\n",
        "print(A_over)\n",
        "print(b)\n",
        "\n",
        "W = np.random.randn(A_over.shape[0], A_over.shape[0])\n",
        "\n",
        "x,_,_,_ = least_squares_solver(W @ A_over, W @ b)\n",
        "\n",
        "print(x)"
      ],
      "execution_count": null,
      "outputs": [
        {
          "output_type": "stream",
          "name": "stdout",
          "text": [
            "[[3 2 1]\n",
            " [1 4 4]\n",
            " [3 2 8]\n",
            " [6 4 2]]\n",
            "[10 21 31 20]\n",
            "[1. 2. 3.]\n"
          ]
        }
      ]
    },
    {
      "cell_type": "code",
      "metadata": {
        "colab": {
          "base_uri": "https://localhost:8080/"
        },
        "id": "ViTWgmVMfJqg",
        "outputId": "d60311c3-cd6e-4ff9-eeb9-fb09928748b6"
      },
      "source": [
        "print(b)\n",
        "print(A_over @ x)"
      ],
      "execution_count": null,
      "outputs": [
        {
          "output_type": "stream",
          "name": "stdout",
          "text": [
            "[10 21 31 20]\n",
            "[10. 21. 31. 20.]\n"
          ]
        }
      ]
    },
    {
      "cell_type": "markdown",
      "metadata": {
        "id": "TYmVsPHoYVqB"
      },
      "source": [
        "### Iteratively Reweighted Least Squares (IRLS)\n",
        "**(When weights are NOT known)**. Computation of weights is internal to the algorithm.\n",
        "\n",
        "Using Numpy's approximate least squares solver for fixed number of iterations."
      ]
    },
    {
      "cell_type": "markdown",
      "metadata": {
        "id": "vBj5bSy4gGQm"
      },
      "source": [
        "**ALGORITHM**\n",
        "```\n",
        "  1) Initialize:=\n",
        "      W = Identity\n",
        "  2) For i = 1 to max_iter\n",
        "        x = min L2 norm of ||Wx|| such that y=Ax\n",
        "        \n",
        "        W_i = 1 / sqrt(x_i) for all i = 1 to n\n",
        "        \n",
        "        Update diag elements of W with new values W_i\n",
        "        \n",
        "```"
      ]
    },
    {
      "cell_type": "code",
      "metadata": {
        "id": "TvnqZ3HMC4lU"
      },
      "source": [
        "import numpy as np"
      ],
      "execution_count": null,
      "outputs": []
    },
    {
      "cell_type": "code",
      "metadata": {
        "id": "NKT381DEgI5h"
      },
      "source": [
        "def my_IRLS(A, b, max_iter=100, delta=0.001):\n",
        "  # Get dimensions\n",
        "  m = A.shape[0] # A is (m,m)\n",
        "\n",
        "  # Initialize\n",
        "  W = np.eye(m)\n",
        "\n",
        "  for i in range(max_iter):\n",
        "    # Solve\n",
        "    x,_,_,_ = np.linalg.lstsq(W @ A, W @ b, rcond=None)\n",
        "\n",
        "    # Update weights\n",
        "    np.fill_diagonal(W, 1/np.sqrt(b - A @ x + delta))\n",
        "    # a small delta is added because b-Ax can yeild very small negative values.\n",
        "    # Adding delta ensures that everything inside sqrt remains +ve\n",
        "\n",
        "  return x"
      ],
      "execution_count": null,
      "outputs": []
    },
    {
      "cell_type": "markdown",
      "metadata": {
        "id": "rZdLsObNU61m"
      },
      "source": [
        "#### For a determined system\n"
      ]
    },
    {
      "cell_type": "code",
      "metadata": {
        "colab": {
          "base_uri": "https://localhost:8080/"
        },
        "id": "XcAQkbP5EcLF",
        "outputId": "a711912b-f669-4e13-9c06-8562887288ed"
      },
      "source": [
        "A = np.array([\n",
        "              [3,2],\n",
        "              [2,3]\n",
        "])\n",
        "\n",
        "b = np.array([-2, 7])\n",
        "\n",
        "print(A)\n",
        "print(A.shape)\n",
        "print(b)\n",
        "print(b.shape)"
      ],
      "execution_count": null,
      "outputs": [
        {
          "output_type": "stream",
          "name": "stdout",
          "text": [
            "[[3 2]\n",
            " [2 3]]\n",
            "(2, 2)\n",
            "[-2  7]\n",
            "(2,)\n"
          ]
        }
      ]
    },
    {
      "cell_type": "code",
      "metadata": {
        "colab": {
          "base_uri": "https://localhost:8080/"
        },
        "id": "dKSfCO4pEiF9",
        "outputId": "03c7bbbf-db28-4b51-81ba-666183b698dc"
      },
      "source": [
        "x = my_IRLS(A, b)\n",
        "print(x)"
      ],
      "execution_count": null,
      "outputs": [
        {
          "output_type": "stream",
          "name": "stdout",
          "text": [
            "[-4.  5.]\n"
          ]
        }
      ]
    },
    {
      "cell_type": "markdown",
      "metadata": {
        "id": "9pImy4zZjrEG"
      },
      "source": [
        "Verifying..."
      ]
    },
    {
      "cell_type": "code",
      "metadata": {
        "colab": {
          "base_uri": "https://localhost:8080/"
        },
        "id": "enQ99ifDjsbE",
        "outputId": "91678040-0895-4be3-d84d-98f5821a1ec3"
      },
      "source": [
        "print(b)\n",
        "print(A @ x)"
      ],
      "execution_count": null,
      "outputs": [
        {
          "output_type": "stream",
          "name": "stdout",
          "text": [
            "[-2  7]\n",
            "[-2.  7.]\n"
          ]
        }
      ]
    },
    {
      "cell_type": "markdown",
      "metadata": {
        "id": "g60gB1NEjws5"
      },
      "source": [
        "#### Over-determined system"
      ]
    },
    {
      "cell_type": "code",
      "metadata": {
        "colab": {
          "base_uri": "https://localhost:8080/"
        },
        "id": "GpGHNxaBahs4",
        "outputId": "7516be1d-81f4-476c-e21b-014e74596de6"
      },
      "source": [
        "A_over = np.array([\n",
        "             [3,2,1],\n",
        "             [1,4,4],\n",
        "             [3,2,8],\n",
        "             [6,4,2]\n",
        "])\n",
        "\n",
        "b = np.array([10, 21, 31, 20])\n",
        "\n",
        "print(A_over)\n",
        "print(A_over.shape)\n",
        "print(b)\n",
        "print(b.shape)"
      ],
      "execution_count": null,
      "outputs": [
        {
          "output_type": "stream",
          "name": "stdout",
          "text": [
            "[[3 2 1]\n",
            " [1 4 4]\n",
            " [3 2 8]\n",
            " [6 4 2]]\n",
            "(4, 3)\n",
            "[10 21 31 20]\n",
            "(4,)\n"
          ]
        }
      ]
    },
    {
      "cell_type": "markdown",
      "metadata": {
        "id": "4moONgQ5k6TM"
      },
      "source": [
        "If our least squares solver `LS` is only capable of solving determined systems (that is when A is a square matrix), we tweak our inputs to the solver as \n",
        "\n",
        "$x = LS (A, b) \\mid A_{m,m}$  \n",
        "\n",
        "If our $A$ is over-determined or underdetermined, we input   \n",
        "$x = LS (A^T A, A^T b) \\mid A_{m,n}$  "
      ]
    },
    {
      "cell_type": "code",
      "metadata": {
        "colab": {
          "base_uri": "https://localhost:8080/"
        },
        "id": "fQkEdzMakSYQ",
        "outputId": "22ef40ba-7454-4f19-ac0c-72c51fc26fad"
      },
      "source": [
        "x = my_IRLS(A_over.T @ A_over, A_over.T @ b)\n",
        "print(x)"
      ],
      "execution_count": null,
      "outputs": [
        {
          "output_type": "stream",
          "name": "stdout",
          "text": [
            "[1. 2. 3.]\n"
          ]
        }
      ]
    },
    {
      "cell_type": "markdown",
      "metadata": {
        "id": "88juR6rukOBD"
      },
      "source": [
        "Verifying that the solution x we found indeed satisfies $Ax = b$:"
      ]
    },
    {
      "cell_type": "code",
      "metadata": {
        "colab": {
          "base_uri": "https://localhost:8080/"
        },
        "id": "bG9mI6Mykawq",
        "outputId": "d9d20639-7273-4b3d-8065-bb93f2d876a1"
      },
      "source": [
        "print(b)\n",
        "print(A_over @ x)"
      ],
      "execution_count": null,
      "outputs": [
        {
          "output_type": "stream",
          "name": "stdout",
          "text": [
            "[10 21 31 20]\n",
            "[10. 21. 31. 20.]\n"
          ]
        }
      ]
    },
    {
      "cell_type": "markdown",
      "metadata": {
        "id": "2vpaFnyRmFwa"
      },
      "source": [
        "However, the Least Squares Solver that we're using from Numpy namely **`np.linalg.lstsq`** is internally capable of handling overdetermined, underdtermined and fully determined systems. So, actually we do not have to worry about first converting $A$ into a square matrix.\n",
        "\n",
        "Verifying this by simply calling `my_IRLS(A_over, b)` instead of `my_IRLS(A_over.T @ A_over, A_over.T @ b)`"
      ]
    },
    {
      "cell_type": "code",
      "metadata": {
        "colab": {
          "base_uri": "https://localhost:8080/"
        },
        "id": "EiczgXt0ayQu",
        "outputId": "6fcfad6d-69f7-4a1b-e0e3-e909935a5d0f"
      },
      "source": [
        "x = my_IRLS(A_over, b)\n",
        "print(x)"
      ],
      "execution_count": null,
      "outputs": [
        {
          "output_type": "stream",
          "name": "stdout",
          "text": [
            "[1. 2. 3.]\n"
          ]
        }
      ]
    },
    {
      "cell_type": "markdown",
      "metadata": {
        "id": "4vR1tQ7um3cq"
      },
      "source": [
        "Verifying that the solution x we found indeed satisfies $Ax=b$ :"
      ]
    },
    {
      "cell_type": "code",
      "metadata": {
        "colab": {
          "base_uri": "https://localhost:8080/"
        },
        "id": "MrriAjKrDXfg",
        "outputId": "e5a0c5f5-36ba-40c3-b2f2-82bd98ee7173"
      },
      "source": [
        "print(b)\n",
        "print( A_over @ x )"
      ],
      "execution_count": null,
      "outputs": [
        {
          "output_type": "stream",
          "name": "stdout",
          "text": [
            "[10 21 31 20]\n",
            "[10. 21. 31. 20.]\n"
          ]
        }
      ]
    },
    {
      "cell_type": "markdown",
      "metadata": {
        "id": "ut1JPXbmm8ve"
      },
      "source": [
        "#### Underdetermined systems"
      ]
    },
    {
      "cell_type": "code",
      "metadata": {
        "colab": {
          "base_uri": "https://localhost:8080/"
        },
        "id": "J5ysYy6PkjdS",
        "outputId": "11669294-ab03-4a15-b5c4-6746559fe509"
      },
      "source": [
        "A_under = np.array([\n",
        "             [3,2,1,2],\n",
        "             [1,4,4,5],\n",
        "             [3,2,8,1]\n",
        "])\n",
        "\n",
        "b = np.array([12, 26, 32])\n",
        "\n",
        "print(A_under.shape)\n",
        "print(b.shape)"
      ],
      "execution_count": null,
      "outputs": [
        {
          "output_type": "stream",
          "name": "stdout",
          "text": [
            "(3, 4)\n",
            "(3,)\n"
          ]
        }
      ]
    },
    {
      "cell_type": "markdown",
      "metadata": {
        "id": "3KbGUe0PwISc"
      },
      "source": [
        "Just like the case of overdetermined systems, if the Least Squares solver is capable of solving only square (fully determined) systems, then we convert the inputs $A, b$ to square matrices such that $A \\rightarrow A^T A$ and $b \\rightarrow A^T b$"
      ]
    },
    {
      "cell_type": "code",
      "metadata": {
        "colab": {
          "base_uri": "https://localhost:8080/"
        },
        "id": "WmVlH8t4v6r8",
        "outputId": "7c548149-ec20-424e-e1d0-82c08bcc3b7e"
      },
      "source": [
        "x = my_IRLS(A_under.T @ A_under, A_under.T @ b)\n",
        "print(x)"
      ],
      "execution_count": null,
      "outputs": [
        {
          "output_type": "stream",
          "name": "stdout",
          "text": [
            "[1.09842319 1.44226857 3.05467955 1.38275687]\n"
          ]
        }
      ]
    },
    {
      "cell_type": "code",
      "metadata": {
        "colab": {
          "base_uri": "https://localhost:8080/"
        },
        "id": "xAzQwI3MnFjv",
        "outputId": "80f8ebc8-0079-4a9a-af64-0afc5cf874df"
      },
      "source": [
        "x = my_IRLS(A_under, b)\n",
        "print(x)"
      ],
      "execution_count": null,
      "outputs": [
        {
          "output_type": "stream",
          "name": "stdout",
          "text": [
            "[1.09842319 1.44226857 3.05467955 1.38275687]\n"
          ]
        }
      ]
    },
    {
      "cell_type": "markdown",
      "metadata": {
        "id": "o3Nfjbs308Xa"
      },
      "source": [
        "Verifying that the solution `x` we computed indeed satisfies $Ax=b$"
      ]
    },
    {
      "cell_type": "code",
      "metadata": {
        "colab": {
          "base_uri": "https://localhost:8080/"
        },
        "id": "v6y9UNRYntsM",
        "outputId": "11bfc1fe-bc3c-455a-e4eb-3e5b1d5a0e96"
      },
      "source": [
        "print(b)\n",
        "print(A_under @ x)"
      ],
      "execution_count": null,
      "outputs": [
        {
          "output_type": "stream",
          "name": "stdout",
          "text": [
            "[12 26 32]\n",
            "[12. 26. 32.]\n"
          ]
        }
      ]
    },
    {
      "cell_type": "markdown",
      "metadata": {
        "id": "NwhCv6Hh1SJK"
      },
      "source": [
        "But since, **`np.linalg.lstsq`** is internally capable of handling overdetermined, underdtermined and fully determined systems, we do not have to worry about first converting $A$ into a square matrix."
      ]
    },
    {
      "cell_type": "code",
      "metadata": {
        "colab": {
          "base_uri": "https://localhost:8080/"
        },
        "id": "EjjrWEWpv1VQ",
        "outputId": "7f7734c1-8184-46bb-bc87-8d823e043649"
      },
      "source": [
        "x = my_IRLS(A_under, b)\n",
        "print(x)"
      ],
      "execution_count": null,
      "outputs": [
        {
          "output_type": "stream",
          "name": "stdout",
          "text": [
            "[1.09842319 1.44226857 3.05467955 1.38275687]\n"
          ]
        }
      ]
    },
    {
      "cell_type": "markdown",
      "metadata": {
        "id": "lLqLdWY11hnS"
      },
      "source": [
        "Verifying that the solution `x` we computed indeed satisfies $Ax=b$"
      ]
    },
    {
      "cell_type": "code",
      "metadata": {
        "colab": {
          "base_uri": "https://localhost:8080/"
        },
        "id": "n-k4WEp-1hLR",
        "outputId": "05f56f22-4d3e-4c3e-caa8-cc46be7b9411"
      },
      "source": [
        "print(b)\n",
        "print(A_under @ x)"
      ],
      "execution_count": null,
      "outputs": [
        {
          "output_type": "stream",
          "name": "stdout",
          "text": [
            "[12 26 32]\n",
            "[12. 26. 32.]\n"
          ]
        }
      ]
    },
    {
      "cell_type": "markdown",
      "metadata": {
        "id": "-nyN3Ztk2Ixb"
      },
      "source": [
        "---\n",
        "---"
      ]
    },
    {
      "cell_type": "markdown",
      "metadata": {
        "id": "ueePEsCR7rvV"
      },
      "source": [
        "## Langrangian\n",
        "Lagrangian can used whenever we have to minimize a function $g(x)$ such that a condition $f(x)$ holds true\n",
        "\n",
        "**Goal:** $min_x g(x)$ such that $f(x)$\n",
        "\n",
        "This is done by:  \n",
        "1. $L(x,\\lambda) = g(x) + \\lambda f(x)$\n",
        "2. $\\triangledown_x L(x,\\lambda) = 0$\n",
        "3. $\\triangledown_\\lambda L(x,\\lambda) = 0$\n",
        "\n",
        "From (2) and (3) solve for eliminate $\\lambda$ and solve for $x$.\n",
        "\n",
        "\n",
        "---\n",
        "---"
      ]
    },
    {
      "cell_type": "markdown",
      "metadata": {
        "id": "oHk9VxBxCk6B"
      },
      "source": [
        "# Underdetermined systems\n",
        "\n",
        "Underdetermined systems have infinite many solutions. Because of the presence of free variables, those free variables can assume any value(s) thereby resulting in infinite many solutions.\n",
        "\n",
        "## Finding solutions for underdetermined systems\n",
        "Since they have infinitely many solutions, finding a solution to an underdetermined system is essentially just a search problem.\n",
        "\n",
        "This can be accomplished through a variety of ways such as\n",
        "- Minimum Energy Solution\n",
        "- Weighted minimum energy solution"
      ]
    },
    {
      "cell_type": "markdown",
      "metadata": {
        "id": "5lGYQ9BOCoaW"
      },
      "source": [
        "### Minimum Energy Solution\n",
        "Goal is to minimize $||x||_2^2$, such that $b = Ax$\n",
        "\n",
        "Since the goal is to simply find the minimum value of a function, we can use **Lagrangian**.\n"
      ]
    },
    {
      "cell_type": "code",
      "metadata": {
        "id": "N0jzKxJz5OPM"
      },
      "source": [
        "import numpy as np\n",
        "import sympy"
      ],
      "execution_count": null,
      "outputs": []
    },
    {
      "cell_type": "markdown",
      "metadata": {
        "id": "dD9Di8D89j1k"
      },
      "source": [
        "The expression for minimum energy solution when solved using Lagrangian is:  \n",
        "\n",
        "$x = A^T (A A^T)^{-1} b$"
      ]
    },
    {
      "cell_type": "code",
      "metadata": {
        "id": "26JJize91nEB"
      },
      "source": [
        "def minimum_energy(A, b, max_iter=100):\n",
        "  x = A.T @ np.linalg.inv(A @ A.T) @ b\n",
        "  return x"
      ],
      "execution_count": null,
      "outputs": []
    },
    {
      "cell_type": "code",
      "metadata": {
        "colab": {
          "base_uri": "https://localhost:8080/"
        },
        "id": "FL3h5ldCFT5E",
        "outputId": "fd2b46d8-fbe7-42f6-b53d-14fc1c956cd7"
      },
      "source": [
        "A_under = np.array([\n",
        "             [3,2,1,2],\n",
        "             [1,4,4,5],\n",
        "             [3,2,8,1]\n",
        "])\n",
        "\n",
        "b = np.array([12, 26, 32])\n",
        "\n",
        "print(A_under.shape)\n",
        "print((A_under @ A_under.T).shape)\n",
        "print(b.shape)"
      ],
      "execution_count": null,
      "outputs": [
        {
          "output_type": "stream",
          "name": "stdout",
          "text": [
            "(3, 4)\n",
            "(3, 3)\n",
            "(3,)\n"
          ]
        }
      ]
    },
    {
      "cell_type": "code",
      "metadata": {
        "colab": {
          "base_uri": "https://localhost:8080/"
        },
        "id": "HtskXBo_7WZ0",
        "outputId": "3ab3c10f-691b-4df2-8c6c-fb9405e6866c"
      },
      "source": [
        "x = minimum_energy(A_under, b)\n",
        "print(x)"
      ],
      "execution_count": null,
      "outputs": [
        {
          "output_type": "stream",
          "name": "stdout",
          "text": [
            "[1.09842319 1.44226857 3.05467955 1.38275687]\n"
          ]
        }
      ]
    },
    {
      "cell_type": "markdown",
      "metadata": {
        "id": "X2e4Ue-y9_c8"
      },
      "source": [
        "Hence, these are the values of $x$ that satisfy $Ax=b$. There are many more $x$ that would satisfy $Ax=b$, but the one that we computed has the minimum energy, that is, lowest $||x||_2^2$"
      ]
    },
    {
      "cell_type": "markdown",
      "metadata": {
        "id": "ChjWkwtg91Hg"
      },
      "source": [
        "Verifying that our solution is indeed correct..."
      ]
    },
    {
      "cell_type": "code",
      "metadata": {
        "colab": {
          "base_uri": "https://localhost:8080/"
        },
        "id": "IwaLzYy0bryi",
        "outputId": "bf38f35a-14fc-435e-eddf-b797ea2357a5"
      },
      "source": [
        "print(b)\n",
        "print(A_under @ x)"
      ],
      "execution_count": null,
      "outputs": [
        {
          "output_type": "stream",
          "name": "stdout",
          "text": [
            "[12 26 32]\n",
            "[12. 26. 32.]\n"
          ]
        }
      ]
    },
    {
      "cell_type": "markdown",
      "metadata": {
        "id": "E4sZ-BCN-a_O"
      },
      "source": [
        "## Weighted Minimuim Energy Solution\n",
        "\n",
        "The expression for weighted minimum energy solution is:  \n",
        "\\begin{align}\n",
        "  x = M \\tilde{A}^T (\\tilde{A} \\tilde{A}^T )^{-1} b\n",
        "\\end{align}\n",
        "\n",
        "where,  \n",
        "$A$ = $(m,n)$ and $b$ = $(n,1)$  \n",
        "$W $ = Diagonal matrix of size $(n,n)$  \n",
        "\n",
        "> $M =  W^T W$  \n",
        "> $\\tilde{A} = AM$\n",
        "\n",
        "We already know that minimum energy solution to $min_x Ax=b$ was  \n",
        "$x = A^T (A A^T)^{-1} b$\n",
        "\n",
        "To solve $x = M \\tilde{A}^T (\\tilde{A} \\tilde{A}^T )^{-1} b$, we simply use the same solver by:  \n",
        "\n",
        "> $t$ = minenergy $(\\tilde{A}, b)$  \n",
        "> $x = Mt$"
      ]
    },
    {
      "cell_type": "code",
      "metadata": {
        "id": "XUt_W0eQ963r"
      },
      "source": [
        "def weighted_min_energy(A, b, max_iter=100, delta=0.0001):\n",
        "  m,n = A.shape # A = (m,n)\n",
        "  \n",
        "  # Initialize\n",
        "  W = np.eye(n) # W = (n,n)\n",
        "  \n",
        "  for i in range(max_iter):\n",
        "    M = W.T @ W  # M = (n,n)\n",
        "    A_tilde = A @ M  # A_tilde = (m,n)\n",
        "\n",
        "    # solving using minenergy solver\n",
        "    t = minimum_energy(A_tilde, b) # t = (n,)\n",
        "    x = M @ t\n",
        "\n",
        "    # Update weights\n",
        "    np.fill_diagonal(W, 1/np.sqrt(b - A @ x + delta))\n",
        "    # Note: (b-Ax) can lead to very tiny negative values\n",
        "    # delta is added to keep the content of sqrt positive\n",
        "    \n",
        "  return x"
      ],
      "execution_count": null,
      "outputs": []
    },
    {
      "cell_type": "code",
      "metadata": {
        "colab": {
          "base_uri": "https://localhost:8080/"
        },
        "id": "SYQA7WZGGbRr",
        "outputId": "af43e9c8-6ef8-483e-b897-2c43ee447410"
      },
      "source": [
        "A_under = np.array([\n",
        "             [3,2,1,2],\n",
        "             [1,4,4,5],\n",
        "             [3,2,8,1]\n",
        "])\n",
        "\n",
        "b = np.array([12, 26, 32])\n",
        "\n",
        "print(A_under.shape)\n",
        "print((A_under @ A_under.T).shape)\n",
        "print(b.shape)"
      ],
      "execution_count": null,
      "outputs": [
        {
          "output_type": "stream",
          "name": "stdout",
          "text": [
            "(3, 4)\n",
            "(3, 3)\n",
            "(3,)\n"
          ]
        }
      ]
    },
    {
      "cell_type": "code",
      "metadata": {
        "colab": {
          "base_uri": "https://localhost:8080/"
        },
        "id": "ojEmMpSjGd5q",
        "outputId": "6f09796b-5ce2-4a05-f4ec-81d04efed44b"
      },
      "source": [
        "x = weighted_min_energy(A_under, b)\n",
        "print(x)"
      ],
      "execution_count": null,
      "outputs": [
        {
          "output_type": "stream",
          "name": "stdout",
          "text": [
            "[1.09842319 1.44226857 3.05467955 1.38275687]\n"
          ]
        }
      ]
    },
    {
      "cell_type": "markdown",
      "metadata": {
        "id": "98CevgOeG6b8"
      },
      "source": [
        "Validating if $Ax$ indeed gives us $b$"
      ]
    },
    {
      "cell_type": "code",
      "metadata": {
        "colab": {
          "base_uri": "https://localhost:8080/"
        },
        "id": "YHhaCtc_Ghtj",
        "outputId": "5d91327d-990b-4d27-91c3-1203e1615216"
      },
      "source": [
        "print(b)\n",
        "print(A_under @ x)"
      ],
      "execution_count": null,
      "outputs": [
        {
          "output_type": "stream",
          "name": "stdout",
          "text": [
            "[12 26 32]\n",
            "[12. 26. 32.]\n"
          ]
        }
      ]
    },
    {
      "cell_type": "markdown",
      "metadata": {
        "id": "4U9L-CrdHE1F"
      },
      "source": [
        "----\n",
        "---"
      ]
    },
    {
      "cell_type": "markdown",
      "metadata": {
        "id": "5Tstggo7pKNA"
      },
      "source": [
        "# Overdetermined systems\n",
        "$b_{(m,1)} = A_{(m,n)} x_{(n,1)}$ such that $m>n$  \n",
        "\n",
        "So let's say we have some vectors  \n",
        "$b^1 = x_1^1 \\vec{a_1}+ x_2^1 \\vec{a_2} + \\epsilon_1$  \n",
        "$b^2 = x_1^2 \\vec{a_1}+ x_2^2 \\vec{a_2} + \\epsilon_2$  \n",
        "$b^1 = x_1^3 \\vec{a_1}+ x_2^3 \\vec{a_2} + \\epsilon_3$  \n",
        "\n",
        "For best approximation,  \n",
        "$\\epsilon$ should ve perpendicular to $C(A)$ where $A = [\\vec{a_1} \\vec{a_2}]$\n",
        "\n",
        "This implies that dot product (or inner product) between A and $\\epsilon$ must be 0.  \n",
        "$\\implies \\vec{a_1}.\\epsilon = 0$ and $\\vec{a_2}.\\epsilon = 0$  \n",
        "$\\implies A^T . \\epsilon = 0$  \n",
        "\n",
        "<br/>"
      ]
    },
    {
      "cell_type": "markdown",
      "metadata": {
        "id": "PQa5BsfosD45"
      },
      "source": [
        "Since $\\epsilon = b - Ax$   and $A^T \\epsilon = 0$  \n",
        "$\\implies A^T (b-Ax) = 0$  \n",
        "$A^Tb - A^TAx = 0$  \n",
        "$A^Tb = A^TAx$  \n",
        "$x = {(A^TA)}^{-1} A^Tb$\n",
        "\n",
        "\n",
        "This is the solution for overdetermined systems.\n",
        "\n",
        "\n",
        "$x = x^+ b$ where $x^+ = {(A^T A)}^{-1}A^T$ is also known as the pseudo-inverse of $A$"
      ]
    },
    {
      "cell_type": "markdown",
      "metadata": {
        "id": "wpVWyl5WQLiw"
      },
      "source": [
        "# Ridge Regression\n",
        "Our goal is to minimize the error function  \n",
        "> $min_x ||\\epsilon||_2^2$ where $\\epsilon = b-Ax$.\n",
        "\n",
        "That is, the goal is to find x such that $min_x || b - Ax||_2^2$\n",
        "\n",
        "Derivating and equating to zero, we get:    \n",
        "> $x = {(A^TA)}^{-1} A^Tb$\n",
        "\n",
        "This solution never works because in most of the practical scenarios, $A$ is ill-defined matrix with a high condition number $\\kappa$"
      ]
    },
    {
      "cell_type": "markdown",
      "metadata": {
        "id": "7kkUuVbSvw_Y"
      },
      "source": [
        "## Ridge regression with regularization\n",
        "**Goal:**  \n",
        " $min_x ||b-Ax||_2^2 + \\lambda||x||_2^2$\n",
        "\n",
        "Solution to ridge regression with regularization computedc after equating derivative of the above expression to 0 is:  \n",
        "\n",
        "$x = {(A^T+ \\lambda I)}^{-1} A^T B$"
      ]
    },
    {
      "cell_type": "code",
      "metadata": {
        "colab": {
          "base_uri": "https://localhost:8080/"
        },
        "id": "_mXetC0fHAuC",
        "outputId": "ff179683-6492-473a-fe72-533dc93e15d1"
      },
      "source": [
        "A_under"
      ],
      "execution_count": null,
      "outputs": [
        {
          "output_type": "execute_result",
          "data": {
            "text/plain": [
              "array([[3, 2, 1, 2],\n",
              "       [1, 4, 4, 5],\n",
              "       [3, 2, 8, 1]])"
            ]
          },
          "metadata": {},
          "execution_count": 111
        }
      ]
    },
    {
      "cell_type": "code",
      "metadata": {
        "id": "wLU3nekUYib6"
      },
      "source": [
        ""
      ],
      "execution_count": null,
      "outputs": []
    },
    {
      "cell_type": "markdown",
      "metadata": {
        "id": "sQV1-7ttrKlH"
      },
      "source": [
        "# ISTA"
      ]
    },
    {
      "cell_type": "code",
      "metadata": {
        "id": "2it9JIHgrLYw"
      },
      "source": [
        "import numpy as np\n",
        "import pandas as pd\n",
        "import time\n",
        "import matplotlib.pyplot as plt\n",
        "%matplotlib inline"
      ],
      "execution_count": null,
      "outputs": []
    },
    {
      "cell_type": "code",
      "metadata": {
        "id": "gxdhxiPDrOXz"
      },
      "source": [
        "rng = np.random.RandomState(42)\n",
        "m, n = 15, 20\n",
        "\n",
        "A = rng.randn(m, n)\n",
        "\n",
        "x0 = rng.randn(n)\n",
        "\n",
        "y = np.dot(A, x0)\n",
        "\n",
        "lambd = 0.5\n",
        "maxiter = 3000"
      ],
      "execution_count": null,
      "outputs": []
    },
    {
      "cell_type": "code",
      "metadata": {
        "id": "yBweim_MrP6-"
      },
      "source": [
        "def ista(A, y, lambd, maxiter):\n",
        "  x = np.zeros(A.shape[1])\n",
        "  W, v = np.linalg.eigh(np.dot(A.T, A)) # calcualte eigen value, vector\n",
        "  L = max(W) # max of eigen values\n",
        "  print(L)\n",
        "  time0 = time.time()\n",
        "  err_ista = []\n",
        "\n",
        "  for _ in range(maxiter):\n",
        "    b = (x + (np.dot(A.T, y-A.dot(x)))/L)\n",
        "    c = lambd / L\n",
        "    x = np.sign(b) * np.maximum(0, (np.abs(b)-c*0.5))\n",
        "    error = 0.5 * np.linalg.norm(A.dot(x) - y) ** 2 + lambd * np.linalg.norm(x,1)\n",
        "\n",
        "    err_ista.append((time.time() - time0, error))\n",
        "\n",
        "  times, err_ista = map(np.array, zip(*err_ista))\n",
        "  return x, err_ista, times"
      ],
      "execution_count": null,
      "outputs": []
    },
    {
      "cell_type": "code",
      "metadata": {
        "colab": {
          "base_uri": "https://localhost:8080/"
        },
        "id": "YNOC1AQpxGqV",
        "outputId": "8c76a7dc-19b2-4d23-fe73-97d845f61d33"
      },
      "source": [
        "pred_x, err_ista, times_ista = ista(A, y, lambd, maxiter)"
      ],
      "execution_count": null,
      "outputs": [
        {
          "output_type": "stream",
          "name": "stdout",
          "text": [
            "50.61056957438105\n"
          ]
        }
      ]
    },
    {
      "cell_type": "code",
      "metadata": {
        "colab": {
          "base_uri": "https://localhost:8080/"
        },
        "id": "sD_26N58xT2e",
        "outputId": "a2b6fd19-9cca-42a7-8a5f-6ae0c63c8739"
      },
      "source": [
        "err_ista"
      ],
      "execution_count": null,
      "outputs": [
        {
          "output_type": "execute_result",
          "data": {
            "text/plain": [
              "array([15.46446831, 10.5498218 ,  8.67722207, ...,  4.34094986,\n",
              "        4.34094844,  4.34094703])"
            ]
          },
          "metadata": {},
          "execution_count": 17
        }
      ]
    },
    {
      "cell_type": "code",
      "metadata": {
        "colab": {
          "base_uri": "https://localhost:8080/",
          "height": 283
        },
        "id": "MYdu6j2axf-4",
        "outputId": "5b423e37-ca46-48ba-ab03-90ace8460f3d"
      },
      "source": [
        "plt.plot(err_ista)\n",
        "plt.xlabel('Iteration')\n",
        "plt.ylabel('Loss / Error')\n",
        "plt.show()"
      ],
      "execution_count": null,
      "outputs": [
        {
          "output_type": "display_data",
          "data": {
            "image/png": "[encoded data removed]",
            "text/plain": [
              "<Figure size 432x288 with 1 Axes>"
            ]
          },
          "metadata": {
            "needs_background": "light"
          }
        }
      ]
    },
    {
      "cell_type": "code",
      "metadata": {
        "id": "jvYUn37exzaC"
      },
      "source": [
        ""
      ],
      "execution_count": null,
      "outputs": []
    }
  ]
}