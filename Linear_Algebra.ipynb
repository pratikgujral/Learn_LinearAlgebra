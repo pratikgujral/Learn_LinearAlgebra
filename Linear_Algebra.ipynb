{
  "nbformat": 4,
  "nbformat_minor": 0,
  "metadata": {
    "colab": {
      "name": "Linear Algebra",
      "provenance": [],
      "collapsed_sections": [],
      "authorship_tag": "ABX9TyNmuIwHy12jiD0iaX5iWM8g",
      "include_colab_link": true
    },
    "kernelspec": {
      "name": "python3",
      "display_name": "Python 3"
    },
    "language_info": {
      "name": "python"
    }
  },
  "cells": [
    {
      "cell_type": "markdown",
      "metadata": {
        "id": "view-in-github",
        "colab_type": "text"
      },
      "source": [
        "<a href=\"https://colab.research.google.com/github/pratikgujral/Learn_LinearAlgebra/blob/main/Linear_Algebra.ipynb\" target=\"_parent\"><img src=\"https://colab.research.google.com/assets/colab-badge.svg\" alt=\"Open In Colab\"/></a>"
      ]
    },
    {
      "cell_type": "code",
      "metadata": {
        "id": "Hom0M11JqaQ-"
      },
      "source": [
        "import numpy as np\n",
        "import sympy"
      ],
      "execution_count": 2,
      "outputs": []
    },
    {
      "cell_type": "markdown",
      "metadata": {
        "id": "a_XMyxI8qsh0"
      },
      "source": [
        "# Gaussian Elimination\n",
        "\n",
        "Given a system of linear equations:  \n",
        "$-x -y + 3z = 3$  \n",
        "$x + z = 3$  \n",
        "$3x -y + 7z = 15$\n",
        "\n",
        "<br/>\n",
        "\n",
        "This is solved by converting the system of equations to Row Echelon form.\n",
        "\n",
        "Reduced Row Echelon Form can be computed using **`sympy.Matrix.rref()`**"
      ]
    },
    {
      "cell_type": "code",
      "metadata": {
        "colab": {
          "base_uri": "https://localhost:8080/",
          "height": 78
        },
        "id": "DzabgYa3qhJC",
        "outputId": "b7f04bbf-e30a-4652-866c-3734dc460c4c"
      },
      "source": [
        "A = sympy.Matrix([\n",
        "                  [-1,-1,3,-3],\n",
        "                  [1,0,1,-3],\n",
        "                  [3,-1,7,-15]\n",
        "                ])\n",
        "A"
      ],
      "execution_count": 5,
      "outputs": [
        {
          "output_type": "execute_result",
          "data": {
            "text/latex": "$\\displaystyle \\left[\\begin{matrix}-1 & -1 & 3 & -3\\\\1 & 0 & 1 & -3\\\\3 & -1 & 7 & -15\\end{matrix}\\right]$",
            "text/plain": [
              "Matrix([\n",
              "[-1, -1, 3,  -3],\n",
              "[ 1,  0, 1,  -3],\n",
              "[ 3, -1, 7, -15]])"
            ]
          },
          "metadata": {},
          "execution_count": 5
        }
      ]
    },
    {
      "cell_type": "markdown",
      "metadata": {
        "id": "bHnG0Mtkst8q"
      },
      "source": [
        "**`A.rref()`** returns the Reduced Row Echelon Form and also the index of the Pivot columns in `A`."
      ]
    },
    {
      "cell_type": "code",
      "metadata": {
        "colab": {
          "base_uri": "https://localhost:8080/",
          "height": 96
        },
        "id": "fZaluk9gsd7I",
        "outputId": "63c7d561-d5ca-4bf5-f005-3984e2b09c32"
      },
      "source": [
        "A_rref, pivot_col_indices = A.rref()\n",
        "\n",
        "print(pivot_col_indices)\n",
        "A_rref"
      ],
      "execution_count": 7,
      "outputs": [
        {
          "output_type": "stream",
          "name": "stdout",
          "text": [
            "(0, 1)\n"
          ]
        },
        {
          "output_type": "execute_result",
          "data": {
            "text/latex": "$\\displaystyle \\left[\\begin{matrix}1 & 0 & 1 & -3\\\\0 & 1 & -4 & 6\\\\0 & 0 & 0 & 0\\end{matrix}\\right]$",
            "text/plain": [
              "Matrix([\n",
              "[1, 0,  1, -3],\n",
              "[0, 1, -4,  6],\n",
              "[0, 0,  0,  0]])"
            ]
          },
          "metadata": {},
          "execution_count": 7
        }
      ]
    },
    {
      "cell_type": "markdown",
      "metadata": {
        "id": "H_74XEe37sOn"
      },
      "source": [
        "**Another Example...**  \n",
        "Find the reduced row echelon form, and pivot columns of given system of equations.\n",
        "\n",
        "NOTEL: The given system os equations represents a determined system."
      ]
    },
    {
      "cell_type": "code",
      "metadata": {
        "colab": {
          "base_uri": "https://localhost:8080/",
          "height": 78
        },
        "id": "vCPFmYNUssOk",
        "outputId": "3e15bebd-626e-4fc4-e8ea-b37e7e48bef8"
      },
      "source": [
        "A = sympy.Matrix([\n",
        "                  [1,2,2,2],\n",
        "                  [2,4,6,8],\n",
        "                  [3,6,8,10]\n",
        "])\n",
        "A"
      ],
      "execution_count": 8,
      "outputs": [
        {
          "output_type": "execute_result",
          "data": {
            "text/latex": "$\\displaystyle \\left[\\begin{matrix}1 & 2 & 2 & 2\\\\2 & 4 & 6 & 8\\\\3 & 6 & 8 & 10\\end{matrix}\\right]$",
            "text/plain": [
              "Matrix([\n",
              "[1, 2, 2,  2],\n",
              "[2, 4, 6,  8],\n",
              "[3, 6, 8, 10]])"
            ]
          },
          "metadata": {},
          "execution_count": 8
        }
      ]
    },
    {
      "cell_type": "code",
      "metadata": {
        "colab": {
          "base_uri": "https://localhost:8080/"
        },
        "id": "Mrp1JDto7W9J",
        "outputId": "13d355d1-81ae-421e-f70e-71e66b37d5d1"
      },
      "source": [
        "A.rref()"
      ],
      "execution_count": 9,
      "outputs": [
        {
          "output_type": "execute_result",
          "data": {
            "text/plain": [
              "(Matrix([\n",
              " [1, 2, 0, -2],\n",
              " [0, 0, 1,  2],\n",
              " [0, 0, 0,  0]]), (0, 2))"
            ]
          },
          "metadata": {},
          "execution_count": 9
        }
      ]
    },
    {
      "cell_type": "markdown",
      "metadata": {
        "id": "90HzXG8X8FTg"
      },
      "source": [
        "**Example of solving an overdermined system**"
      ]
    },
    {
      "cell_type": "code",
      "metadata": {
        "colab": {
          "base_uri": "https://localhost:8080/",
          "height": 78
        },
        "id": "NKe5Kf4Y7YfO",
        "outputId": "de8f6b1a-57e6-4de8-f8ac-17a185ce136b"
      },
      "source": [
        "A = sympy.Matrix([\n",
        "                  [1,2,3],\n",
        "                  [2,4,6],\n",
        "                  [2,8,10]\n",
        "])\n",
        "A"
      ],
      "execution_count": 10,
      "outputs": [
        {
          "output_type": "execute_result",
          "data": {
            "text/latex": "$\\displaystyle \\left[\\begin{matrix}1 & 2 & 3\\\\2 & 4 & 6\\\\2 & 8 & 10\\end{matrix}\\right]$",
            "text/plain": [
              "Matrix([\n",
              "[1, 2,  3],\n",
              "[2, 4,  6],\n",
              "[2, 8, 10]])"
            ]
          },
          "metadata": {},
          "execution_count": 10
        }
      ]
    },
    {
      "cell_type": "markdown",
      "metadata": {
        "id": "IxBJa0q78SLI"
      },
      "source": [
        "NOTE: We do have 3 cols, but all 3 columns are not independent.   \n",
        "$R_3 <= R_1 + R_2$ "
      ]
    },
    {
      "cell_type": "code",
      "metadata": {
        "colab": {
          "base_uri": "https://localhost:8080/"
        },
        "id": "31VkGSxh8P-5",
        "outputId": "9862597c-d3c1-4ed5-b95d-8469285e47a5"
      },
      "source": [
        "A.rref()"
      ],
      "execution_count": 11,
      "outputs": [
        {
          "output_type": "execute_result",
          "data": {
            "text/plain": [
              "(Matrix([\n",
              " [1, 0, 1],\n",
              " [0, 1, 1],\n",
              " [0, 0, 0]]), (0, 1))"
            ]
          },
          "metadata": {},
          "execution_count": 11
        }
      ]
    },
    {
      "cell_type": "markdown",
      "metadata": {
        "id": "eOGta5_D8ubB"
      },
      "source": [
        "## Rank\n",
        "\n",
        "Rank = # of pivot columns in A."
      ]
    },
    {
      "cell_type": "code",
      "metadata": {
        "colab": {
          "base_uri": "https://localhost:8080/"
        },
        "id": "qDajVq2S8h9h",
        "outputId": "291973c4-54fa-405d-bc42-9d38ee69c365"
      },
      "source": [
        "A.rank()"
      ],
      "execution_count": 13,
      "outputs": [
        {
          "output_type": "execute_result",
          "data": {
            "text/plain": [
              "2"
            ]
          },
          "metadata": {},
          "execution_count": 13
        }
      ]
    },
    {
      "cell_type": "markdown",
      "metadata": {
        "id": "WjqE9pyK87dw"
      },
      "source": [
        "## Null Space of matrix\n",
        "\n",
        "Null space of a matrix $A$ is defined as a set of all the vectors $X$ that satisfy $A.X=0$\n",
        "\n",
        "Steps to compute null space:\n",
        "1. Convert to reduced row echelon form using Gaussian Elimination\n",
        "2. Pick any values for the free variables. So if we have two free variables `f1` and `f2`, we assume their values to be `(1, 0)` and `(0, 1)`. We don't choose `(0,0)` as that is a trivial; solution to $A.X=0$."
      ]
    },
    {
      "cell_type": "code",
      "metadata": {
        "colab": {
          "base_uri": "https://localhost:8080/"
        },
        "id": "DJdHN-888trY",
        "outputId": "bea1f585-a7dd-4c82-9252-d6bdbefdebe0"
      },
      "source": [
        "A.nullspace()"
      ],
      "execution_count": 15,
      "outputs": [
        {
          "output_type": "execute_result",
          "data": {
            "text/plain": [
              "[Matrix([\n",
              " [-1],\n",
              " [-1],\n",
              " [ 1]])]"
            ]
          },
          "metadata": {},
          "execution_count": 15
        }
      ]
    },
    {
      "cell_type": "markdown",
      "metadata": {
        "id": "IK12fjTL-8i1"
      },
      "source": [
        "---\n",
        "\n",
        "# Solving $A.X=B$\n",
        "\n",
        "## Goal \n",
        "Check if a solution exists to a given system of equations, and if it does, find all those solutions.\n",
        "\n",
        "<br/>\n",
        "\n",
        "Example:\n",
        "```\n",
        "x + y + z = 1 \n",
        "x + y + 2z = 3\n",
        "```\n",
        "\n",
        "This can be solved via Sympy in a variety of ways.\n",
        "\n",
        "1. Augmented Matrix form\n",
        "2. System of Equations\n",
        "3. $A.x=b$ form\n",
        "\n",
        "### Augmented Matrix Form"
      ]
    },
    {
      "cell_type": "code",
      "metadata": {
        "colab": {
          "base_uri": "https://localhost:8080/",
          "height": 57
        },
        "id": "bJakiEw-85Nx",
        "outputId": "dd03e4d9-dd2a-4d10-87cc-50f3119bd8ca"
      },
      "source": [
        "from sympy import Matrix, symbols\n",
        "from sympy.solvers.solveset import linsolve\n",
        "\n",
        "A = sympy.Matrix([\n",
        "                  [1,1,1,1],\n",
        "                  [1,1,2,3]\n",
        "])\n",
        "\n",
        "A"
      ],
      "execution_count": 32,
      "outputs": [
        {
          "output_type": "execute_result",
          "data": {
            "text/latex": "$\\displaystyle \\left[\\begin{matrix}1 & 1 & 1 & 1\\\\1 & 1 & 2 & 3\\end{matrix}\\right]$",
            "text/plain": [
              "Matrix([\n",
              "[1, 1, 1, 1],\n",
              "[1, 1, 2, 3]])"
            ]
          },
          "metadata": {},
          "execution_count": 32
        }
      ]
    },
    {
      "cell_type": "code",
      "metadata": {
        "colab": {
          "base_uri": "https://localhost:8080/",
          "height": 39
        },
        "id": "T3BwMnL6AHSc",
        "outputId": "2a4627f3-d155-4b2e-e652-9b82d5ec1c44"
      },
      "source": [
        "# Create Sympy symbols for representing variables of the given system of equations\n",
        "x, y, z = symbols('x y z')\n",
        "\n",
        "linsolve(A, (x, y, z))"
      ],
      "execution_count": 34,
      "outputs": [
        {
          "output_type": "execute_result",
          "data": {
            "text/latex": "$\\displaystyle \\left\\{\\left( - y - 1, \\  y, \\  2\\right)\\right\\}$",
            "text/plain": [
              "FiniteSet((-y - 1, y, 2))"
            ]
          },
          "metadata": {},
          "execution_count": 34
        }
      ]
    },
    {
      "cell_type": "markdown",
      "metadata": {
        "id": "B5QUx-VnCUW2"
      },
      "source": [
        "### System of equations form"
      ]
    },
    {
      "cell_type": "code",
      "metadata": {
        "colab": {
          "base_uri": "https://localhost:8080/",
          "height": 39
        },
        "id": "-W8P2mIRATe0",
        "outputId": "dafcbd8f-b975-42f8-9068-b6979c65a362"
      },
      "source": [
        "# Create Sympy symbols\n",
        "x, y, z = symbols('x y z')\n",
        "\n",
        "linsolve([x + y + z - 1, x + y + 2*z - 3 ], (x, y, z))"
      ],
      "execution_count": 35,
      "outputs": [
        {
          "output_type": "execute_result",
          "data": {
            "text/latex": "$\\displaystyle \\left\\{\\left( - y - 1, \\  y, \\  2\\right)\\right\\}$",
            "text/plain": [
              "FiniteSet((-y - 1, y, 2))"
            ]
          },
          "metadata": {},
          "execution_count": 35
        }
      ]
    },
    {
      "cell_type": "markdown",
      "metadata": {
        "id": "opE6yS2bC2YN"
      },
      "source": [
        "### $A.x=b$ form"
      ]
    },
    {
      "cell_type": "code",
      "metadata": {
        "colab": {
          "base_uri": "https://localhost:8080/",
          "height": 57
        },
        "id": "0JOyNDpwA-zP",
        "outputId": "f29569e3-9565-43fc-f604-c5b1d852e501"
      },
      "source": [
        "M = sympy.Matrix([\n",
        "                  [1,1,1,1],\n",
        "                  [1,1,2,3]\n",
        "])\n",
        "\n",
        "M"
      ],
      "execution_count": 42,
      "outputs": [
        {
          "output_type": "execute_result",
          "data": {
            "text/latex": "$\\displaystyle \\left[\\begin{matrix}1 & 1 & 1 & 1\\\\1 & 1 & 2 & 3\\end{matrix}\\right]$",
            "text/plain": [
              "Matrix([\n",
              "[1, 1, 1, 1],\n",
              "[1, 1, 2, 3]])"
            ]
          },
          "metadata": {},
          "execution_count": 42
        }
      ]
    },
    {
      "cell_type": "code",
      "metadata": {
        "colab": {
          "base_uri": "https://localhost:8080/",
          "height": 155
        },
        "id": "VKLXeATBC-bk",
        "outputId": "2ee4cdaf-22f1-412e-bd2b-9600439d2c57"
      },
      "source": [
        "system = A, b = M[:, :-1], M[:, -1]\n",
        "\n",
        "print(A)\n",
        "print(b)\n",
        "print(system)"
      ],
      "execution_count": 44,
      "outputs": [
        {
          "output_type": "stream",
          "name": "stdout",
          "text": [
            "Matrix([[1, 1, 1], [1, 1, 2]])\n",
            "Matrix([[1], [3]])\n",
            "(Matrix([\n",
            "[1, 1, 1],\n",
            "[1, 1, 2]]), Matrix([\n",
            "[1],\n",
            "[3]]))\n"
          ]
        },
        {
          "output_type": "execute_result",
          "data": {
            "text/latex": "$\\displaystyle \\left\\{\\left( - y - 1, \\  y, \\  2\\right)\\right\\}$",
            "text/plain": [
              "FiniteSet((-y - 1, y, 2))"
            ]
          },
          "metadata": {},
          "execution_count": 44
        }
      ]
    },
    {
      "cell_type": "code",
      "metadata": {
        "colab": {
          "base_uri": "https://localhost:8080/",
          "height": 38
        },
        "id": "eZ1Q7ePGENVT",
        "outputId": "9d6143d2-fc9e-4c74-8e33-8659bbbc9238"
      },
      "source": [
        "linsolve(system, x, y, z)"
      ],
      "execution_count": 45,
      "outputs": [
        {
          "output_type": "execute_result",
          "data": {
            "text/latex": "$\\displaystyle \\left\\{\\left( - y - 1, \\  y, \\  2\\right)\\right\\}$",
            "text/plain": [
              "FiniteSet((-y - 1, y, 2))"
            ]
          },
          "metadata": {},
          "execution_count": 45
        }
      ]
    },
    {
      "cell_type": "code",
      "metadata": {
        "id": "sojSXI5NEt_y"
      },
      "source": [
        ""
      ],
      "execution_count": null,
      "outputs": []
    }
  ]
}