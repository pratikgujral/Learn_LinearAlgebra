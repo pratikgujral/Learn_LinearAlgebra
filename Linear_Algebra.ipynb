{
  "nbformat": 4,
  "nbformat_minor": 0,
  "metadata": {
    "colab": {
      "name": "Linear Algebra",
      "provenance": [],
      "collapsed_sections": [],
      "authorship_tag": "ABX9TyN62TVVMUn262kAjgm5nV6C",
      "include_colab_link": true
    },
    "kernelspec": {
      "display_name": "Python 3",
      "name": "python3"
    },
    "language_info": {
      "name": "python"
    }
  },
  "cells": [
    {
      "cell_type": "markdown",
      "metadata": {
        "id": "view-in-github",
        "colab_type": "text"
      },
      "source": [
        "<a href=\"https://colab.research.google.com/github/pratikgujral/Learn_LinearAlgebra/blob/main/Linear_Algebra.ipynb\" target=\"_parent\"><img src=\"https://colab.research.google.com/assets/colab-badge.svg\" alt=\"Open In Colab\"/></a>"
      ]
    },
    {
      "cell_type": "code",
      "metadata": {
        "id": "Hom0M11JqaQ-"
      },
      "source": [
        "import numpy as np\n",
        "import sympy"
      ],
      "execution_count": null,
      "outputs": []
    },
    {
      "cell_type": "markdown",
      "metadata": {
        "id": "a_XMyxI8qsh0"
      },
      "source": [
        "# Gaussian Elimination\n",
        "\n",
        "Given a system of linear equations:  \n",
        "$-x -y + 3z = 3$  \n",
        "$x + z = 3$  \n",
        "$3x -y + 7z = 15$\n",
        "\n",
        "<br/>\n",
        "\n",
        "This is solved by converting the system of equations to Row Echelon form.\n",
        "\n",
        "Reduced Row Echelon Form can be computed using **`sympy.Matrix.rref()`**"
      ]
    },
    {
      "cell_type": "code",
      "metadata": {
        "colab": {
          "base_uri": "https://localhost:8080/",
          "height": 78
        },
        "id": "DzabgYa3qhJC",
        "outputId": "df672be8-930e-47bb-cc0c-c2651698f0a0"
      },
      "source": [
        "A = sympy.Matrix([\n",
        "                  [-1,-1,3,-3],\n",
        "                  [1,0,1,-3],\n",
        "                  [3,-1,7,-15]\n",
        "                ])\n",
        "A"
      ],
      "execution_count": null,
      "outputs": [
        {
          "data": {
            "text/latex": "$\\displaystyle \\left[\\begin{matrix}-1 & -1 & 3 & -3\\\\1 & 0 & 1 & -3\\\\3 & -1 & 7 & -15\\end{matrix}\\right]$",
            "text/plain": [
              "Matrix([\n",
              "[-1, -1, 3,  -3],\n",
              "[ 1,  0, 1,  -3],\n",
              "[ 3, -1, 7, -15]])"
            ]
          },
          "execution_count": 11,
          "metadata": {},
          "output_type": "execute_result"
        }
      ]
    },
    {
      "cell_type": "markdown",
      "metadata": {
        "id": "bHnG0Mtkst8q"
      },
      "source": [
        "**`A.rref()`** returns the Reduced Row Echelon Form and also the index of the Pivot columns in `A`."
      ]
    },
    {
      "cell_type": "code",
      "metadata": {
        "colab": {
          "base_uri": "https://localhost:8080/",
          "height": 94
        },
        "id": "fZaluk9gsd7I",
        "outputId": "07c26bcd-48f5-40f7-ec3b-d992090c21e2"
      },
      "source": [
        "A_rref, pivot_col_indices = A.rref()\n",
        "\n",
        "print(pivot_col_indices)\n",
        "A_rref"
      ],
      "execution_count": null,
      "outputs": [
        {
          "name": "stdout",
          "output_type": "stream",
          "text": [
            "(0, 1)\n"
          ]
        },
        {
          "data": {
            "text/latex": "$\\displaystyle \\left[\\begin{matrix}1 & 0 & 1 & -3\\\\0 & 1 & -4 & 6\\\\0 & 0 & 0 & 0\\end{matrix}\\right]$",
            "text/plain": [
              "Matrix([\n",
              "[1, 0,  1, -3],\n",
              "[0, 1, -4,  6],\n",
              "[0, 0,  0,  0]])"
            ]
          },
          "execution_count": 12,
          "metadata": {},
          "output_type": "execute_result"
        }
      ]
    },
    {
      "cell_type": "markdown",
      "metadata": {
        "id": "H_74XEe37sOn"
      },
      "source": [
        "**Another Example...(Determined System)**  \n",
        "Find the reduced row echelon form, and pivot columns of given system of equations.\n",
        "\n",
        "NOTE: The given system of equations represents a determined system."
      ]
    },
    {
      "cell_type": "code",
      "metadata": {
        "colab": {
          "base_uri": "https://localhost:8080/",
          "height": 78
        },
        "id": "vCPFmYNUssOk",
        "outputId": "93da5a8c-b6ac-47b0-b175-6df389e76981"
      },
      "source": [
        "A = sympy.Matrix([\n",
        "                  [1,2,2,2],\n",
        "                  [2,4,6,8],\n",
        "                  [3,6,8,10]\n",
        "])\n",
        "A"
      ],
      "execution_count": null,
      "outputs": [
        {
          "data": {
            "text/latex": "$\\displaystyle \\left[\\begin{matrix}1 & 2 & 2 & 2\\\\2 & 4 & 6 & 8\\\\3 & 6 & 8 & 10\\end{matrix}\\right]$",
            "text/plain": [
              "Matrix([\n",
              "[1, 2, 2,  2],\n",
              "[2, 4, 6,  8],\n",
              "[3, 6, 8, 10]])"
            ]
          },
          "execution_count": 13,
          "metadata": {},
          "output_type": "execute_result"
        }
      ]
    },
    {
      "cell_type": "code",
      "metadata": {
        "colab": {
          "base_uri": "https://localhost:8080/"
        },
        "id": "Mrp1JDto7W9J",
        "outputId": "302977e3-d6b4-4269-f61d-6f7c138f9b5b"
      },
      "source": [
        "A.rref()"
      ],
      "execution_count": null,
      "outputs": [
        {
          "data": {
            "text/plain": [
              "(Matrix([\n",
              " [1, 2, 0, -2],\n",
              " [0, 0, 1,  2],\n",
              " [0, 0, 0,  0]]), (0, 2))"
            ]
          },
          "execution_count": 16,
          "metadata": {},
          "output_type": "execute_result"
        }
      ]
    },
    {
      "cell_type": "markdown",
      "metadata": {
        "id": "90HzXG8X8FTg"
      },
      "source": [
        "**Example of solving an overdermined system**"
      ]
    },
    {
      "cell_type": "code",
      "metadata": {
        "colab": {
          "base_uri": "https://localhost:8080/",
          "height": 78
        },
        "id": "NKe5Kf4Y7YfO",
        "outputId": "8e460cf8-7125-4c2e-a6d0-7eb8e771824f"
      },
      "source": [
        "A = sympy.Matrix([\n",
        "                  [1,2,3],\n",
        "                  [2,4,6],\n",
        "                  [2,8,10]\n",
        "])\n",
        "A"
      ],
      "execution_count": null,
      "outputs": [
        {
          "data": {
            "text/latex": "$\\displaystyle \\left[\\begin{matrix}1 & 2 & 3\\\\2 & 4 & 6\\\\2 & 8 & 10\\end{matrix}\\right]$",
            "text/plain": [
              "Matrix([\n",
              "[1, 2,  3],\n",
              "[2, 4,  6],\n",
              "[2, 8, 10]])"
            ]
          },
          "execution_count": 29,
          "metadata": {},
          "output_type": "execute_result"
        }
      ]
    },
    {
      "cell_type": "markdown",
      "metadata": {
        "id": "IxBJa0q78SLI"
      },
      "source": [
        "NOTE: We do have 3 cols, but all 3 columns are not independent.   \n",
        "$R_3 <= R_1 + R_2$ "
      ]
    },
    {
      "cell_type": "code",
      "metadata": {
        "colab": {
          "base_uri": "https://localhost:8080/"
        },
        "id": "31VkGSxh8P-5",
        "outputId": "85de8507-aae4-4d4f-c9a1-ef98499aafe7"
      },
      "source": [
        "A.rref()"
      ],
      "execution_count": null,
      "outputs": [
        {
          "data": {
            "text/plain": [
              "(Matrix([\n",
              " [1, 0, 1],\n",
              " [0, 1, 1],\n",
              " [0, 0, 0]]), (0, 1))"
            ]
          },
          "execution_count": 18,
          "metadata": {},
          "output_type": "execute_result"
        }
      ]
    },
    {
      "cell_type": "markdown",
      "metadata": {
        "id": "eOGta5_D8ubB"
      },
      "source": [
        "## Rank\n",
        "\n",
        "Rank = # of pivot columns in A."
      ]
    },
    {
      "cell_type": "code",
      "metadata": {
        "colab": {
          "base_uri": "https://localhost:8080/"
        },
        "id": "qDajVq2S8h9h",
        "outputId": "8463db35-150b-4c1a-df00-96bd890655db"
      },
      "source": [
        "A.rank()"
      ],
      "execution_count": null,
      "outputs": [
        {
          "data": {
            "text/plain": [
              "2"
            ]
          },
          "execution_count": 19,
          "metadata": {},
          "output_type": "execute_result"
        }
      ]
    },
    {
      "cell_type": "markdown",
      "metadata": {
        "id": "gS0B5y_wc_Nu"
      },
      "source": [
        "---\n",
        "## Gaussian elimination implementation (recursive)\n",
        "$2x + y - z = 8$  \n",
        "$-3x -y + 2z = -11$  \n",
        "$-2x + y + 2z = -3$"
      ]
    },
    {
      "cell_type": "code",
      "metadata": {
        "colab": {
          "base_uri": "https://localhost:8080/"
        },
        "id": "HnBcktM3c-1O",
        "outputId": "b928a0d6-374a-49d6-8ff2-01e1b7e5bedb"
      },
      "source": [
        "A = [\n",
        "    [2, 1, -1],\n",
        "    [-3, -1, 2],\n",
        "    [-2, 1, 2]\n",
        "]\n",
        "\n",
        "b = [8, -11, -3]\n",
        "\n",
        "\n",
        "def reduce(A, b, i):\n",
        "    if i == len(A):\n",
        "        return\n",
        "    if A[i][i] == 0:\n",
        "        #swap as need non zero pivot\n",
        "        for j in range(i + 1, len(A)):\n",
        "            if A[j][i] != 0:\n",
        "                A[i], A[j] = A[j], A[i]\n",
        "                break\n",
        "    if A[i][i] == 0:\n",
        "        #no pivots\n",
        "        reduce(A, b, i + 1)\n",
        "\n",
        "    pivot = float(A[i][i])\n",
        "    A[i] = [v/pivot for v in A[i]]\n",
        "    b[i] = b[i]/pivot\n",
        "\n",
        "    for j in range(i + 1, len(A)):\n",
        "        to_zero = A[j][i]\n",
        "        A[j] = [v_row - to_zero * v_pivot for v_row, v_pivot in zip(A[j], A[i])]\n",
        "        b[j] = b[j] - to_zero * b[i]\n",
        "\n",
        "    reduce(A, b, i + 1)\n",
        "\n",
        "reduce(A, b, 0)\n",
        "\n",
        "print(A)\n",
        "print(b)"
      ],
      "execution_count": null,
      "outputs": [
        {
          "name": "stdout",
          "output_type": "stream",
          "text": [
            "[[1.0, 0.5, -0.5], [0.0, 1.0, 1.0], [-0.0, -0.0, 1.0]]\n",
            "[4.0, 2.0, -1.0]\n"
          ]
        }
      ]
    },
    {
      "cell_type": "markdown",
      "metadata": {
        "id": "WjqE9pyK87dw"
      },
      "source": [
        "## Null Space of matrix\n",
        "\n",
        "Null space of a matrix $A$ is defined as a set of all the vectors $X$ that satisfy $A.X=0$\n",
        "\n",
        "Steps to compute null space:\n",
        "1. Convert to reduced row echelon form using Gaussian Elimination\n",
        "2. Pick any values for the free variables. So if we have two free variables `f1` and `f2`, we assume their values to be `(1, 0)` and `(0, 1)`. We don't choose `(0,0)` as that is a trivial; solution to $A.X=0$."
      ]
    },
    {
      "cell_type": "code",
      "metadata": {
        "colab": {
          "base_uri": "https://localhost:8080/"
        },
        "id": "_5M7rSqpbKIg",
        "outputId": "66445914-1531-44ff-f9df-f0820911def4"
      },
      "source": [
        "A = sympy.Matrix([\n",
        "                  [1,2,3],\n",
        "                  [2,4,6],\n",
        "                  [2,8,10]\n",
        "])\n",
        "print(A)"
      ],
      "execution_count": null,
      "outputs": [
        {
          "name": "stdout",
          "output_type": "stream",
          "text": [
            "Matrix([[1, 2, 3], [2, 4, 6], [2, 8, 10]])\n"
          ]
        }
      ]
    },
    {
      "cell_type": "code",
      "metadata": {
        "colab": {
          "base_uri": "https://localhost:8080/"
        },
        "id": "DJdHN-888trY",
        "outputId": "9805db65-8378-4a2a-da3f-f3769f6d1b53"
      },
      "source": [
        "A.nullspace()"
      ],
      "execution_count": null,
      "outputs": [
        {
          "data": {
            "text/plain": [
              "[Matrix([\n",
              " [-1],\n",
              " [-1],\n",
              " [ 1]])]"
            ]
          },
          "execution_count": 34,
          "metadata": {},
          "output_type": "execute_result"
        }
      ]
    },
    {
      "cell_type": "markdown",
      "metadata": {
        "id": "0WDWfLpF_98K"
      },
      "source": [
        "We can verify that this is indeed the nullspace of A by verifying that $A.X=0$"
      ]
    },
    {
      "cell_type": "code",
      "metadata": {
        "colab": {
          "base_uri": "https://localhost:8080/",
          "height": 78
        },
        "id": "wySzeKVq_9LR",
        "outputId": "f985c32a-afa9-462c-aac1-ad189aeae646"
      },
      "source": [
        "A @ A.nullspace()[0]"
      ],
      "execution_count": null,
      "outputs": [
        {
          "data": {
            "text/latex": "$\\displaystyle \\left[\\begin{matrix}0\\\\0\\\\0\\end{matrix}\\right]$",
            "text/plain": [
              "Matrix([\n",
              "[0],\n",
              "[0],\n",
              "[0]])"
            ]
          },
          "execution_count": 35,
          "metadata": {},
          "output_type": "execute_result"
        }
      ]
    },
    {
      "cell_type": "markdown",
      "metadata": {
        "id": "IK12fjTL-8i1"
      },
      "source": [
        "---\n",
        "\n",
        "# Solving $A.X=B$\n",
        "Depending on the shape of $A$, the given system can be classified into \n",
        "1. Underdetermined System\n",
        "2. Determined System\n",
        "3. Overdetermined System\n",
        "\n",
        "## Goal \n",
        "Check if a solution exists to a given system of equations, and if it does, find all those solutions.\n",
        "\n",
        "<br/>\n",
        "\n",
        "Example:\n",
        "```\n",
        "x + y + z = 1 \n",
        "x + y + 2z = 3\n",
        "```\n",
        "\n",
        "This can be solved via Sympy in a variety of ways.\n",
        "\n",
        "1. Augmented Matrix form\n",
        "2. System of Equations\n",
        "3. $A.x=b$ form\n",
        "\n",
        "### Augmented Matrix Form"
      ]
    },
    {
      "cell_type": "code",
      "metadata": {
        "colab": {
          "base_uri": "https://localhost:8080/",
          "height": 57
        },
        "id": "bJakiEw-85Nx",
        "outputId": "0f92f1c1-9d4f-49f5-9a47-af0c341449c4"
      },
      "source": [
        "from sympy import Matrix, symbols\n",
        "from sympy.solvers.solveset import linsolve\n",
        "\n",
        "A = sympy.Matrix([\n",
        "                  [1,1,1,1],\n",
        "                  [1,1,2,3]\n",
        "])\n",
        "\n",
        "A"
      ],
      "execution_count": null,
      "outputs": [
        {
          "data": {
            "text/latex": "$\\displaystyle \\left[\\begin{matrix}1 & 1 & 1 & 1\\\\1 & 1 & 2 & 3\\end{matrix}\\right]$",
            "text/plain": [
              "Matrix([\n",
              "[1, 1, 1, 1],\n",
              "[1, 1, 2, 3]])"
            ]
          },
          "execution_count": 36,
          "metadata": {},
          "output_type": "execute_result"
        }
      ]
    },
    {
      "cell_type": "code",
      "metadata": {
        "colab": {
          "base_uri": "https://localhost:8080/",
          "height": 38
        },
        "id": "T3BwMnL6AHSc",
        "outputId": "40551e6a-ac0a-48a2-891f-efefaa1c64f9"
      },
      "source": [
        "# Create Sympy symbols for representing variables of the given system of equations\n",
        "x, y, z = symbols('x y z')\n",
        "\n",
        "linsolve(A, (x, y, z))"
      ],
      "execution_count": null,
      "outputs": [
        {
          "data": {
            "text/latex": "$\\displaystyle \\left\\{\\left( - y - 1, \\  y, \\  2\\right)\\right\\}$",
            "text/plain": [
              "FiniteSet((-y - 1, y, 2))"
            ]
          },
          "execution_count": 37,
          "metadata": {},
          "output_type": "execute_result"
        }
      ]
    },
    {
      "cell_type": "markdown",
      "metadata": {
        "id": "B5QUx-VnCUW2"
      },
      "source": [
        "### System of equations form"
      ]
    },
    {
      "cell_type": "code",
      "metadata": {
        "colab": {
          "base_uri": "https://localhost:8080/",
          "height": 38
        },
        "id": "-W8P2mIRATe0",
        "outputId": "37fbc084-89ca-4738-f8ca-fa9e91098ee9"
      },
      "source": [
        "# Create Sympy symbols\n",
        "x, y, z = symbols('x y z')\n",
        "\n",
        "linsolve([x + y + z - 1, x + y + 2*z - 3 ], (x, y, z))"
      ],
      "execution_count": null,
      "outputs": [
        {
          "data": {
            "text/latex": "$\\displaystyle \\left\\{\\left( - y - 1, \\  y, \\  2\\right)\\right\\}$",
            "text/plain": [
              "FiniteSet((-y - 1, y, 2))"
            ]
          },
          "execution_count": 38,
          "metadata": {},
          "output_type": "execute_result"
        }
      ]
    },
    {
      "cell_type": "markdown",
      "metadata": {
        "id": "opE6yS2bC2YN"
      },
      "source": [
        "### $A.x=b$ form"
      ]
    },
    {
      "cell_type": "code",
      "metadata": {
        "colab": {
          "base_uri": "https://localhost:8080/",
          "height": 57
        },
        "id": "0JOyNDpwA-zP",
        "outputId": "af8706de-3e20-4e23-a4f4-6f77c5c7a9e2"
      },
      "source": [
        "M = sympy.Matrix([\n",
        "                  [1,1,1,1],\n",
        "                  [1,1,2,3]\n",
        "])\n",
        "\n",
        "M"
      ],
      "execution_count": null,
      "outputs": [
        {
          "data": {
            "text/latex": "$\\displaystyle \\left[\\begin{matrix}1 & 1 & 1 & 1\\\\1 & 1 & 2 & 3\\end{matrix}\\right]$",
            "text/plain": [
              "Matrix([\n",
              "[1, 1, 1, 1],\n",
              "[1, 1, 2, 3]])"
            ]
          },
          "execution_count": 39,
          "metadata": {},
          "output_type": "execute_result"
        }
      ]
    },
    {
      "cell_type": "code",
      "metadata": {
        "colab": {
          "base_uri": "https://localhost:8080/"
        },
        "id": "VKLXeATBC-bk",
        "outputId": "bc39762b-3d77-4a1a-cbd0-e3e4be3df1ae"
      },
      "source": [
        "system = A, b = M[:, :-1], M[:, -1]\n",
        "\n",
        "print(A)\n",
        "print(b)\n",
        "print(system)"
      ],
      "execution_count": null,
      "outputs": [
        {
          "name": "stdout",
          "output_type": "stream",
          "text": [
            "Matrix([[1, 1, 1], [1, 1, 2]])\n",
            "Matrix([[1], [3]])\n",
            "(Matrix([\n",
            "[1, 1, 1],\n",
            "[1, 1, 2]]), Matrix([\n",
            "[1],\n",
            "[3]]))\n"
          ]
        }
      ]
    },
    {
      "cell_type": "code",
      "metadata": {
        "colab": {
          "base_uri": "https://localhost:8080/",
          "height": 38
        },
        "id": "eZ1Q7ePGENVT",
        "outputId": "4ce8cb3c-368c-4f5f-d846-c853cf607cad"
      },
      "source": [
        "linsolve(system, x, y, z)"
      ],
      "execution_count": null,
      "outputs": [
        {
          "data": {
            "text/latex": "$\\displaystyle \\left\\{\\left( - y - 1, \\  y, \\  2\\right)\\right\\}$",
            "text/plain": [
              "FiniteSet((-y - 1, y, 2))"
            ]
          },
          "execution_count": 41,
          "metadata": {},
          "output_type": "execute_result"
        }
      ]
    },
    {
      "cell_type": "markdown",
      "metadata": {
        "id": "e01PJch5CPrn"
      },
      "source": [
        "---\n",
        "# Solving linear system of equations\n",
        "\n",
        "$A.x = b$\n",
        "\n",
        "We can use Gaussian elimination to solve the system of equations. However the time complexity of performing Gaussian Elimination is $O(n^3)$.  \n",
        "\n",
        "If $A$ is a suare matrix, then there are couple of approximation techniques that can be used to speed up the solution auch as:\n",
        "- Jacobi Iterations\n",
        "- Gauss Seidel"
      ]
    },
    {
      "cell_type": "code",
      "metadata": {
        "colab": {
          "base_uri": "https://localhost:8080/"
        },
        "id": "1nVsnUAwCwWr",
        "outputId": "bf826140-a4e6-479e-9b8d-ff6df81f0aa6"
      },
      "source": [
        "import numpy as np\n",
        "\n",
        "A = np.array([\n",
        "             [3,2,1],\n",
        "             [1,4,4],\n",
        "             [3,2,8]\n",
        "])\n",
        "\n",
        "b = np.array([\n",
        "              [8],\n",
        "              [13],\n",
        "              [15]\n",
        "])\n",
        "\n",
        "print(A)\n",
        "print(b)"
      ],
      "execution_count": null,
      "outputs": [
        {
          "name": "stdout",
          "output_type": "stream",
          "text": [
            "[[3 2 1]\n",
            " [1 4 4]\n",
            " [3 2 8]]\n",
            "[[ 8]\n",
            " [13]\n",
            " [15]]\n"
          ]
        }
      ]
    },
    {
      "cell_type": "markdown",
      "metadata": {
        "id": "ZFd3twryCPi5"
      },
      "source": [
        "## Jacobi Iterations (for determined systems)\n",
        "\n",
        "$A = D + E$   \n",
        "\n",
        "$A$ : (m * m) matrix  \n",
        "$D$ : (m * m) matrix containing only diagonal elements of A  \n",
        "$E$ : (m * m) matrix containing only non-diagonal elements of A\n",
        "\n",
        "\n",
        "### Derivation\n",
        "$b = Ax$  \n",
        "$b = (D + E) x$  \n",
        "$b = Dx + Ex$  \n",
        "$Dx = -Ex + b$  \n",
        "$x = -D^{-1}Ex + D^{-1}b$  \n",
        "\n",
        "\n",
        "### Algorithm\n",
        "\n",
        "- Initialize:\n",
        "  $x = x_0$\n",
        "\n",
        "- For kth iteration  \n",
        "    $x^{k} = -D^{-1} E x^{k-1} + D^{-1}b$\n",
        "- Find error\n",
        "\n",
        "### Conditions for Jacobi to converge\n",
        "- For Jacobi iterations to converge, our system should exhibit **Diagonal Dominance**.\n",
        "\n",
        "#### Diagonal Dominance\n",
        "$|A_{ii}| - \\sum \\limits_{i \\ne j}{|A_{ij}|} > 0$  \n",
        "\n",
        "\n",
        "So for a given matrix,\n",
        "\\begin{equation*}\n",
        "A = \n",
        "\\begin{pmatrix}\n",
        "a_{11} & a_{12} & a_{13} \\\\\n",
        "a_{21} & a_{22} & a_{23} \\\\\n",
        "a_{31} & a_{32} & a_{33}\n",
        "\\end{pmatrix}\n",
        "\\end{equation*}\n",
        "\n",
        "$|a_{11}| > |a_{12}| + |a_{13}|$,  \n",
        "$|a_{21}| > |a_{22}| + |a_{23}|$, and   \n",
        "$|a_{31}| > |a_{32}| + |a_{33}|$\n",
        "\n",
        "If there is diagonal dominance, Jacobi will converge, else it will not converge.\n",
        "\n",
        "$x_i^{k+1} = -\\frac{1}{A_{ii}} (\\sum\\limits_{j \\neq i} A_{ij} - b_i)$\n",
        "    \n"
      ]
    },
    {
      "cell_type": "markdown",
      "metadata": {
        "id": "IbavMC_phGZj"
      },
      "source": [
        "Algorithm:\n",
        "\n",
        "1. Initialize:  $x = x_0$ \n",
        "\n",
        "2. Repeat until convergence of for fixed number of iterations:   \n",
        "For kth iteration:  $x_k = −D^{−1}E x_{k−1} + D^{−1}b$\n",
        "\n",
        "Note: Since expression $D^{−1}b$ does not change inside the loop, we can compute it once and then use it inside the loop instead of recomputing.\n"
      ]
    },
    {
      "cell_type": "code",
      "metadata": {
        "id": "4pVGehSLGGwC"
      },
      "source": [
        "# Implement here\n",
        "def my_jacobi(A, b, max_iter=None, epsilon=None):\n",
        "  \"\"\"Implements Jacobi iteration for finding solution to Determined systems Ax=b.\n",
        "  \n",
        "  Need to provide a value for one of max_iter and epsilon. \n",
        "  If both are provided, max_iter takes precedence.\n",
        "\n",
        "  A : Sq. Matrix (ndarray) of size (mxm) \n",
        "  b : Vector of (ndarray) length (m)\n",
        "  max_iter : int or None. Numbe rof iterations to run on\n",
        "  epsilon : float or None. Represents max. permissible normalized L2 norm of error in approximation\n",
        "  \"\"\"\n",
        "\n",
        "  # Getting shape of A\n",
        "  m = A.shape[0]\n",
        "\n",
        "  # Creating D, E such that D= diag elem of A; E = off-diag elem of A\n",
        "  D = np.zeros((m,m))\n",
        "  np.fill_diagonal(D, A.diagonal()) # Happens inplace\n",
        "  \n",
        "  E = A.copy()\n",
        "  np.fill_diagonal(E, 0) # Inplace replacement\n",
        "\n",
        "  # Initialize x\n",
        "  x = np.random.randn(m)\n",
        "\n",
        "  # Precomputing D inverse b\n",
        "  D_inv = np.linalg.inv(D)\n",
        "  Dinv_b = D_inv @ b\n",
        "  Dinv_E = D_inv @ E\n",
        "\n",
        "  if max_iter is not None:\n",
        "    # Iterate for fixed number of times\n",
        "    for k in range(max_iter):\n",
        "      x = - Dinv_E @ x + Dinv_b\n",
        "\n",
        "  else:\n",
        "    # Iterate until error becomes smaller than provided epsilon\n",
        "    \n",
        "    epsilon_hat = np.inf\n",
        "\n",
        "    while epsilon < epsilon_hat:\n",
        "      # Calcualte error\n",
        "      b_hat = A @ x\n",
        "    \n",
        "      epsilon_hat = ((b - b_hat)**2).sum() / (b**2).sum()\n",
        "\n",
        "      # Update x\n",
        "      x = - Dinv_E @ x + Dinv_b\n",
        "  return x"
      ],
      "execution_count": null,
      "outputs": []
    },
    {
      "cell_type": "markdown",
      "metadata": {
        "id": "AFxJzz_-tcaB"
      },
      "source": [
        "Evaluating Jacobi iteration."
      ]
    },
    {
      "cell_type": "code",
      "metadata": {
        "colab": {
          "base_uri": "https://localhost:8080/"
        },
        "id": "Rzz7iyETcUVC",
        "outputId": "7aa9fa49-cec1-4347-9feb-f41777a32d99"
      },
      "source": [
        "A = np.array([\n",
        "               [4,1,2],\n",
        "               [4,7,1],\n",
        "               [0,7,9]\n",
        "              ])\n",
        "b = np.array([8, 19, 23])\n",
        "# x should be [1,2,1]\n",
        "\n",
        "# Using fixed number of iterations\n",
        "print('-'*10, 'Using fixed number of iterations', '-'*10)\n",
        "x = my_jacobi(A, b, 100)\n",
        "print('x: \\t', x)\n",
        "\n",
        "# Verifying\n",
        "print('A @ x: \\t', A @ x)\n",
        "\n",
        "print('\\n')\n",
        "######\n",
        "# Using epsilon error\n",
        "print('-'*10, 'Using error threshold', '-'*10)\n",
        "x = my_jacobi(A, b, epsilon=0.00000001)\n",
        "print('x: \\t', x)\n",
        "\n",
        "# Verifying\n",
        "print('A @ x: \\t', A @ x)"
      ],
      "execution_count": null,
      "outputs": [
        {
          "name": "stdout",
          "output_type": "stream",
          "text": [
            "---------- Using fixed number of iterations ----------\n",
            "x: \t [1. 2. 1.]\n",
            "A @ x: \t [ 8. 19. 23.]\n",
            "\n",
            "\n",
            "---------- Using error threshold ----------\n",
            "x: \t [0.99990333 1.999907   0.99990275]\n",
            "A @ x: \t [ 7.99932584 18.99886506 22.99847375]\n"
          ]
        }
      ]
    },
    {
      "cell_type": "markdown",
      "metadata": {
        "id": "BetNMJXupc8S"
      },
      "source": [
        "-----\n",
        "\n",
        "Solving  \n",
        "3x - 2y = 5  \n",
        "x  + 2y = -1"
      ]
    },
    {
      "cell_type": "code",
      "metadata": {
        "colab": {
          "base_uri": "https://localhost:8080/"
        },
        "id": "2v9Jc99_pb8X",
        "outputId": "7cf294a2-1ba8-4202-c794-e745b4920309"
      },
      "source": [
        "A = np.array([\n",
        "              [3,-2],\n",
        "              [1, 2]\n",
        "])\n",
        "\n",
        "b = np.array([5, -1])\n",
        "\n",
        "print(A)\n",
        "print(b)\n",
        "\n",
        "x = my_jacobi(A, b, epsilon=0.000001)\n",
        "print('x:', x)\n",
        "\n",
        "print(A @ x)\n"
      ],
      "execution_count": null,
      "outputs": [
        {
          "name": "stdout",
          "output_type": "stream",
          "text": [
            "[[ 3 -2]\n",
            " [ 1  2]]\n",
            "[ 5 -1]\n",
            "x: [ 1.00029364 -1.00086233]\n",
            "[ 5.00260559 -1.00143102]\n"
          ]
        }
      ]
    },
    {
      "cell_type": "markdown",
      "metadata": {
        "id": "59JdEusHhpYH"
      },
      "source": [
        "---\n",
        "---\n",
        "\n",
        "## Gauss Seidel (for determined systems)\n",
        "\n",
        "To solve $Ax=b$ where A represents a determined system, we write $A$ as a sum of lower and upper triangular matrices.  \n",
        "**Note:** Lower traingular matrix will include the diagonal elements as well.\n",
        "\n",
        "$A = L_* + U$  \n",
        "$Ax = b$  \n",
        "$(L_* + U)x = b$  \n",
        "$L_* x + Ux = b$  \n",
        "$L_* x = b - Ux$\n",
        "\n",
        "Iterations.....  \n",
        "$L_* x^{k+1} = b - Ux^{k}$\n",
        "\n",
        "<br/>\n",
        "\n",
        "Hence,  \n",
        "$x^{k+1} = L_*^{-1} (b - Ux^{k})$\n",
        "\n",
        "<br/>\n",
        "\n",
        "We do not directly compute $L^{-1}$ as that is going to be computationally expensive.\n",
        "\n",
        "We start with some $x=x_0$  \n",
        "Then, $b - Ux_0 = v_1$\n",
        "\n",
        "Since, $L_* x^{k+1} = b - Ux^{k}$, substituting above value, expression becomes,  \n",
        "$L_* x^{k+1} = v_1$"
      ]
    },
    {
      "cell_type": "markdown",
      "metadata": {
        "id": "gSVpX5ngmFma"
      },
      "source": [
        "#### Algorithm\n",
        "```\n",
        "init: x := x_0\n",
        "\n",
        "For k iterations:\n",
        "  v = b - U x^{k-1} (Value of x from previous iteration)\n",
        "  L_star @ x  = v  (Update step)\n",
        "\n",
        "```\n",
        "\n",
        "Reading: https://www.geeksforgeeks.org/gauss-seidel-method/"
      ]
    },
    {
      "cell_type": "code",
      "metadata": {
        "id": "khMgXZ5XqFQV"
      },
      "source": [
        "import numpy as np"
      ],
      "execution_count": null,
      "outputs": []
    },
    {
      "cell_type": "code",
      "metadata": {
        "id": "z7ECSm7ThpCn"
      },
      "source": [
        "def my_gauss_seidel(A,b):\n",
        "  \"\"\"\n",
        "  A -> (m x m)\n",
        "  b -> (m x 1)\n",
        "  \"\"\"\n",
        "  # Initialize\n",
        "  np.random.seed(7)\n",
        "  m = A.shape[0]\n",
        "  x = np.random.randn(m) # x -> (m x 1)\n",
        "\n",
        "  # Creating Upper triang matrix and lower triang matrix (with diagonal) from A\n",
        "  L_star = np.tril(A) # Lower triangular matrix with diagonal \n",
        "  U = np.triu(A) # Upper triangular matrix with diagonal\n",
        "  # But since we need to have diagonal elements ONLY in upper traingular matrix\n",
        "  np.fill_diagonal(U, 0) # inplace operation\n",
        "\n",
        "  # Iterations to be run for every row in A\n",
        "  for k in range(m):\n",
        "    v = b - U @ x"
      ],
      "execution_count": null,
      "outputs": []
    },
    {
      "cell_type": "code",
      "metadata": {
        "colab": {
          "base_uri": "https://localhost:8080/",
          "height": 312
        },
        "id": "LzODX2RKqBxU",
        "outputId": "900f30fb-788b-4656-ea85-efb0837a0ce0"
      },
      "source": [
        "A = np.array([\n",
        "               [4,1,2],\n",
        "               [4,7,1],\n",
        "               [0,7,9]\n",
        "              ])\n",
        "\n",
        "my_gauss_seidel(A, None)"
      ],
      "execution_count": null,
      "outputs": [
        {
          "ename": "TypeError",
          "evalue": "ignored",
          "output_type": "error",
          "traceback": [
            "\u001b[0;31m---------------------------------------------------------------------------\u001b[0m",
            "\u001b[0;31mTypeError\u001b[0m                                 Traceback (most recent call last)",
            "\u001b[0;32m<ipython-input-48-b7c24785cc8d>\u001b[0m in \u001b[0;36m<module>\u001b[0;34m()\u001b[0m\n\u001b[1;32m      5\u001b[0m               ])\n\u001b[1;32m      6\u001b[0m \u001b[0;34m\u001b[0m\u001b[0m\n\u001b[0;32m----> 7\u001b[0;31m \u001b[0mmy_gauss_seidel\u001b[0m\u001b[0;34m(\u001b[0m\u001b[0mA\u001b[0m\u001b[0;34m,\u001b[0m \u001b[0;32mNone\u001b[0m\u001b[0;34m)\u001b[0m\u001b[0;34m\u001b[0m\u001b[0;34m\u001b[0m\u001b[0m\n\u001b[0m",
            "\u001b[0;32m<ipython-input-47-9366448baf31>\u001b[0m in \u001b[0;36mmy_gauss_seidel\u001b[0;34m(A, b)\u001b[0m\n\u001b[1;32m     17\u001b[0m   \u001b[0;31m# Iterations to be run for every row in A\u001b[0m\u001b[0;34m\u001b[0m\u001b[0;34m\u001b[0m\u001b[0;34m\u001b[0m\u001b[0m\n\u001b[1;32m     18\u001b[0m   \u001b[0;32mfor\u001b[0m \u001b[0mk\u001b[0m \u001b[0;32min\u001b[0m \u001b[0mrange\u001b[0m\u001b[0;34m(\u001b[0m\u001b[0mm\u001b[0m\u001b[0;34m)\u001b[0m\u001b[0;34m:\u001b[0m\u001b[0;34m\u001b[0m\u001b[0;34m\u001b[0m\u001b[0m\n\u001b[0;32m---> 19\u001b[0;31m     \u001b[0mv\u001b[0m \u001b[0;34m=\u001b[0m \u001b[0mb\u001b[0m \u001b[0;34m-\u001b[0m \u001b[0mU\u001b[0m \u001b[0;34m@\u001b[0m \u001b[0mx\u001b[0m\u001b[0;34m\u001b[0m\u001b[0;34m\u001b[0m\u001b[0m\n\u001b[0m\u001b[1;32m     20\u001b[0m \u001b[0;34m\u001b[0m\u001b[0m\n\u001b[1;32m     21\u001b[0m \u001b[0;34m\u001b[0m\u001b[0m\n",
            "\u001b[0;31mTypeError\u001b[0m: unsupported operand type(s) for -: 'NoneType' and 'float'"
          ]
        }
      ]
    },
    {
      "cell_type": "markdown",
      "metadata": {
        "id": "B79il6IBkh9S"
      },
      "source": [
        "# Overdetermined Systems: Solving $|| b - Ax ||_2^2$\n",
        "\n",
        "## Steepest Descent\n",
        "### Theory\n",
        "- https://towardsdatascience.com/descent-method-steepest-descent-and-conjugate-gradient-math-explained-78601d8df3ce\n",
        "- https://sophiamyang.medium.com/descent-method-steepest-descent-and-conjugate-gradient-in-python-85aa4c4aac7b\n",
        "\n",
        "### Algorithm\n",
        "- Initialize\n",
        "      x(0) = 0\n",
        "\n",
        "- For `k=1` to `max_iter`:\n",
        "      1. Find the residue at current position\n",
        "         r(k) = b - Ax(k)\n",
        "\n",
        "      2. Update step size α\n",
        "         α = ( r(k).T x r(k) ) / ( r(k).T x A x r(k) )\n",
        "\n",
        "      3. Take a step of size α in the direction of steepest descent \n",
        "         x(k+1) = x(k) + α r(k)\n",
        "  End\n"
      ]
    },
    {
      "cell_type": "code",
      "metadata": {
        "id": "FEZpbYvmGIcv"
      },
      "source": [
        "def my_steepest_descent(A, b, max_iter=100):\n",
        "  \"\"\"\n",
        "  A -> m x m\n",
        "  b -> m x 1\n",
        "  \"\"\"\n",
        "\n",
        "  # Get shapes. NOTE: A is a square matrix\n",
        "  m, m = A.shape\n",
        "\n",
        "  # Intialize. Since Ax = b => Shape(x) = m x 1, such that A(m,m)x(m,1) = b(m,1)\n",
        "  x = np.zeros(shape=m)\n",
        "\n",
        "  for i in range(max_iter):\n",
        "    # Find residue. NOTE: Shape(r) = Shape(b) = Shape(Ax) = (m,1).\n",
        "    r = b - A @ x\n",
        "\n",
        "    # Step size. \n",
        "    \"\"\"\n",
        "    NOTE: As Shape(r) = (m,1) \n",
        "          => Shape(r.T) = (1,m)\n",
        "          => Shape(r.T @ r) = (1,1)\n",
        "        And  Shape(r.T @ A) = (1,m)\n",
        "          => Shape(r.T @A @ r) = (1,m) x (m,1) = (1,1)\n",
        "          => Shape(alpha) = (1,1)\n",
        "    \"\"\"\n",
        "    alpha = (r.T @ r) / (r.T @ A @ r)\n",
        "\n",
        "    # Update step\n",
        "    x = x + alpha * r\n",
        "\n",
        "  return x"
      ],
      "execution_count": null,
      "outputs": []
    },
    {
      "cell_type": "markdown",
      "metadata": {
        "id": "1G4X3kfqr3Yx"
      },
      "source": [
        "### Evaluating"
      ]
    },
    {
      "cell_type": "code",
      "metadata": {
        "colab": {
          "base_uri": "https://localhost:8080/"
        },
        "id": "PeoXIhbxnmjL",
        "outputId": "10ac8f3b-1ff5-4b19-930e-1b3693e60c3e"
      },
      "source": [
        "A = np.array([\n",
        "             [3,2,1],\n",
        "             [1,4,4],\n",
        "             [3,2,8]\n",
        "])\n",
        "\n",
        "np.random.seed(7)\n",
        "\n",
        "b = np.random.standard_normal(size=(3))\n",
        "\n",
        "print(A)\n",
        "print(A.shape)\n",
        "print(b)\n",
        "print(b.shape)"
      ],
      "execution_count": null,
      "outputs": [
        {
          "name": "stdout",
          "output_type": "stream",
          "text": [
            "[[3 2 1]\n",
            " [1 4 4]\n",
            " [3 2 8]]\n",
            "(3, 3)\n",
            "[ 1.6905257  -0.46593737  0.03282016]\n",
            "(3,)\n"
          ]
        }
      ]
    },
    {
      "cell_type": "markdown",
      "metadata": {
        "id": "xoKji5Gar0He"
      },
      "source": [
        "Calling the steepest decent implementation function..."
      ]
    },
    {
      "cell_type": "code",
      "metadata": {
        "colab": {
          "base_uri": "https://localhost:8080/"
        },
        "id": "csNQggvGnn1N",
        "outputId": "134f38e0-690d-4fee-90d7-dbb0e9333157"
      },
      "source": [
        "x = my_steepest_descent(A,b)\n",
        "print(x)"
      ],
      "execution_count": null,
      "outputs": [
        {
          "name": "stdout",
          "output_type": "stream",
          "text": [
            "[ 0.67467172 -0.0483372  -0.23681508]\n"
          ]
        }
      ]
    },
    {
      "cell_type": "markdown",
      "metadata": {
        "id": "qkmZ5xn4sHN9"
      },
      "source": [
        "This `x` should be the solution to `Ax = b`.\n",
        "\n",
        "We can verify this by multiplying `A` and calculated `x` to check if we get back `b`. Ideally we should get back `b`, but since this solution is obtained through approximation, the value of `Ax` may not be exactly be equal to `b` but would be close enough."
      ]
    },
    {
      "cell_type": "code",
      "metadata": {
        "colab": {
          "base_uri": "https://localhost:8080/"
        },
        "id": "quV4lg_erYwE",
        "outputId": "621c3cb6-3dca-422c-95c0-da96d7675463"
      },
      "source": [
        "print(b)\n",
        "print( A @ x )"
      ],
      "execution_count": null,
      "outputs": [
        {
          "name": "stdout",
          "output_type": "stream",
          "text": [
            "[ 1.6905257  -0.46593737  0.03282016]\n",
            "[ 1.6905257  -0.46593737  0.03282016]\n"
          ]
        }
      ]
    },
    {
      "cell_type": "markdown",
      "metadata": {
        "id": "HA6MZ0N1tBUK"
      },
      "source": [
        "---\n",
        "\n",
        "# Steepest Descent continued...\n",
        "Our previous implementation of steepest descent required that the given system of equations should be determined, that is, $A$ should be a square matrix.\n",
        "\n",
        "However, we may have over-determined (Tall $A_{m,n}$ ;  $m > n$) or under-determined (Wide $A_{m,n}$ ;  $m < n$) systems.\n",
        "\n",
        "Hence, we will have to tweak our system $b=Ax$ such that, $A$ becomes a square matrix, and we can use the same solver(or function) for steepest descent that we used for determined system."
      ]
    },
    {
      "cell_type": "markdown",
      "metadata": {
        "id": "5Q4Pg0K7uPVt"
      },
      "source": [
        "## Steepest descent for overdetermined system\n",
        "For overdetermined system, $A_{m,n}$ such that $m>n$.  \n",
        "\n",
        "$b_{m,1} = A_{m,n} x_{n,1}$\n",
        "\n",
        "> $Ax = b$  \n",
        "Multiply $A^T$ on both sides  \n",
        "$A^T Ax = A^Tb$  \n",
        "\n",
        "**Note**: $A$ = (m,n) => $A^T$ = (n,m) => $A^T A$ = (m,m)  \n",
        "We successfully converted $A$ to a square matrix by multiplying it with $A^T$.\n",
        "\n",
        "\n",
        "So for square systems,  \n",
        "```\n",
        "x = my_steepest_gradient(A, b)\n",
        "```\n",
        "\n",
        "But if A is not square,\n",
        "```\n",
        "x = my_steepest_gradient(A.T @ A, A.T @ b)\n",
        "```"
      ]
    },
    {
      "cell_type": "markdown",
      "metadata": {
        "id": "thxmdFPCxjJq"
      },
      "source": [
        "### Evaluating"
      ]
    },
    {
      "cell_type": "code",
      "metadata": {
        "colab": {
          "base_uri": "https://localhost:8080/"
        },
        "id": "1e3h8i0dskGB",
        "outputId": "20fbb6ee-f02d-4168-d78b-0f7358c42cfa"
      },
      "source": [
        "A_under = np.array([\n",
        "             [3,2,1,2],\n",
        "             [1,4,4,5],\n",
        "             [3,2,8,1]\n",
        "])\n",
        "\n",
        "np.random.seed(7)\n",
        "\n",
        "b = np.random.standard_normal(size=(3))\n",
        "\n",
        "print(A_under)\n",
        "print(A_under.shape)\n",
        "print(b)\n",
        "print(b.shape)"
      ],
      "execution_count": null,
      "outputs": [
        {
          "name": "stdout",
          "output_type": "stream",
          "text": [
            "[[3 2 1 2]\n",
            " [1 4 4 5]\n",
            " [3 2 8 1]]\n",
            "(3, 4)\n",
            "[ 1.6905257  -0.46593737  0.03282016]\n",
            "(3,)\n"
          ]
        }
      ]
    },
    {
      "cell_type": "code",
      "metadata": {
        "colab": {
          "base_uri": "https://localhost:8080/"
        },
        "id": "iMzGt1MLxS6g",
        "outputId": "a583c668-ccc7-4186-aabb-284c48769f6a"
      },
      "source": [
        "x = my_steepest_descent(A_under.T @ A_under, A_under.T @ b)\n",
        "print(x)"
      ],
      "execution_count": null,
      "outputs": [
        {
          "name": "stdout",
          "output_type": "stream",
          "text": [
            "[ 0.65783421  0.04703677 -0.24616324 -0.0654519 ]\n"
          ]
        }
      ]
    },
    {
      "cell_type": "markdown",
      "metadata": {
        "id": "ynaPlrr6xlsw"
      },
      "source": [
        "Verifying that $Ax$ indeed produces value approximately equal to $b$"
      ]
    },
    {
      "cell_type": "code",
      "metadata": {
        "colab": {
          "base_uri": "https://localhost:8080/"
        },
        "id": "CVDou95BxgKJ",
        "outputId": "aa70b23d-71f6-4c94-bdab-a4234a4e436d"
      },
      "source": [
        "print(b)\n",
        "print(A_under @ x)"
      ],
      "execution_count": null,
      "outputs": [
        {
          "name": "stdout",
          "output_type": "stream",
          "text": [
            "[ 1.6905257  -0.46593737  0.03282016]\n",
            "[ 1.69050914 -0.46593115  0.03281839]\n"
          ]
        }
      ]
    },
    {
      "cell_type": "code",
      "metadata": {
        "colab": {
          "base_uri": "https://localhost:8080/"
        },
        "id": "z8A2j5t3Bznw",
        "outputId": "949347e9-34e6-4854-8777-46d1f1952a1e"
      },
      "source": [
        "A_over = np.array([\n",
        "             [3,2,1],\n",
        "             [1,4,4],\n",
        "             [3,2,8],\n",
        "             [6,4,2]\n",
        "])\n",
        "\n",
        "b = np.array([10, 21, 31, 20])\n",
        "\n",
        "print(A_over)\n",
        "print(A_over.shape)\n",
        "print(b)\n",
        "print(b.shape)"
      ],
      "execution_count": null,
      "outputs": [
        {
          "name": "stdout",
          "output_type": "stream",
          "text": [
            "[[3 2 1]\n",
            " [1 4 4]\n",
            " [3 2 8]\n",
            " [6 4 2]]\n",
            "(4, 3)\n",
            "[10 21 31 20]\n",
            "(4,)\n"
          ]
        }
      ]
    },
    {
      "cell_type": "code",
      "metadata": {
        "colab": {
          "base_uri": "https://localhost:8080/"
        },
        "id": "MLn-RK-KB_9F",
        "outputId": "c72a9380-a690-4368-8ba9-bf8c8e5ac2f3"
      },
      "source": [
        "x = my_steepest_descent(A_over.T @ A_over, A_over.T @ b)\n",
        "print(x)"
      ],
      "execution_count": null,
      "outputs": [
        {
          "name": "stdout",
          "output_type": "stream",
          "text": [
            "[1.00005144 1.99991709 3.00000982]\n"
          ]
        }
      ]
    },
    {
      "cell_type": "markdown",
      "metadata": {
        "id": "SW895MkZCmmA"
      },
      "source": [
        "Verifying that indeed A.x gives b"
      ]
    },
    {
      "cell_type": "code",
      "metadata": {
        "colab": {
          "base_uri": "https://localhost:8080/"
        },
        "id": "VVTa8ZeDClat",
        "outputId": "017642c0-4fa1-4f84-ad86-7652ca32669a"
      },
      "source": [
        "print(b)\n",
        "print(A_over @ x)"
      ],
      "execution_count": null,
      "outputs": [
        {
          "name": "stdout",
          "output_type": "stream",
          "text": [
            "[10 21 31 20]\n",
            "[ 9.99999831 20.99975907 31.00006701 19.99999661]\n"
          ]
        }
      ]
    },
    {
      "cell_type": "markdown",
      "metadata": {
        "id": "auj02aD6zeEU"
      },
      "source": [
        "---\n",
        "---"
      ]
    },
    {
      "cell_type": "markdown",
      "metadata": {
        "id": "vHawVrl_6dI_"
      },
      "source": [
        "## Conjugate Gradient\n",
        "\n",
        "The steepest descent method is great that we minimize the function in the direction of each step. But it doesn’t guarantee that the direction we are going to minimize the function from all the previous directions.\n",
        "\n",
        "Directions p are A conjugate directions if they have the following property (note A is symmetric positive definite):\n",
        "\n",
        "> $P_0, P_1, P_2... P_{k-1}$, such that   \n",
        "$P_i^T A P_i = 0$ for $i \\ne j$\n",
        "\n",
        "Only when the current direction p is A conjugate to all the previous directions, will the next data point minimize the function in the span of all previous directions.\n"
      ]
    },
    {
      "cell_type": "markdown",
      "metadata": {
        "id": "BlJ7b3m79E0j"
      },
      "source": [
        "### Calculating A conjugate\n",
        "Remember that the steepest descent chose the steepest slope, which is also the residual (r) at each step. And we know that this is a good choice. How about we find an A-conjugate direction that’s the closest to the direction of the steepest descent, i.e., we minimize the 2-norm of the vector (r-p).\n",
        "\n",
        "Current direction  = Current Residual + Last direction  \n",
        "$P_{k} = r_k + \\gamma_k P_{k-1}$\n",
        "\n",
        "Because of the property of A-conjugate directions:\n",
        "$P_i^T A P_i = 0$\n",
        "\n",
        "We can then calculate $\\gamma_k$ as :\n",
        "\n",
        "$P_{k-1}^T A \\gamma_k + \\gamma P_{k-1}^T A P_{k-1} = 0$\n",
        "\n",
        "Hence,  \n",
        "> $\\gamma_k = - \\frac{P_{k-1}^T A \\gamma_k}{P_{k-1}^T A P_{k-1}} $  \n"
      ]
    },
    {
      "cell_type": "code",
      "metadata": {
        "id": "altd6l1l__QC"
      },
      "source": [
        "from numpy import linalg as LA"
      ],
      "execution_count": null,
      "outputs": []
    },
    {
      "cell_type": "code",
      "metadata": {
        "id": "TVXHtplVAGLY"
      },
      "source": [
        "def is_pos_def(x):\n",
        "  \"\"\"check if a matrix is symmetric positive definite\"\"\"\n",
        "  return np.all(np.linalg.eigvals(x) > 0)"
      ],
      "execution_count": null,
      "outputs": []
    },
    {
      "cell_type": "code",
      "metadata": {
        "id": "OjnqsQhJxt6B"
      },
      "source": [
        "def my_conjugate_gradient(A, b):\n",
        "  # if (is_pos_def(A) == False) | (A != A.T).any():\n",
        "    # raise ValueError('Matrix A needs to be symmetric positive definite (SPD)')\n",
        "  \n",
        "  # Initialize\n",
        "  p = r = b\n",
        "  k = 0\n",
        "  x = np.zeros(A.shape[-1])\n",
        "\n",
        "  # Can iterate for fixed number of times or until residue drops below threshold\n",
        "  while LA.norm(r) > 1e-10 :\n",
        "    if k == 0:\n",
        "      pass\n",
        "    else: \n",
        "      gamma = - (p @ A @ r)/(p @ A @ p)\n",
        "      p = r + gamma * p\n",
        "    \n",
        "    # Calculate step size\n",
        "    alpha = (p @ r) / (p @ A @ p)\n",
        "\n",
        "    # Update step\n",
        "    x = x + alpha * p\n",
        "    # Update residue for next iteration\n",
        "    r = r - alpha * (A @ p)\n",
        "    k =+ 1\n",
        "  return x"
      ],
      "execution_count": null,
      "outputs": []
    },
    {
      "cell_type": "markdown",
      "metadata": {
        "id": "e_9PpbWuAlB-"
      },
      "source": [
        "### Evaluate"
      ]
    },
    {
      "cell_type": "code",
      "metadata": {
        "colab": {
          "base_uri": "https://localhost:8080/"
        },
        "id": "I__7MxYRAv-l",
        "outputId": "ee48a1a1-59c5-46ff-eece-7ac3feaa4957"
      },
      "source": [
        "A = np.array([\n",
        "              [3,2],\n",
        "              [2,3]\n",
        "])\n",
        "\n",
        "b = np.array([-2, 7])\n",
        "\n",
        "print(A)\n",
        "print(A.shape)\n",
        "print(b)\n",
        "print(b.shape)"
      ],
      "execution_count": null,
      "outputs": [
        {
          "name": "stdout",
          "output_type": "stream",
          "text": [
            "[[3 2]\n",
            " [2 3]]\n",
            "(2, 2)\n",
            "[-2  7]\n",
            "(2,)\n"
          ]
        }
      ]
    },
    {
      "cell_type": "code",
      "metadata": {
        "colab": {
          "base_uri": "https://localhost:8080/"
        },
        "id": "yH9L7upuARGH",
        "outputId": "1175f879-f8ab-48d9-87e0-3f09149984f7"
      },
      "source": [
        "x = my_conjugate_gradient(A.T @ A, A.T @ b)\n",
        "print(x)"
      ],
      "execution_count": null,
      "outputs": [
        {
          "name": "stdout",
          "output_type": "stream",
          "text": [
            "[-4.  5.]\n"
          ]
        }
      ]
    },
    {
      "cell_type": "markdown",
      "metadata": {
        "id": "2RLx2_RNC2ZL"
      },
      "source": [
        "Verifying..."
      ]
    },
    {
      "cell_type": "code",
      "metadata": {
        "colab": {
          "base_uri": "https://localhost:8080/"
        },
        "id": "fmBeNun-C4yx",
        "outputId": "f016f60f-d7e9-48f4-d8e4-4a5e143ab7ea"
      },
      "source": [
        "A @ x"
      ],
      "execution_count": null,
      "outputs": [
        {
          "data": {
            "text/plain": [
              "array([-2.,  7.])"
            ]
          },
          "execution_count": 53,
          "metadata": {},
          "output_type": "execute_result"
        }
      ]
    },
    {
      "cell_type": "markdown",
      "metadata": {
        "id": "Gg1k-1wdBBud"
      },
      "source": [
        "If A is an overdetermined system"
      ]
    },
    {
      "cell_type": "code",
      "metadata": {
        "colab": {
          "base_uri": "https://localhost:8080/"
        },
        "id": "l7hMjTzJAUSU",
        "outputId": "1412eb76-e4a4-4dc0-f442-be796a96ef9d"
      },
      "source": [
        "A_over = np.array([\n",
        "             [3,2,1],\n",
        "             [1,4,4],\n",
        "             [3,2,8],\n",
        "             [6,4,2]\n",
        "])\n",
        "\n",
        "b = np.array([10, 21, 31, 20])\n",
        "\n",
        "print(A_over)\n",
        "print(A_over.shape)\n",
        "print(b)\n",
        "print(b.shape)"
      ],
      "execution_count": null,
      "outputs": [
        {
          "name": "stdout",
          "output_type": "stream",
          "text": [
            "[[3 2 1]\n",
            " [1 4 4]\n",
            " [3 2 8]\n",
            " [6 4 2]]\n",
            "(4, 3)\n",
            "[10 21 31 20]\n",
            "(4,)\n"
          ]
        }
      ]
    },
    {
      "cell_type": "code",
      "metadata": {
        "colab": {
          "base_uri": "https://localhost:8080/"
        },
        "id": "uLOcZjL1DHGS",
        "outputId": "443871c6-1728-4139-8a59-e6234008127b"
      },
      "source": [
        "x = my_conjugate_gradient(A_over.T @ A_over, A_over.T @ b)\n",
        "print(x)"
      ],
      "execution_count": null,
      "outputs": [
        {
          "name": "stdout",
          "output_type": "stream",
          "text": [
            "[1. 2. 3.]\n"
          ]
        }
      ]
    },
    {
      "cell_type": "markdown",
      "metadata": {
        "id": "tSNloxzfDWLX"
      },
      "source": [
        "Verifying..."
      ]
    },
    {
      "cell_type": "code",
      "metadata": {
        "colab": {
          "base_uri": "https://localhost:8080/"
        },
        "id": "KJNdOEMTDUcG",
        "outputId": "3cbb5e8b-b9c1-48f0-ec90-16e2edcaf2ba"
      },
      "source": [
        "A_over @ x"
      ],
      "execution_count": null,
      "outputs": [
        {
          "data": {
            "text/plain": [
              "array([10., 21., 31., 20.])"
            ]
          },
          "execution_count": 56,
          "metadata": {},
          "output_type": "execute_result"
        }
      ]
    },
    {
      "cell_type": "markdown",
      "metadata": {
        "id": "nTj5BfvTEuXt"
      },
      "source": [
        "If A is an underdetermined system"
      ]
    },
    {
      "cell_type": "code",
      "metadata": {
        "colab": {
          "base_uri": "https://localhost:8080/"
        },
        "id": "FJ_WM8AwDYnK",
        "outputId": "74b09b1c-eb36-42ea-aba7-5bce30f1aa16"
      },
      "source": [
        "A_under = np.array([\n",
        "             [3,2,1,2],\n",
        "             [1,4,4,5],\n",
        "             [3,2,8,1]\n",
        "])\n",
        "\n",
        "np.random.seed(7)\n",
        "\n",
        "b = np.array([12, 26, 32])\n",
        "\n",
        "print(A_under)\n",
        "print(A_under.shape)\n",
        "print(b)\n",
        "print(b.shape)"
      ],
      "execution_count": null,
      "outputs": [
        {
          "name": "stdout",
          "output_type": "stream",
          "text": [
            "[[3 2 1 2]\n",
            " [1 4 4 5]\n",
            " [3 2 8 1]]\n",
            "(3, 4)\n",
            "[12 26 32]\n",
            "(3,)\n"
          ]
        }
      ]
    },
    {
      "cell_type": "code",
      "metadata": {
        "colab": {
          "base_uri": "https://localhost:8080/"
        },
        "id": "7zmD1zBbFTIZ",
        "outputId": "84acf325-aa01-415b-da3d-f9b32c122fb6"
      },
      "source": [
        "x = my_conjugate_gradient(A_under.T @ A_under, A_under.T @b)\n",
        "print(x)"
      ],
      "execution_count": null,
      "outputs": [
        {
          "name": "stdout",
          "output_type": "stream",
          "text": [
            "[1.09842319 1.44226857 3.05467955 1.38275687]\n"
          ]
        }
      ]
    },
    {
      "cell_type": "markdown",
      "metadata": {
        "id": "olMtBIg4G_oa"
      },
      "source": [
        "Verifying..."
      ]
    },
    {
      "cell_type": "code",
      "metadata": {
        "colab": {
          "base_uri": "https://localhost:8080/"
        },
        "id": "Q_FeDNTnFbpi",
        "outputId": "a143e04e-cce7-4642-a323-068aae899f7b"
      },
      "source": [
        "A_under @ x"
      ],
      "execution_count": null,
      "outputs": [
        {
          "data": {
            "text/plain": [
              "array([12., 26., 32.])"
            ]
          },
          "execution_count": 59,
          "metadata": {},
          "output_type": "execute_result"
        }
      ]
    },
    {
      "cell_type": "markdown",
      "metadata": {
        "id": "Eu5XdZhcHC5A"
      },
      "source": [
        "---\n",
        "---"
      ]
    },
    {
      "cell_type": "markdown",
      "metadata": {
        "id": "4ddCuHkQTk8Q"
      },
      "source": [
        "# Weighted Least Squares Solver"
      ]
    },
    {
      "cell_type": "code",
      "metadata": {
        "id": "eoqjUHaWT7Mw"
      },
      "source": [
        "import numpy as np"
      ],
      "execution_count": null,
      "outputs": []
    },
    {
      "cell_type": "markdown",
      "metadata": {
        "id": "7-BbcIrDVtjt"
      },
      "source": [
        "Least squares solver.\n",
        "\n",
        "Solves for $Ax=b$. \n",
        "\n",
        "If A is square and full rank (that is the system is well-determined), then `np.linalg.lstsq` returns the exact solution. \n",
        "\n",
        "Else, if the system is overdetermined or under-determined, then approximate solution is computed by minimizing the L2 Norm of $\\epsilon$, that is,   \n",
        "$min_x || \\epsilon ||_2$  \n",
        "$=min_x || b - Ax ||_2$\n",
        "\n",
        "This is also called an **Minimum Energy Solution**."
      ]
    },
    {
      "cell_type": "code",
      "metadata": {
        "id": "_taEJbc6HDdj"
      },
      "source": [
        "def least_squares_solver(A, b):\n",
        "  # Using Numpy. \n",
        "  x_np, residuals, rank, singular  = np.linalg.lstsq(A, b, rcond=-1)\n",
        "\n",
        "  return x_np, residuals, rank, singular"
      ],
      "execution_count": null,
      "outputs": []
    },
    {
      "cell_type": "markdown",
      "metadata": {
        "id": "hrqXFJ0TXADp"
      },
      "source": [
        "To compute Weighted Least Squares, we simply pass in the weighted matrices\n",
        "\n",
        "Solution to $Ax=b$ can be found by minimizing $=min_x || b - Ax ||_2$ in `LS(A, b)`, where `LS` represents any least squares solver such as steepest descent or conjugate gradient..\n",
        "\n",
        "But to solve \n",
        "$min_x ||W( b - Ax ) ||_2$  \n",
        "$= min_x ||Wb - WAx ) ||_2$\n",
        "\n",
        "So simply use `LS(WA, Wb)` to solve the system, where `LS` still represents the same linear solver."
      ]
    },
    {
      "cell_type": "markdown",
      "metadata": {
        "id": "cQ9laT_dcNiE"
      },
      "source": [
        "### Weighted Least Squares Solver \n",
        "**(When we know the weights beforehand)**\n"
      ]
    },
    {
      "cell_type": "code",
      "metadata": {
        "colab": {
          "base_uri": "https://localhost:8080/"
        },
        "id": "v4koEcPOcdsE",
        "outputId": "4a574425-155a-4a0a-a3bb-b1de61f3af50"
      },
      "source": [
        "A_over = np.array([\n",
        "             [3,2,1],\n",
        "             [1,4,4],\n",
        "             [3,2,8],\n",
        "             [6,4,2]\n",
        "])\n",
        "\n",
        "b = np.array([10, 21, 31, 20])\n",
        "\n",
        "print(A_over)\n",
        "print(b)\n",
        "\n",
        "W = np.random.randn(A_over.shape[0], A_over.shape[0])\n",
        "\n",
        "x,_,_,_ = least_squares_solver(W @ A_over, W @ b)\n",
        "\n",
        "print(x)"
      ],
      "execution_count": null,
      "outputs": [
        {
          "name": "stdout",
          "output_type": "stream",
          "text": [
            "[[3 2 1]\n",
            " [1 4 4]\n",
            " [3 2 8]\n",
            " [6 4 2]]\n",
            "[10 21 31 20]\n",
            "[1. 2. 3.]\n"
          ]
        }
      ]
    },
    {
      "cell_type": "code",
      "metadata": {
        "colab": {
          "base_uri": "https://localhost:8080/"
        },
        "id": "ViTWgmVMfJqg",
        "outputId": "2c3ebee1-1150-40c2-9770-2c6b9021da64"
      },
      "source": [
        "print(b)\n",
        "print(A_over @ x)"
      ],
      "execution_count": null,
      "outputs": [
        {
          "name": "stdout",
          "output_type": "stream",
          "text": [
            "[10 21 31 20]\n",
            "[10. 21. 31. 20.]\n"
          ]
        }
      ]
    },
    {
      "cell_type": "markdown",
      "metadata": {
        "id": "TYmVsPHoYVqB"
      },
      "source": [
        "### Iteratively Reweighted Least Squares (IRLS)\n",
        "**(When weights are NOT known)**. Computation of weights is internal to the algorithm.\n",
        "\n",
        "Using Numpy's approximate least squares solver for fixed number of iterations."
      ]
    },
    {
      "cell_type": "markdown",
      "metadata": {
        "id": "vBj5bSy4gGQm"
      },
      "source": [
        "**ALGORITHM**\n",
        "```\n",
        "  1) Initialize:=\n",
        "      W = Identity\n",
        "  2) For i = 1 to max_iter\n",
        "        x = min L2 norm of ||Wx|| such that y=Ax\n",
        "        \n",
        "        W_i = 1 / sqrt(x_i) for all i = 1 to n\n",
        "        \n",
        "        Update diag elements of W with new values W_i\n",
        "        \n",
        "```"
      ]
    },
    {
      "cell_type": "code",
      "metadata": {
        "id": "TvnqZ3HMC4lU"
      },
      "source": [
        "import numpy as np"
      ],
      "execution_count": null,
      "outputs": []
    },
    {
      "cell_type": "code",
      "metadata": {
        "id": "NKT381DEgI5h"
      },
      "source": [
        "def my_IRLS(A, b, max_iter=100, delta=0.001):\n",
        "  # Get dimensions\n",
        "  m = A.shape[0] # A is (m,m)\n",
        "\n",
        "  # Initialize\n",
        "  W = np.eye(m)\n",
        "\n",
        "  for i in range(max_iter):\n",
        "    # Solve\n",
        "    x,_,_,_ = np.linalg.lstsq(W @ A, W @ b, rcond=None)\n",
        "\n",
        "    # Update weights\n",
        "    np.fill_diagonal(W, 1/np.sqrt(b - A @ x + delta))\n",
        "    # a small delta is added because b-Ax can yield very small negative values.\n",
        "    # Adding delta ensures that everything inside sqrt remains +ve\n",
        "\n",
        "  return x"
      ],
      "execution_count": null,
      "outputs": []
    },
    {
      "cell_type": "markdown",
      "metadata": {
        "id": "rZdLsObNU61m"
      },
      "source": [
        "#### For a determined system\n"
      ]
    },
    {
      "cell_type": "code",
      "metadata": {
        "colab": {
          "base_uri": "https://localhost:8080/"
        },
        "id": "XcAQkbP5EcLF",
        "outputId": "e065b3c0-d1b9-45d0-a6d0-b8e35db5b848"
      },
      "source": [
        "A = np.array([\n",
        "              [3,2],\n",
        "              [2,3]\n",
        "])\n",
        "\n",
        "b = np.array([-2, 7])\n",
        "\n",
        "print(A)\n",
        "print(A.shape)\n",
        "print(b)\n",
        "print(b.shape)"
      ],
      "execution_count": null,
      "outputs": [
        {
          "name": "stdout",
          "output_type": "stream",
          "text": [
            "[[3 2]\n",
            " [2 3]]\n",
            "(2, 2)\n",
            "[-2  7]\n",
            "(2,)\n"
          ]
        }
      ]
    },
    {
      "cell_type": "code",
      "metadata": {
        "colab": {
          "base_uri": "https://localhost:8080/"
        },
        "id": "dKSfCO4pEiF9",
        "outputId": "af7de29c-35a8-470c-e620-495cb93672a8"
      },
      "source": [
        "x = my_IRLS(A, b)\n",
        "print(x)"
      ],
      "execution_count": null,
      "outputs": [
        {
          "name": "stdout",
          "output_type": "stream",
          "text": [
            "[-4.  5.]\n"
          ]
        }
      ]
    },
    {
      "cell_type": "markdown",
      "metadata": {
        "id": "9pImy4zZjrEG"
      },
      "source": [
        "Verifying..."
      ]
    },
    {
      "cell_type": "code",
      "metadata": {
        "colab": {
          "base_uri": "https://localhost:8080/"
        },
        "id": "enQ99ifDjsbE",
        "outputId": "cbadf94f-06b0-433b-a053-a9e9eca182dc"
      },
      "source": [
        "print(b)\n",
        "print(A @ x)"
      ],
      "execution_count": null,
      "outputs": [
        {
          "name": "stdout",
          "output_type": "stream",
          "text": [
            "[-2  7]\n",
            "[-2.  7.]\n"
          ]
        }
      ]
    },
    {
      "cell_type": "markdown",
      "metadata": {
        "id": "g60gB1NEjws5"
      },
      "source": [
        "#### Over-determined system"
      ]
    },
    {
      "cell_type": "code",
      "metadata": {
        "colab": {
          "base_uri": "https://localhost:8080/"
        },
        "id": "GpGHNxaBahs4",
        "outputId": "d4846a6a-4f51-434c-82e0-83784f3adb80"
      },
      "source": [
        "A_over = np.array([\n",
        "             [3,2,1],\n",
        "             [1,4,4],\n",
        "             [3,2,8],\n",
        "             [6,4,2]\n",
        "])\n",
        "\n",
        "b = np.array([10, 21, 31, 20])\n",
        "\n",
        "print(A_over)\n",
        "print(A_over.shape)\n",
        "print(b)\n",
        "print(b.shape)"
      ],
      "execution_count": null,
      "outputs": [
        {
          "name": "stdout",
          "output_type": "stream",
          "text": [
            "[[3 2 1]\n",
            " [1 4 4]\n",
            " [3 2 8]\n",
            " [6 4 2]]\n",
            "(4, 3)\n",
            "[10 21 31 20]\n",
            "(4,)\n"
          ]
        }
      ]
    },
    {
      "cell_type": "markdown",
      "metadata": {
        "id": "4moONgQ5k6TM"
      },
      "source": [
        "If our least squares solver `LS` is only capable of solving determined systems (that is when A is a square matrix), we tweak our inputs to the solver as \n",
        "\n",
        "$x = LS (A, b) \\mid A_{m,m}$  \n",
        "\n",
        "If our $A$ is over-determined or underdetermined, we input   \n",
        "$x = LS (A^T A, A^T b) \\mid A_{m,n}$  "
      ]
    },
    {
      "cell_type": "code",
      "metadata": {
        "colab": {
          "base_uri": "https://localhost:8080/"
        },
        "id": "fQkEdzMakSYQ",
        "outputId": "c9f90c02-7ae0-48cf-cb31-7778d5418df0"
      },
      "source": [
        "x = my_IRLS(A_over.T @ A_over, A_over.T @ b)\n",
        "print(x)"
      ],
      "execution_count": null,
      "outputs": [
        {
          "name": "stdout",
          "output_type": "stream",
          "text": [
            "[1. 2. 3.]\n"
          ]
        }
      ]
    },
    {
      "cell_type": "markdown",
      "metadata": {
        "id": "88juR6rukOBD"
      },
      "source": [
        "Verifying that the solution x we found indeed satisfies $Ax = b$:"
      ]
    },
    {
      "cell_type": "code",
      "metadata": {
        "colab": {
          "base_uri": "https://localhost:8080/"
        },
        "id": "bG9mI6Mykawq",
        "outputId": "767a79b1-d7c6-4e9b-dac4-84e5e4bc98b5"
      },
      "source": [
        "print(b)\n",
        "print(A_over @ x)"
      ],
      "execution_count": null,
      "outputs": [
        {
          "name": "stdout",
          "output_type": "stream",
          "text": [
            "[10 21 31 20]\n",
            "[10. 21. 31. 20.]\n"
          ]
        }
      ]
    },
    {
      "cell_type": "markdown",
      "metadata": {
        "id": "2vpaFnyRmFwa"
      },
      "source": [
        "However, the Least Squares Solver that we're using from Numpy namely **`np.linalg.lstsq`** is internally capable of handling overdetermined, underdtermined and fully determined systems. So, actually we do not have to worry about first converting $A$ into a square matrix.\n",
        "\n",
        "Verifying this by simply calling `my_IRLS(A_over, b)` instead of `my_IRLS(A_over.T @ A_over, A_over.T @ b)`"
      ]
    },
    {
      "cell_type": "code",
      "metadata": {
        "colab": {
          "base_uri": "https://localhost:8080/"
        },
        "id": "EiczgXt0ayQu",
        "outputId": "380476b3-3025-4f46-e2b0-5c665719504b"
      },
      "source": [
        "x = my_IRLS(A_over, b)\n",
        "print(x)"
      ],
      "execution_count": null,
      "outputs": [
        {
          "name": "stdout",
          "output_type": "stream",
          "text": [
            "[1. 2. 3.]\n"
          ]
        }
      ]
    },
    {
      "cell_type": "markdown",
      "metadata": {
        "id": "4vR1tQ7um3cq"
      },
      "source": [
        "Verifying that the solution x we found indeed satisfies $Ax=b$ :"
      ]
    },
    {
      "cell_type": "code",
      "metadata": {
        "colab": {
          "base_uri": "https://localhost:8080/"
        },
        "id": "MrriAjKrDXfg",
        "outputId": "e3deaa21-642e-4c42-91db-d7e56e32d5b7"
      },
      "source": [
        "print(b)\n",
        "print( A_over @ x )"
      ],
      "execution_count": null,
      "outputs": [
        {
          "name": "stdout",
          "output_type": "stream",
          "text": [
            "[10 21 31 20]\n",
            "[10. 21. 31. 20.]\n"
          ]
        }
      ]
    },
    {
      "cell_type": "markdown",
      "metadata": {
        "id": "ut1JPXbmm8ve"
      },
      "source": [
        "#### Underdetermined systems"
      ]
    },
    {
      "cell_type": "code",
      "metadata": {
        "colab": {
          "base_uri": "https://localhost:8080/"
        },
        "id": "J5ysYy6PkjdS",
        "outputId": "cb80ff12-ad1d-457a-e394-50dbf8229346"
      },
      "source": [
        "A_under = np.array([\n",
        "             [3,2,1,2],\n",
        "             [1,4,4,5],\n",
        "             [3,2,8,1]\n",
        "])\n",
        "\n",
        "b = np.array([12, 26, 32])\n",
        "\n",
        "print(A_under.shape)\n",
        "print(b.shape)"
      ],
      "execution_count": null,
      "outputs": [
        {
          "name": "stdout",
          "output_type": "stream",
          "text": [
            "(3, 4)\n",
            "(3,)\n"
          ]
        }
      ]
    },
    {
      "cell_type": "markdown",
      "metadata": {
        "id": "3KbGUe0PwISc"
      },
      "source": [
        "Just like the case of overdetermined systems, if the Least Squares solver is capable of solving only square (fully determined) systems, then we convert the inputs $A, b$ to square matrices such that $A \\rightarrow A^T A$ and $b \\rightarrow A^T b$"
      ]
    },
    {
      "cell_type": "code",
      "metadata": {
        "colab": {
          "base_uri": "https://localhost:8080/"
        },
        "id": "WmVlH8t4v6r8",
        "outputId": "ea89a77f-7796-404b-8400-93ca3159899d"
      },
      "source": [
        "x = my_IRLS(A_under.T @ A_under, A_under.T @ b)\n",
        "print(x)"
      ],
      "execution_count": null,
      "outputs": [
        {
          "name": "stdout",
          "output_type": "stream",
          "text": [
            "[1.09842319 1.44226857 3.05467955 1.38275687]\n"
          ]
        }
      ]
    },
    {
      "cell_type": "code",
      "metadata": {
        "colab": {
          "base_uri": "https://localhost:8080/"
        },
        "id": "xAzQwI3MnFjv",
        "outputId": "aeeddfa3-245a-4adf-d43c-12f1306a973f"
      },
      "source": [
        "x = my_IRLS(A_under, b)\n",
        "print(x)"
      ],
      "execution_count": null,
      "outputs": [
        {
          "name": "stdout",
          "output_type": "stream",
          "text": [
            "[1.09842319 1.44226857 3.05467955 1.38275687]\n"
          ]
        }
      ]
    },
    {
      "cell_type": "markdown",
      "metadata": {
        "id": "o3Nfjbs308Xa"
      },
      "source": [
        "Verifying that the solution `x` we computed indeed satisfies $Ax=b$"
      ]
    },
    {
      "cell_type": "code",
      "metadata": {
        "colab": {
          "base_uri": "https://localhost:8080/"
        },
        "id": "v6y9UNRYntsM",
        "outputId": "750eb919-45ec-4d03-d30e-5d6a16ee2388"
      },
      "source": [
        "print(b)\n",
        "print(A_under @ x)"
      ],
      "execution_count": null,
      "outputs": [
        {
          "name": "stdout",
          "output_type": "stream",
          "text": [
            "[12 26 32]\n",
            "[12. 26. 32.]\n"
          ]
        }
      ]
    },
    {
      "cell_type": "markdown",
      "metadata": {
        "id": "NwhCv6Hh1SJK"
      },
      "source": [
        "But since, **`np.linalg.lstsq`** is internally capable of handling overdetermined, underdtermined and fully determined systems, we do not have to worry about first converting $A$ into a square matrix."
      ]
    },
    {
      "cell_type": "code",
      "metadata": {
        "colab": {
          "base_uri": "https://localhost:8080/"
        },
        "id": "EjjrWEWpv1VQ",
        "outputId": "0841a518-ef1d-40f6-d8f2-395e9ffb2e61"
      },
      "source": [
        "x = my_IRLS(A_under, b)\n",
        "print(x)"
      ],
      "execution_count": null,
      "outputs": [
        {
          "name": "stdout",
          "output_type": "stream",
          "text": [
            "[1.09842319 1.44226857 3.05467955 1.38275687]\n"
          ]
        }
      ]
    },
    {
      "cell_type": "markdown",
      "metadata": {
        "id": "lLqLdWY11hnS"
      },
      "source": [
        "Verifying that the solution `x` we computed indeed satisfies $Ax=b$"
      ]
    },
    {
      "cell_type": "code",
      "metadata": {
        "colab": {
          "base_uri": "https://localhost:8080/"
        },
        "id": "n-k4WEp-1hLR",
        "outputId": "4d6a82ba-c823-4348-9c85-dfc53567e276"
      },
      "source": [
        "print(b)\n",
        "print(A_under @ x)"
      ],
      "execution_count": null,
      "outputs": [
        {
          "name": "stdout",
          "output_type": "stream",
          "text": [
            "[12 26 32]\n",
            "[12. 26. 32.]\n"
          ]
        }
      ]
    },
    {
      "cell_type": "markdown",
      "metadata": {
        "id": "-nyN3Ztk2Ixb"
      },
      "source": [
        "---\n",
        "---"
      ]
    },
    {
      "cell_type": "markdown",
      "metadata": {
        "id": "ueePEsCR7rvV"
      },
      "source": [
        "## Langrangian\n",
        "Lagrangian can used whenever we have to minimize a function $g(x)$ such that a condition $f(x)$ holds true\n",
        "\n",
        "**Goal:** $min_x g(x)$ such that $f(x)$\n",
        "\n",
        "This is done by:  \n",
        "1. $L(x,\\lambda) = g(x) + \\lambda f(x)$\n",
        "2. $\\triangledown_x L(x,\\lambda) = 0$\n",
        "3. $\\triangledown_\\lambda L(x,\\lambda) = 0$\n",
        "\n",
        "From (2) and (3) solve for eliminate $\\lambda$ and solve for $x$.\n",
        "\n",
        "\n",
        "---\n",
        "---"
      ]
    },
    {
      "cell_type": "markdown",
      "metadata": {
        "id": "oHk9VxBxCk6B"
      },
      "source": [
        "# Underdetermined systems\n",
        "\n",
        "Underdetermined systems have infinite many solutions. Because of the presence of free variables, those free variables can assume any value(s) thereby resulting in infinite many solutions.\n",
        "\n",
        "## Finding solutions for underdetermined systems\n",
        "Since they have infinitely many solutions, finding a solution to an underdetermined system is essentially just a search problem.\n",
        "\n",
        "This can be accomplished through a variety of ways such as\n",
        "- Minimum Energy Solution\n",
        "- Weighted minimum energy solution"
      ]
    },
    {
      "cell_type": "markdown",
      "metadata": {
        "id": "5lGYQ9BOCoaW"
      },
      "source": [
        "### Minimum Energy Solution\n",
        "Goal is to minimize $||x||_2^2$, such that $b = Ax$\n",
        "\n",
        "Since the goal is to simply find the minimum value of a function, we can use **Lagrangian**.\n"
      ]
    },
    {
      "cell_type": "code",
      "metadata": {
        "id": "N0jzKxJz5OPM"
      },
      "source": [
        "import numpy as np\n",
        "import sympy"
      ],
      "execution_count": null,
      "outputs": []
    },
    {
      "cell_type": "markdown",
      "metadata": {
        "id": "dD9Di8D89j1k"
      },
      "source": [
        "The expression for minimum energy solution when solved using Lagrangian is:  \n",
        "\n",
        "$x = A^T (A A^T)^{-1} b$"
      ]
    },
    {
      "cell_type": "code",
      "metadata": {
        "id": "26JJize91nEB"
      },
      "source": [
        "def minimum_energy(A, b, max_iter=100):\n",
        "  x = A.T @ np.linalg.inv(A @ A.T) @ b\n",
        "  return x"
      ],
      "execution_count": null,
      "outputs": []
    },
    {
      "cell_type": "code",
      "metadata": {
        "colab": {
          "base_uri": "https://localhost:8080/"
        },
        "id": "FL3h5ldCFT5E",
        "outputId": "7219edb6-7397-4786-e00d-9b9ceaea2484"
      },
      "source": [
        "A_under = np.array([\n",
        "             [3,2,1,2],\n",
        "             [1,4,4,5],\n",
        "             [3,2,8,1]\n",
        "])\n",
        "\n",
        "b = np.array([12, 26, 32])\n",
        "\n",
        "print(A_under.shape)\n",
        "print((A_under @ A_under.T).shape)\n",
        "print(b.shape)"
      ],
      "execution_count": null,
      "outputs": [
        {
          "name": "stdout",
          "output_type": "stream",
          "text": [
            "(3, 4)\n",
            "(3, 3)\n",
            "(3,)\n"
          ]
        }
      ]
    },
    {
      "cell_type": "code",
      "metadata": {
        "colab": {
          "base_uri": "https://localhost:8080/"
        },
        "id": "HtskXBo_7WZ0",
        "outputId": "853b9441-3716-4bea-ac50-ed7f0a1c058b"
      },
      "source": [
        "x = minimum_energy(A_under, b)\n",
        "print(x)"
      ],
      "execution_count": null,
      "outputs": [
        {
          "name": "stdout",
          "output_type": "stream",
          "text": [
            "[1.09842319 1.44226857 3.05467955 1.38275687]\n"
          ]
        }
      ]
    },
    {
      "cell_type": "markdown",
      "metadata": {
        "id": "X2e4Ue-y9_c8"
      },
      "source": [
        "Hence, these are the values of $x$ that satisfy $Ax=b$. There are many more $x$ that would satisfy $Ax=b$, but the one that we computed has the minimum energy, that is, lowest $||x||_2^2$"
      ]
    },
    {
      "cell_type": "markdown",
      "metadata": {
        "id": "ChjWkwtg91Hg"
      },
      "source": [
        "Verifying that our solution is indeed correct..."
      ]
    },
    {
      "cell_type": "code",
      "metadata": {
        "colab": {
          "base_uri": "https://localhost:8080/"
        },
        "id": "IwaLzYy0bryi",
        "outputId": "0f2b1848-79ac-48dc-c218-266d7e7bd2a3"
      },
      "source": [
        "print(b)\n",
        "print(A_under @ x)"
      ],
      "execution_count": null,
      "outputs": [
        {
          "name": "stdout",
          "output_type": "stream",
          "text": [
            "[12 26 32]\n",
            "[12. 26. 32.]\n"
          ]
        }
      ]
    },
    {
      "cell_type": "markdown",
      "metadata": {
        "id": "E4sZ-BCN-a_O"
      },
      "source": [
        "## Weighted Minimuim Energy Solution\n",
        "**(Weights are internal to the algorithm)**  \n",
        "\n",
        "The expression for weighted minimum energy solution is:  \n",
        "\\begin{align}\n",
        "  x = M \\tilde{A}^T (\\tilde{A} \\tilde{A}^T )^{-1} b\n",
        "\\end{align}\n",
        "\n",
        "where,  \n",
        "$A$ = $(m,n)$ and $b$ = $(n,1)$  \n",
        "$W $ = Diagonal matrix of size $(n,n)$  (Initialized with identity)\n",
        "\n",
        "> $M =  W^T W$  \n",
        "> $\\tilde{A} = AM$\n",
        "\n",
        "We already know that minimum energy solution to $min_x Ax=b$ was  \n",
        "$x = A^T (A A^T)^{-1} b$\n",
        "\n",
        "To solve $x = M \\tilde{A}^T (\\tilde{A} \\tilde{A}^T )^{-1} b$, we simply use the same solver by:  \n",
        "\n",
        "> $t$ = minenergy $(\\tilde{A}, b)$  \n",
        "> $x = Mt$"
      ]
    },
    {
      "cell_type": "code",
      "metadata": {
        "id": "XUt_W0eQ963r"
      },
      "source": [
        "def weighted_min_energy(A, b, max_iter=100, delta=0.0001):\n",
        "  m,n = A.shape # A = (m,n)\n",
        "  \n",
        "  # Initialize\n",
        "  W = np.eye(n) # W = (n,n)\n",
        "  \n",
        "  for i in range(max_iter):\n",
        "    M = W.T @ W  # M = (n,n)\n",
        "    A_tilde = A @ M  # A_tilde = (m,n)\n",
        "\n",
        "    # solving using minenergy solver\n",
        "    t = minimum_energy(A_tilde, b) # t = (n,)\n",
        "    x = M @ t\n",
        "\n",
        "    # Update weights\n",
        "    np.fill_diagonal(W, 1/np.sqrt(b - A @ x + delta))\n",
        "    # Note: (b-Ax) can lead to very tiny negative values\n",
        "    # delta is added to keep the content of sqrt positive\n",
        "    \n",
        "  return x"
      ],
      "execution_count": null,
      "outputs": []
    },
    {
      "cell_type": "code",
      "metadata": {
        "colab": {
          "base_uri": "https://localhost:8080/"
        },
        "id": "SYQA7WZGGbRr",
        "outputId": "cd626621-f0da-4364-e661-90ad453af112"
      },
      "source": [
        "A_under = np.array([\n",
        "             [3,2,1,2],\n",
        "             [1,4,4,5],\n",
        "             [3,2,8,1]\n",
        "])\n",
        "\n",
        "b = np.array([12, 26, 32])\n",
        "\n",
        "print(A_under.shape)\n",
        "print((A_under @ A_under.T).shape)\n",
        "print(b.shape)"
      ],
      "execution_count": null,
      "outputs": [
        {
          "name": "stdout",
          "output_type": "stream",
          "text": [
            "(3, 4)\n",
            "(3, 3)\n",
            "(3,)\n"
          ]
        }
      ]
    },
    {
      "cell_type": "code",
      "metadata": {
        "colab": {
          "base_uri": "https://localhost:8080/"
        },
        "id": "ojEmMpSjGd5q",
        "outputId": "1c158983-a873-48e7-a57f-4d95bd3a13a8"
      },
      "source": [
        "x = weighted_min_energy(A_under, b)\n",
        "print(x)"
      ],
      "execution_count": null,
      "outputs": [
        {
          "name": "stdout",
          "output_type": "stream",
          "text": [
            "[1.09842319 1.44226857 3.05467955 1.38275687]\n"
          ]
        }
      ]
    },
    {
      "cell_type": "markdown",
      "metadata": {
        "id": "98CevgOeG6b8"
      },
      "source": [
        "Validating if $Ax$ indeed gives us $b$"
      ]
    },
    {
      "cell_type": "code",
      "metadata": {
        "colab": {
          "base_uri": "https://localhost:8080/"
        },
        "id": "YHhaCtc_Ghtj",
        "outputId": "d41bcb6a-cb75-4f2c-8f03-a8de201eb862"
      },
      "source": [
        "print(b)\n",
        "print(A_under @ x)"
      ],
      "execution_count": null,
      "outputs": [
        {
          "name": "stdout",
          "output_type": "stream",
          "text": [
            "[12 26 32]\n",
            "[12. 26. 32.]\n"
          ]
        }
      ]
    },
    {
      "cell_type": "markdown",
      "metadata": {
        "id": "4U9L-CrdHE1F"
      },
      "source": [
        "----\n",
        "---"
      ]
    },
    {
      "cell_type": "markdown",
      "metadata": {
        "id": "5Tstggo7pKNA"
      },
      "source": [
        "# Overdetermined systems\n",
        "$b_{(m,1)} = A_{(m,n)} x_{(n,1)}$ such that $m>n$  \n",
        "\n",
        "So let's say we have some vectors  \n",
        "$b^1 = x_1^1 \\vec{a_1}+ x_2^1 \\vec{a_2} + \\epsilon_1$  \n",
        "$b^2 = x_1^2 \\vec{a_1}+ x_2^2 \\vec{a_2} + \\epsilon_2$  \n",
        "$b^1 = x_1^3 \\vec{a_1}+ x_2^3 \\vec{a_2} + \\epsilon_3$  \n",
        "\n",
        "For best approximation,  \n",
        "$\\epsilon$ should ve perpendicular to $C(A)$ where $A = [\\vec{a_1} \\vec{a_2}]$\n",
        "\n",
        "This implies that dot product (or inner product) between A and $\\epsilon$ must be 0.  \n",
        "$\\implies \\vec{a_1}.\\epsilon = 0$ and $\\vec{a_2}.\\epsilon = 0$  \n",
        "$\\implies A^T . \\epsilon = 0$  \n",
        "\n",
        "<br/>"
      ]
    },
    {
      "cell_type": "markdown",
      "metadata": {
        "id": "PQa5BsfosD45"
      },
      "source": [
        "Since $\\epsilon = b - Ax$   and $A^T \\epsilon = 0$  \n",
        "$\\implies A^T (b-Ax) = 0$  \n",
        "$A^Tb - A^TAx = 0$  \n",
        "$A^Tb = A^TAx$  \n",
        "$x = {(A^TA)}^{-1} A^Tb$\n",
        "\n",
        "\n",
        "This is the solution for overdetermined systems.\n",
        "\n",
        "\n",
        "$x = x^+ b$ where $x^+ = {(A^T A)}^{-1}A^T$ is also known as the pseudo-inverse of $A$"
      ]
    },
    {
      "cell_type": "markdown",
      "metadata": {
        "id": "wpVWyl5WQLiw"
      },
      "source": [
        "# Ridge Regression\n",
        "Our goal is to minimize the error function  \n",
        "> $min_x ||\\epsilon||_2^2$ where $\\epsilon = b-Ax$.\n",
        "\n",
        "That is, the goal is to find x such that $min_x || b - Ax||_2^2$\n",
        "\n",
        "Derivating and equating to zero, we get:    \n",
        "> $x = {(A^TA)}^{-1} A^Tb$\n",
        "\n",
        "This solution never works because in most of the practical scenarios, $A$ is ill-defined matrix with a high condition number $\\kappa$"
      ]
    },
    {
      "cell_type": "markdown",
      "metadata": {
        "id": "7kkUuVbSvw_Y"
      },
      "source": [
        "## Ridge regression with regularization\n",
        "**Goal:**  \n",
        " $min_x ||b-Ax||_2^2 + \\lambda||x||_2^2$\n",
        "\n",
        "Solution to ridge regression with regularization computedc after equating derivative of the above expression to 0 is:  \n",
        "\n",
        "$x = {(A^T+ \\lambda I)}^{-1} A^T B$"
      ]
    },
    {
      "cell_type": "code",
      "metadata": {
        "colab": {
          "base_uri": "https://localhost:8080/"
        },
        "id": "_mXetC0fHAuC",
        "outputId": "a79cfab8-5fb4-42d5-dc94-e9b6a48bc553"
      },
      "source": [
        "A_under"
      ],
      "execution_count": null,
      "outputs": [
        {
          "data": {
            "text/plain": [
              "array([[3, 2, 1, 2],\n",
              "       [1, 4, 4, 5],\n",
              "       [3, 2, 8, 1]])"
            ]
          },
          "execution_count": 76,
          "metadata": {},
          "output_type": "execute_result"
        }
      ]
    },
    {
      "cell_type": "code",
      "metadata": {
        "id": "wLU3nekUYib6"
      },
      "source": [
        ""
      ],
      "execution_count": null,
      "outputs": []
    },
    {
      "cell_type": "markdown",
      "metadata": {
        "id": "sQV1-7ttrKlH"
      },
      "source": [
        "# ISTA- Iterative Shrinkage-Thresholding Algorithm"
      ]
    },
    {
      "cell_type": "code",
      "metadata": {
        "id": "2it9JIHgrLYw"
      },
      "source": [
        "import numpy as np\n",
        "import pandas as pd\n",
        "import time\n",
        "import matplotlib.pyplot as plt\n",
        "%matplotlib inline"
      ],
      "execution_count": null,
      "outputs": []
    },
    {
      "cell_type": "code",
      "metadata": {
        "id": "gxdhxiPDrOXz"
      },
      "source": [
        "rng = np.random.RandomState(42)\n",
        "m, n = 15, 20\n",
        "\n",
        "A = rng.randn(m, n)\n",
        "\n",
        "x0 = rng.randn(n)\n",
        "\n",
        "y = np.dot(A, x0)\n",
        "\n",
        "lambd = 0.5\n",
        "maxiter = 3000"
      ],
      "execution_count": null,
      "outputs": []
    },
    {
      "cell_type": "code",
      "metadata": {
        "id": "yBweim_MrP6-"
      },
      "source": [
        "def ista(A, y, lambd, maxiter):\n",
        "  x = np.zeros(A.shape[1])\n",
        "  W, v = np.linalg.eigh(np.dot(A.T, A)) # calcualte eigen value, vector\n",
        "  L = max(W) # max of eigen values\n",
        "  print(L)\n",
        "  time0 = time.time()\n",
        "  err_ista = []\n",
        "\n",
        "  for _ in range(maxiter):\n",
        "    b = (x + (np.dot(A.T, y-A.dot(x)))/L)\n",
        "    c = lambd / L\n",
        "    x = np.sign(b) * np.maximum(0, (np.abs(b)-c*0.5))\n",
        "    error = 0.5 * np.linalg.norm(A.dot(x) - y) ** 2 + lambd * np.linalg.norm(x,1)\n",
        "\n",
        "    err_ista.append((time.time() - time0, error))\n",
        "\n",
        "  times, err_ista = map(np.array, zip(*err_ista))\n",
        "  return x, err_ista, times"
      ],
      "execution_count": null,
      "outputs": []
    },
    {
      "cell_type": "code",
      "metadata": {
        "colab": {
          "base_uri": "https://localhost:8080/"
        },
        "id": "YNOC1AQpxGqV",
        "outputId": "24f70a16-8f86-44c7-b0a4-d8a0c1111eab"
      },
      "source": [
        "pred_x, err_ista, times_ista = ista(A, y, lambd, maxiter)"
      ],
      "execution_count": null,
      "outputs": [
        {
          "name": "stdout",
          "output_type": "stream",
          "text": [
            "50.61056957438105\n"
          ]
        }
      ]
    },
    {
      "cell_type": "code",
      "metadata": {
        "colab": {
          "base_uri": "https://localhost:8080/"
        },
        "id": "sD_26N58xT2e",
        "outputId": "13bba32b-f69b-4e49-e0b4-7f99f3a63bf6"
      },
      "source": [
        "err_ista"
      ],
      "execution_count": null,
      "outputs": [
        {
          "data": {
            "text/plain": [
              "array([15.46446831, 10.5498218 ,  8.67722207, ...,  4.34094986,\n",
              "        4.34094844,  4.34094703])"
            ]
          },
          "execution_count": 81,
          "metadata": {},
          "output_type": "execute_result"
        }
      ]
    },
    {
      "cell_type": "code",
      "metadata": {
        "colab": {
          "base_uri": "https://localhost:8080/",
          "height": 283
        },
        "id": "MYdu6j2axf-4",
        "outputId": "cacbcf78-4bdb-495b-d2c2-34a73d4708ea"
      },
      "source": [
        "plt.plot(err_ista)\n",
        "plt.xlabel('Iteration')\n",
        "plt.ylabel('Loss / Error')\n",
        "plt.show()"
      ],
      "execution_count": null,
      "outputs": [
        {
          "data": {
            "image/png": "[encoded data removed]",
            "text/plain": [
              "<Figure size 432x288 with 1 Axes>"
            ]
          },
          "metadata": {},
          "output_type": "display_data"
        }
      ]
    },
    {
      "cell_type": "markdown",
      "metadata": {
        "id": "9nB_LEjGk8bx"
      },
      "source": [
        "# Least Squares\n",
        "- Ordinary Least Squares\n",
        "- Weighted Least Squares (IRLS)\n",
        "- Robust Least Squares\n",
        "\n",
        "## Ordinary Least Squares"
      ]
    },
    {
      "cell_type": "code",
      "metadata": {
        "colab": {
          "base_uri": "https://localhost:8080/",
          "height": 262
        },
        "id": "rCPmLFpzlKcn",
        "outputId": "afa772bc-c335-4f7d-834d-7d930a273d52"
      },
      "source": [
        "import numpy as np\n",
        "import matplotlib.pyplot as plt\n",
        " \n",
        "# coefficients of the model\n",
        "x1, x2, x3 = 0.1, -0.2, 4.0\n",
        " \n",
        "# ground truth\n",
        "X_gt = [x1, x2, x3]\n",
        " \n",
        "print('X_gt = ', X_gt)\n",
        " \n",
        "# create a coordinate matrix\n",
        "n_a = np.linspace(-1, 1, 41)\n",
        "n_b = np.linspace(-1, 1, 41)\n",
        "x, y = np.meshgrid(n_a, n_b)\n",
        " \n",
        "# make the estimation\n",
        "z = a1*x + a2*y + a3\n",
        "\n",
        "#######################################################\n",
        "# CASE 1: data is corrupted by gaussian noise         #\n",
        "#         Regular linear least squares method is used #\n",
        "#######################################################\n",
        " \n",
        "# let's add some gaussian noise\n",
        "z_noise = z + 0.1*np.random.standard_normal(z.shape)"
      ],
      "execution_count": null,
      "outputs": [
        {
          "name": "stdout",
          "output_type": "stream",
          "text": [
            "X_gt =  [0.1, -0.2, 4.0]\n"
          ]
        },
        {
          "ename": "NameError",
          "evalue": "ignored",
          "output_type": "error",
          "traceback": [
            "\u001b[0;31m---------------------------------------------------------------------------\u001b[0m",
            "\u001b[0;31mNameError\u001b[0m                                 Traceback (most recent call last)",
            "\u001b[0;32m<ipython-input-84-4f39a157a5ec>\u001b[0m in \u001b[0;36m<module>\u001b[0;34m()\u001b[0m\n\u001b[1;32m     16\u001b[0m \u001b[0;34m\u001b[0m\u001b[0m\n\u001b[1;32m     17\u001b[0m \u001b[0;31m# make the estimation\u001b[0m\u001b[0;34m\u001b[0m\u001b[0;34m\u001b[0m\u001b[0;34m\u001b[0m\u001b[0m\n\u001b[0;32m---> 18\u001b[0;31m \u001b[0mz\u001b[0m \u001b[0;34m=\u001b[0m \u001b[0ma1\u001b[0m\u001b[0;34m*\u001b[0m\u001b[0mx\u001b[0m \u001b[0;34m+\u001b[0m \u001b[0ma2\u001b[0m\u001b[0;34m*\u001b[0m\u001b[0my\u001b[0m \u001b[0;34m+\u001b[0m \u001b[0ma3\u001b[0m\u001b[0;34m\u001b[0m\u001b[0;34m\u001b[0m\u001b[0m\n\u001b[0m\u001b[1;32m     19\u001b[0m \u001b[0;34m\u001b[0m\u001b[0m\n\u001b[1;32m     20\u001b[0m \u001b[0;31m#######################################################\u001b[0m\u001b[0;34m\u001b[0m\u001b[0;34m\u001b[0m\u001b[0;34m\u001b[0m\u001b[0m\n",
            "\u001b[0;31mNameError\u001b[0m: name 'a1' is not defined"
          ]
        }
      ]
    },
    {
      "cell_type": "markdown",
      "metadata": {
        "id": "FPKTc7i_OjN0"
      },
      "source": [
        "---\n",
        "---\n",
        "## Robust Least Squares (incomplete)\n",
        "**ALGORITHM**\n",
        "```\n",
        "1) For all data points perform Least Squares and find line of best fit b = Ax + e\n",
        "2) For every data point find error, e1, e2, e3...en\n",
        "3) Find largest |ei|, that is largest absolute value of error. This is the point farthest from the regression line and likely to be outlier.\n",
        "4) Discard the data point with largest magnitude of error ei\n",
        "4) Repeat steps 1-4 until convergence (that is, solution does not change much upon eliminating a point)\n",
        "```"
      ]
    },
    {
      "cell_type": "code",
      "metadata": {
        "id": "xTEtj4_aQAr6"
      },
      "source": [
        "import numpy as np"
      ],
      "execution_count": 14,
      "outputs": []
    },
    {
      "cell_type": "code",
      "metadata": {
        "id": "jvYUn37exzaC"
      },
      "source": [
        "def LS_outlier_rejection(A, b, num_outliers_to_remove):\n",
        "  \"\"\"\n",
        "  Rows in A represent different data points. One row represents one data point\n",
        "  Columns of A represent dimensions.\n",
        "  \"\"\"\n",
        "  for _ in range(num_outliers_to_remove):\n",
        "    # Finding solution \n",
        "    x,_,_,_ = np.linalg.lstsq(A, b, rcond=-1)\n",
        "\n",
        "    # Calculating magnitude of errors for each data point\n",
        "    e = np.abs(b - A@x)\n",
        "\n",
        "    # Find the data point having largest error, and discard it\n",
        "    idx_largest_e = np.argmax(e) # would be single num indicating index in error vector\n",
        "    \n",
        "    x = np.delete(x, (idx_largest_e), axis=0) # axis=0 since we have to delete row\n",
        "\n",
        "    return x"
      ],
      "execution_count": 25,
      "outputs": []
    },
    {
      "cell_type": "code",
      "metadata": {
        "colab": {
          "base_uri": "https://localhost:8080/"
        },
        "id": "PbrgotLqNSDF",
        "outputId": "50b1b8ef-3a1c-4187-b71f-6014884bf25e"
      },
      "source": [
        "A_over = np.array([\n",
        "             [3,2,1],\n",
        "             [1,4,4],\n",
        "             [3,2,8],\n",
        "             [6,4,2]\n",
        "])\n",
        "\n",
        "b = np.array([10, 21, 31, 20])\n",
        "\n",
        "print(A_over.shape)\n",
        "print(b.shape)\n",
        "\n",
        "LS_outlier_rejection(A_over, b)"
      ],
      "execution_count": 26,
      "outputs": [
        {
          "output_type": "stream",
          "name": "stdout",
          "text": [
            "(4, 3)\n",
            "(4,)\n",
            "[7.10542736e-15 7.10542736e-15 3.55271368e-15 1.42108547e-14]\n",
            "3\n"
          ]
        }
      ]
    },
    {
      "cell_type": "code",
      "metadata": {
        "colab": {
          "base_uri": "https://localhost:8080/"
        },
        "id": "HSe-E9VHV_1l",
        "outputId": "b8b7bee9-ea1d-4b0f-cdbf-13c4b71c65c1"
      },
      "source": [
        "A_over"
      ],
      "execution_count": 27,
      "outputs": [
        {
          "output_type": "execute_result",
          "data": {
            "text/plain": [
              "array([[3, 2, 1],\n",
              "       [1, 4, 4],\n",
              "       [3, 2, 8],\n",
              "       [6, 4, 2]])"
            ]
          },
          "metadata": {},
          "execution_count": 27
        }
      ]
    },
    {
      "cell_type": "code",
      "metadata": {
        "id": "482vxGa0V_v0"
      },
      "source": [
        ""
      ],
      "execution_count": null,
      "outputs": []
    },
    {
      "cell_type": "markdown",
      "metadata": {
        "id": "FXm9WzNC3ftA"
      },
      "source": [
        "# Orthogonal matching pursuit (OMP) - incomplete\n",
        "- Used for underdetermined systems\n",
        "- Recovery of a high-dimensional sparse signal based on a small number of linear measurements, possibly corrupted by noise\n",
        "- Link to paper: https://math.mit.edu/~liewang/OMP.pdf\n",
        "- https://github.com/davebiagioni/pyomp/blob/master/omp.py"
      ]
    },
    {
      "cell_type": "code",
      "metadata": {
        "id": "iqpzW7YqQTgO"
      },
      "source": [
        "def my_OMP(A, b, num_non_zeros):\n",
        "  # Get the shape of A\n",
        "  m, n = A.shape\n",
        "\n",
        "  # Intialize omega to be an empty set\n",
        "  omega = set()\n",
        "  r = b\n",
        "\n",
        "  for i in range(num_non_zeros):\n",
        "    C = np.abs(A.T @ r)  # C will of shape nx1\n",
        "    \n",
        "    # Getting the position of largest absolute element in C\n",
        "    l = int(np.where(C == np.max(C))[0][0])\n",
        "\n",
        "    # Update omega\n",
        "    omega = omega.union({l})\n",
        "    \n",
        "    # Update A_omega\n",
        "    A_omega = A[:, list(omega)]\n",
        "\n",
        "    # Calculate x_omega using least squares\n",
        "    x_omega, _, _, _ = np.linalg.lstsq(A_omega, b, rcond=-1)\n",
        "\n",
        "    # Update r for next iteration\n",
        "    r = b - A_omega @ x_omega\n",
        "\n",
        "  return x_omega, list(omega)"
      ],
      "execution_count": null,
      "outputs": []
    },
    {
      "cell_type": "code",
      "metadata": {
        "id": "FIU7pt183l_d"
      },
      "source": [
        "from sklearn.datasets import make_sparse_coded_signal\n",
        "import numpy as np"
      ],
      "execution_count": null,
      "outputs": []
    },
    {
      "cell_type": "code",
      "metadata": {
        "id": "cBQOUVoD7ucE"
      },
      "source": [
        "n_components, n_features = 512, 100\n",
        "n_nonzero_coefs = 17\n",
        "\n",
        "# generate the data\n",
        "\n",
        "# y = Xw\n",
        "# |x|_0 = n_nonzero_coefs\n",
        "\n",
        "y, X, w = make_sparse_coded_signal(\n",
        "    n_samples=1,\n",
        "    n_components=n_components,\n",
        "    n_features=n_features,\n",
        "    n_nonzero_coefs=n_nonzero_coefs,\n",
        "    random_state=0,\n",
        ")\n",
        "\n",
        "(idx,) = w.nonzero()\n",
        "\n",
        "# distort the clean signal\n",
        "y_noisy = y + 0.05 * np.random.randn(len(y))"
      ],
      "execution_count": null,
      "outputs": []
    },
    {
      "cell_type": "code",
      "metadata": {
        "colab": {
          "base_uri": "https://localhost:8080/"
        },
        "id": "NMRcHhB97xeM",
        "outputId": "47b83b5b-6f1f-48da-cff4-2b26431c82c7"
      },
      "source": [
        "my_OMP(X, y, len(idx))"
      ],
      "execution_count": null,
      "outputs": [
        {
          "data": {
            "text/plain": [
              "(array([ 1.58380476, -0.43116899,  1.68550553, -2.73865906,  0.13193827,\n",
              "        -1.10099366,  0.30490502, -0.30617707, -0.87322229, -1.36627127,\n",
              "        -0.09824186, -0.21079998,  1.49132825, -3.23531439, -0.24061129,\n",
              "         0.09820563,  0.07264699]),\n",
              " [195,\n",
              "  68,\n",
              "  268,\n",
              "  269,\n",
              "  76,\n",
              "  399,\n",
              "  467,\n",
              "  158,\n",
              "  226,\n",
              "  355,\n",
              "  227,\n",
              "  101,\n",
              "  359,\n",
              "  492,\n",
              "  494,\n",
              "  46,\n",
              "  123])"
            ]
          },
          "execution_count": 11,
          "metadata": {},
          "output_type": "execute_result"
        }
      ]
    },
    {
      "cell_type": "code",
      "metadata": {
        "colab": {
          "base_uri": "https://localhost:8080/"
        },
        "id": "FMcgq4Xr8Mxu",
        "outputId": "01e155ff-b593-4be9-db30-b5c9e0c5a7f6"
      },
      "source": [
        "idx"
      ],
      "execution_count": null,
      "outputs": [
        {
          "data": {
            "text/plain": [
              "array([ 46,  68,  76, 101, 123, 158, 195, 226, 227, 268, 269, 355, 359,\n",
              "       399, 467, 492, 494])"
            ]
          },
          "execution_count": 10,
          "metadata": {},
          "output_type": "execute_result"
        }
      ]
    },
    {
      "cell_type": "markdown",
      "metadata": {
        "id": "ndmAKSK691tb"
      },
      "source": [
        "# Iterative Hard Thresholding Algorithm\n",
        "- For underdetermined systems\n",
        "- https://eprints.soton.ac.uk/142499/1/BD_NIHT09.pdf"
      ]
    },
    {
      "cell_type": "code",
      "metadata": {
        "id": "qzsct8XJ8wtL"
      },
      "source": [
        "import numpy as np"
      ],
      "execution_count": null,
      "outputs": []
    },
    {
      "cell_type": "code",
      "metadata": {
        "id": "y7GP3SE88c-G"
      },
      "source": [
        "def my_IHTA(A, b, max_iter):\n",
        "  # init\n",
        "  m, n = A.shape\n",
        "  x = np.zeros(m)\n",
        "\n",
        "  for _ in range(max_iter):\n",
        "    # calculate residue\n",
        "    r = b - A @ x\n",
        "\n",
        "    x = x + A.T @ r\n"
      ],
      "execution_count": null,
      "outputs": []
    },
    {
      "cell_type": "code",
      "metadata": {
        "colab": {
          "base_uri": "https://localhost:8080/"
        },
        "id": "A9XkDZUMKZKB",
        "outputId": "ade59238-836a-457c-94f7-502f189ccfe5"
      },
      "source": [
        "def largestElement(x, n):\n",
        "    # Returns the nth largest element of the vector x\n",
        "\n",
        "    # Number of elements in x\n",
        "    N = x.shape[0]\n",
        "\n",
        "    # Boundary check: Handling cases when n < 1 or n > size of vector\n",
        "    if n > N:\n",
        "        n = N\n",
        "    elif n < 1:\n",
        "        n = 1\n",
        "    # Sort in descending order and return first n elements\n",
        "    t = np.sort(x)[::-1]\n",
        "    return t[n-1] # python index starts at 0\n",
        "\n",
        "# Soft thresholding function\n",
        "def softThreshold(x, threshold):\n",
        "    j = np.abs(x) <= threshold\n",
        "    x[j] = 0\n",
        "    j = np.abs(x) > threshold\n",
        "    x[j] = x[j] - np.sign(x[j])*threshold\n",
        "    return x\n",
        "\n",
        "# Hard thresholding function\n",
        "def hardThreshold(x, threshold):\n",
        "    j = np.abs(x) < threshold\n",
        "    x[j] = 0\n",
        "    return x\n",
        "\n",
        "def reconstructIHT(A, y, s, max_iter=500, tol=0.001, x=0, verbose=False):\n",
        "  # recovers a sparse vector x from y using Iterative Hard thresholding Algorithm\n",
        "  # xhat = reconstructIHT(A, t, T, tol, x, verbose)\n",
        "  #  Arguments:\n",
        "  #       A - measurement matrix (sparse)\n",
        "  #       y - measurements\n",
        "  #       s - sparsity level required in reconstruction\n",
        "  #       max_iter - max number of iterations (optional)\n",
        "  #       tol - stopping criteria (optional)\n",
        "  #       x - original vector used to print progress of MSE (optional)\n",
        "  #       verbose - print progress (optional)\n",
        "\n",
        "  # Length of original signal\n",
        "  N = A.shape[1]\n",
        "\n",
        "  # Length of measurement vector\n",
        "  n = A.shape[0]\n",
        "\n",
        "  # Initial estimate\n",
        "  xhat = np.zeros(N)\n",
        "\n",
        "  # Initial residue\n",
        "  r = y\n",
        "\n",
        "  for t in range(max_iter):\n",
        "    # Pre-threshold value\n",
        "    gamma = xhat + np.dot(A.T, r)\n",
        "\n",
        "    # Find the s-th largest coefficient of gamma\n",
        "    threshold = largestElement(np.abs(gamma), s)\n",
        "\n",
        "    # Estimate the signal (by hard thresholding)\n",
        "    xhat = hardThreshold(gamma, threshold)\n",
        "\n",
        "    # Compute error, print and plot\n",
        "    if verbose:\n",
        "      err = np.mean((x-xhat)**2)\n",
        "      print(\"iter# = \"+str(t) + \" MSE = \" + str(err))\n",
        "\n",
        "    # update the residual\n",
        "    r = y - np.dot(A, xhat)\n",
        "\n",
        "    # Stopping criteria\n",
        "    if np.linalg.norm(r)/np.linalg.norm(y) < tol:\n",
        "      break\n",
        "\n",
        "  return xhat\n",
        "\n",
        "\n",
        "if __name__ == '__main__':\n",
        "    N = 2000 # signal length\n",
        "    n = 400  # Number of measurements\n",
        "    k = 50   # Number of non-zero elements\n",
        "\n",
        "    T = 200 # Number of iterations\n",
        "\n",
        "    tol = 0.0001 # Tolerance\n",
        "\n",
        "    # Generate problem instance\n",
        "    A = np.random.randn(n,N)\n",
        "    # normalize to columns to have unit norm\n",
        "    A = A/np.sqrt(np.sum(A**2, axis=0))\n",
        "\n",
        "    # Calculate L2 norm. For convergence we need L2(A) < 1\n",
        "    L2_A = np.linalg.norm() # by default it calculates L2\n",
        "\n",
        "    # Sparse signal x[i] in {+1, -1, 0}\n",
        "    x = np.sign(np.random.rand(k)-0.5)\n",
        "    x = np.append(x, np.zeros(N-k))\n",
        "    x = x[np.random.permutation(np.arange(N))]\n",
        "\n",
        "    # Generate measurements\n",
        "    y = np.dot(A, x)\n",
        "\n",
        "    # Reconstruct using IHT\n",
        "    xiht = reconstructIHT(A, y, k, T, tol, x=x, verbose=True)\n",
        "\n",
        "    print(\"All Close xiht and x :\" + str(np.allclose(xiht, x)))\n",
        "\n",
        "    erriht = np.mean((xiht-x)*(xiht-x))     \n",
        "    print(\"Mean Squared Error AMP: \" + str(erriht))"
      ],
      "execution_count": null,
      "outputs": [
        {
          "name": "stdout",
          "output_type": "stream",
          "text": [
            "iter# = 0 MSE = 0.021400993190586838\n",
            "iter# = 1 MSE = 0.04093987296336322\n",
            "iter# = 2 MSE = 0.0938627700963639\n",
            "iter# = 3 MSE = 0.2064109658320158\n",
            "iter# = 4 MSE = 0.7088448212398705\n",
            "iter# = 5 MSE = 2.166349223076336\n",
            "iter# = 6 MSE = 7.768478344480114\n",
            "iter# = 7 MSE = 27.63750202768392\n",
            "iter# = 8 MSE = 103.98758804302314\n",
            "iter# = 9 MSE = 395.9233048095725\n",
            "iter# = 10 MSE = 1564.9943843810884\n",
            "iter# = 11 MSE = 6323.265502164049\n",
            "iter# = 12 MSE = 26003.026774079557\n",
            "iter# = 13 MSE = 107778.86610635018\n",
            "iter# = 14 MSE = 448790.3654620137\n",
            "iter# = 15 MSE = 1872303.4308151526\n",
            "iter# = 16 MSE = 7819125.990612724\n",
            "iter# = 17 MSE = 32702530.816194065\n",
            "iter# = 18 MSE = 136860243.2961426\n",
            "iter# = 19 MSE = 572855137.2147657\n",
            "iter# = 20 MSE = 2400042995.296978\n",
            "iter# = 21 MSE = 10069631271.351938\n",
            "iter# = 22 MSE = 42296208967.08475\n",
            "iter# = 23 MSE = 178113297537.8756\n",
            "iter# = 24 MSE = 750591085209.6945\n",
            "iter# = 25 MSE = 3173441253237.709\n",
            "iter# = 26 MSE = 13478792170788.312\n",
            "iter# = 27 MSE = 57626116980016.67\n",
            "iter# = 28 MSE = 248210953198629.88\n",
            "iter# = 29 MSE = 1069717148973477.8\n",
            "iter# = 30 MSE = 4610269323586787.0\n",
            "iter# = 31 MSE = 1.986937259047982e+16\n",
            "iter# = 32 MSE = 8.563317453196394e+16\n",
            "iter# = 33 MSE = 3.690625148513467e+17\n",
            "iter# = 34 MSE = 1.5905884687040753e+18\n",
            "iter# = 35 MSE = 6.855130431313546e+18\n",
            "iter# = 36 MSE = 2.9544293924604682e+19\n",
            "iter# = 37 MSE = 1.273302254756634e+20\n",
            "iter# = 38 MSE = 5.4876878632539573e+20\n",
            "iter# = 39 MSE = 2.365087941362774e+21\n",
            "iter# = 40 MSE = 1.0193074223204497e+22\n",
            "iter# = 41 MSE = 4.393018978387951e+22\n",
            "iter# = 42 MSE = 1.8933067023640325e+23\n",
            "iter# = 43 MSE = 8.159787806177356e+23\n",
            "iter# = 44 MSE = 3.5167116325481133e+24\n",
            "iter# = 45 MSE = 1.5156350876104648e+25\n",
            "iter# = 46 MSE = 6.532095772469111e+25\n",
            "iter# = 47 MSE = 2.81520766637691e+26\n",
            "iter# = 48 MSE = 1.213300368042768e+27\n",
            "iter# = 49 MSE = 5.229091269800561e+27\n",
            "iter# = 50 MSE = 2.2536377823748127e+28\n",
            "iter# = 51 MSE = 9.712745469713272e+28\n",
            "iter# = 52 MSE = 4.186006522309273e+29\n",
            "iter# = 53 MSE = 1.8040883146228525e+30\n",
            "iter# = 54 MSE = 7.77527371162146e+30\n",
            "iter# = 55 MSE = 3.350993451962462e+31\n",
            "iter# = 56 MSE = 1.4442137385223403e+32\n",
            "iter# = 57 MSE = 6.2242834921541945e+32\n",
            "iter# = 58 MSE = 2.6825464927609754e+33\n",
            "iter# = 59 MSE = 1.1561259532755776e+34\n",
            "iter# = 60 MSE = 4.982680536737528e+34\n",
            "iter# = 61 MSE = 2.147439494878731e+35\n",
            "iter# = 62 MSE = 9.255051272431072e+35\n",
            "iter# = 63 MSE = 3.9887491246949025e+36\n",
            "iter# = 64 MSE = 1.7190741694913547e+37\n",
            "iter# = 65 MSE = 7.408879094240937e+37\n",
            "iter# = 66 MSE = 3.193084417603802e+38\n",
            "iter# = 67 MSE = 1.3761579812889096e+39\n",
            "iter# = 68 MSE = 5.93097626553308e+39\n",
            "iter# = 69 MSE = 2.5561367183563055e+40\n",
            "iter# = 70 MSE = 1.1016457713546555e+41\n",
            "iter# = 71 MSE = 4.7478814291435896e+41\n",
            "iter# = 72 MSE = 2.0462455946694185e+42\n",
            "iter# = 73 MSE = 8.818925022016112e+42\n",
            "iter# = 74 MSE = 3.8007870974308236e+43\n",
            "iter# = 75 MSE = 1.6380661502317772e+44\n",
            "iter# = 76 MSE = 7.0597501089943425e+44\n",
            "iter# = 77 MSE = 3.042616538678461e+45\n",
            "iter# = 78 MSE = 1.3113092189545547e+46\n",
            "iter# = 79 MSE = 5.65149057022503e+46\n",
            "iter# = 80 MSE = 2.435683758160884e+47\n",
            "iter# = 81 MSE = 1.0497328618089696e+48\n",
            "iter# = 82 MSE = 4.524146771802971e+48\n",
            "iter# = 83 MSE = 1.949820259750999e+49\n",
            "iter# = 84 MSE = 8.403350371014498e+49\n",
            "iter# = 85 MSE = 3.6216824143086656e+50\n",
            "iter# = 86 MSE = 1.560875475971513e+51\n",
            "iter# = 87 MSE = 6.727073146623112e+51\n",
            "iter# = 88 MSE = 2.8992391652416274e+52\n",
            "iter# = 89 MSE = 1.2495163281360254e+53\n",
            "iter# = 90 MSE = 5.385175093509109e+53\n",
            "iter# = 91 MSE = 2.3209069089166648e+54\n",
            "iter# = 92 MSE = 1.0002662469321987e+55\n",
            "iter# = 93 MSE = 4.310955174065328e+55\n",
            "iter# = 94 MSE = 1.8579387807794666e+56\n",
            "iter# = 95 MSE = 8.00735886536495e+56\n",
            "iter# = 96 MSE = 3.451017690251297e+57\n",
            "iter# = 97 MSE = 1.487322261768594e+58\n",
            "iter# = 98 MSE = 6.410072937619056e+58\n",
            "iter# = 99 MSE = 2.762618171043623e+59\n",
            "iter# = 100 MSE = 1.1906353068449253e+60\n",
            "iter# = 101 MSE = 5.131409214506772e+60\n",
            "iter# = 102 MSE = 2.2115386949594753e+61\n",
            "iter# = 103 MSE = 9.531306498566144e+61\n",
            "iter# = 104 MSE = 4.107809814798374e+62\n",
            "iter# = 105 MSE = 1.7703870374006264e+63\n",
            "iter# = 106 MSE = 7.630027687516024e+63\n",
            "iter# = 107 MSE = 3.288395208639733e+64\n",
            "iter# = 108 MSE = 1.4172350994082875e+65\n",
            "iter# = 109 MSE = 6.10801074553831e+65\n",
            "iter# = 110 MSE = 2.632435174882977e+66\n",
            "iter# = 111 MSE = 1.1345289389058591e+67\n",
            "iter# = 112 MSE = 4.8896015578885975e+67\n",
            "iter# = 113 MSE = 2.107324244894423e+68\n",
            "iter# = 114 MSE = 9.0821622591217e+68\n",
            "iter# = 115 MSE = 3.9142372845972304e+69\n",
            "iter# = 116 MSE = 1.686960999264592e+70\n",
            "iter# = 117 MSE = 7.270477505894546e+70\n",
            "iter# = 118 MSE = 3.133435994475397e+71\n",
            "iter# = 119 MSE = 1.3504506579538589e+72\n",
            "iter# = 120 MSE = 5.820182645451928e+72\n",
            "iter# = 121 MSE = 2.5083867986517125e+73\n",
            "iter# = 122 MSE = 1.0810664741882211e+74\n",
            "iter# = 123 MSE = 4.659188615734799e+74\n",
            "iter# = 124 MSE = 2.0080206976442804e+75\n",
            "iter# = 125 MSE = 8.654183066447751e+75\n",
            "iter# = 126 MSE = 3.7297864825524106e+76\n",
            "iter# = 127 MSE = 1.6074662505540004e+77\n",
            "iter# = 128 MSE = 6.927870425713645e+77\n",
            "iter# = 129 MSE = 2.985778931217781e+78\n",
            "iter# = 130 MSE = 1.2868133031205852e+79\n",
            "iter# = 131 MSE = 5.545917883521068e+79\n",
            "iter# = 132 MSE = 2.3901839603438263e+80\n",
            "iter# = 133 MSE = 1.0301233239064407e+81\n",
            "iter# = 134 MSE = 4.439633434337865e+81\n",
            "iter# = 135 MSE = 1.9133966364866803e+82\n",
            "iter# = 136 MSE = 8.246371558972102e+82\n",
            "iter# = 137 MSE = 3.5540275650054623e+83\n",
            "iter# = 138 MSE = 1.53171753691791e+84\n",
            "iter# = 139 MSE = 6.6014080363449965e+84\n",
            "iter# = 140 MSE = 2.845079919239432e+85\n",
            "iter# = 141 MSE = 1.2261747345860362e+86\n",
            "iter# = 142 MSE = 5.284577313874068e+86\n",
            "iter# = 143 MSE = 2.27755120037934e+87\n",
            "iter# = 144 MSE = 9.815807702786093e+87\n",
            "iter# = 145 MSE = 4.2304243628870835e+88\n",
            "iter# = 146 MSE = 1.8232315497611976e+89\n",
            "iter# = 147 MSE = 7.857777373842498e+89\n",
            "iter# = 148 MSE = 3.386550943842444e+90\n",
            "iter# = 149 MSE = 1.4595383337555515e+91\n",
            "iter# = 150 MSE = 6.290329550704787e+91\n",
            "iter# = 151 MSE = 2.7110110739370915e+92\n",
            "iter# = 152 MSE = 1.168393640391396e+93\n",
            "iter# = 153 MSE = 5.035551909142576e+93\n",
            "iter# = 154 MSE = 2.1702260396740315e+94\n",
            "iter# = 155 MSE = 9.353256898668734e+94\n",
            "iter# = 156 MSE = 4.0310738611188315e+95\n",
            "iter# = 157 MSE = 1.7373153169895627e+96\n",
            "iter# = 158 MSE = 7.487494932203545e+96\n",
            "iter# = 159 MSE = 3.2269663319908788e+97\n",
            "iter# = 160 MSE = 1.3907604348438687e+98\n",
            "iter# = 161 MSE = 5.993910032317541e+98\n",
            "iter# = 162 MSE = 2.583259961630283e+99\n",
            "iter# = 163 MSE = 1.1133353676284473e+100\n",
            "iter# = 164 MSE = 4.7982613411858e+100\n",
            "iter# = 165 MSE = 2.0679583679588728e+101\n",
            "iter# = 166 MSE = 8.912502899548776e+101\n",
            "iter# = 167 MSE = 3.841117363154048e+102\n",
            "iter# = 168 MSE = 1.655447719211456e+103\n",
            "iter# = 169 MSE = 7.134661328838193e+103\n",
            "iter# = 170 MSE = 3.074901833895795e+104\n",
            "iter# = 171 MSE = 1.3252235603501836e+105\n",
            "iter# = 172 MSE = 5.711458705926067e+105\n",
            "iter# = 173 MSE = 2.4615288714666975e+106\n",
            "iter# = 174 MSE = 1.0608716086447962e+107\n",
            "iter# = 175 MSE = 4.572152628695357e+107\n",
            "iter# = 176 MSE = 1.970509860923726e+108\n",
            "iter# = 177 MSE = 8.492518573479057e+108\n",
            "iter# = 178 MSE = 3.6601121948751545e+109\n",
            "iter# = 179 MSE = 1.5774379723947815e+110\n",
            "iter# = 180 MSE = 6.798454321255675e+110\n",
            "iter# = 181 MSE = 2.9300030788553163e+111\n",
            "iter# = 182 MSE = 1.2627749833165014e+112\n",
            "iter# = 183 MSE = 5.442317347710651e+112\n",
            "iter# = 184 MSE = 2.3455341216376195e+113\n",
            "iter# = 185 MSE = 1.0108801020360588e+114\n",
            "iter# = 186 MSE = 4.3566988485290996e+114\n",
            "iter# = 187 MSE = 1.8776534248270057e+115\n",
            "iter# = 188 MSE = 8.092325190103245e+115\n",
            "iter# = 189 MSE = 3.487636542319459e+116\n",
            "iter# = 190 MSE = 1.5031042828330594e+117\n",
            "iter# = 191 MSE = 6.478090413539819e+117\n",
            "iter# = 192 MSE = 2.791932395196122e+118\n",
            "iter# = 193 MSE = 1.2032691737450135e+119\n",
            "iter# = 194 MSE = 5.1858587513660126e+119\n",
            "iter# = 195 MSE = 2.2350053982865862e+120\n",
            "iter# = 196 MSE = 9.632443477282094e+120\n",
            "iter# = 197 MSE = 4.151397907770826e+121\n",
            "iter# = 198 MSE = 1.7891726672770257e+122\n",
            "iter# = 199 MSE = 7.710990139825215e+122\n",
            "All Close xiht and x :False\n",
            "Mean Squared Error AMP: 7.710990139825215e+122\n"
          ]
        }
      ]
    },
    {
      "cell_type": "code",
      "metadata": {
        "id": "wWTSrDfn-Krz"
      },
      "source": [
        ""
      ],
      "execution_count": null,
      "outputs": []
    }
  ]
}