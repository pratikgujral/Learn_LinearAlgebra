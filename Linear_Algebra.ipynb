{
  "nbformat": 4,
  "nbformat_minor": 0,
  "metadata": {
    "colab": {
      "name": "Linear Algebra",
      "provenance": [],
      "collapsed_sections": [],
      "authorship_tag": "ABX9TyMJju7BujS5959ujeKwLchw",
      "include_colab_link": true
    },
    "kernelspec": {
      "name": "python3",
      "display_name": "Python 3"
    },
    "language_info": {
      "name": "python"
    }
  },
  "cells": [
    {
      "cell_type": "markdown",
      "metadata": {
        "id": "view-in-github",
        "colab_type": "text"
      },
      "source": [
        "<a href=\"https://colab.research.google.com/github/pratikgujral/Learn_LinearAlgebra/blob/main/Linear_Algebra.ipynb\" target=\"_parent\"><img src=\"https://colab.research.google.com/assets/colab-badge.svg\" alt=\"Open In Colab\"/></a>"
      ]
    },
    {
      "cell_type": "code",
      "metadata": {
        "id": "Hom0M11JqaQ-"
      },
      "source": [
        "import numpy as np\n",
        "import sympy"
      ],
      "execution_count": 2,
      "outputs": []
    },
    {
      "cell_type": "markdown",
      "metadata": {
        "id": "a_XMyxI8qsh0"
      },
      "source": [
        "# Gaussian Elimination\n",
        "\n",
        "Given a system of linear equations:  \n",
        "$-x -y + 3z = 3$  \n",
        "$x + z = 3$  \n",
        "$3x -y + 7z = 15$\n",
        "\n",
        "<br/>\n",
        "\n",
        "This is solved by converting the system of equations to Row Echelon form.\n",
        "\n",
        "Reduced Row Echelon Form can be computed using **`sympy.Matrix.rref()`**"
      ]
    },
    {
      "cell_type": "code",
      "metadata": {
        "colab": {
          "base_uri": "https://localhost:8080/",
          "height": 78
        },
        "id": "DzabgYa3qhJC",
        "outputId": "b7f04bbf-e30a-4652-866c-3734dc460c4c"
      },
      "source": [
        "A = sympy.Matrix([\n",
        "                  [-1,-1,3,-3],\n",
        "                  [1,0,1,-3],\n",
        "                  [3,-1,7,-15]\n",
        "                ])\n",
        "A"
      ],
      "execution_count": 5,
      "outputs": [
        {
          "output_type": "execute_result",
          "data": {
            "text/latex": "$\\displaystyle \\left[\\begin{matrix}-1 & -1 & 3 & -3\\\\1 & 0 & 1 & -3\\\\3 & -1 & 7 & -15\\end{matrix}\\right]$",
            "text/plain": [
              "Matrix([\n",
              "[-1, -1, 3,  -3],\n",
              "[ 1,  0, 1,  -3],\n",
              "[ 3, -1, 7, -15]])"
            ]
          },
          "metadata": {},
          "execution_count": 5
        }
      ]
    },
    {
      "cell_type": "markdown",
      "metadata": {
        "id": "bHnG0Mtkst8q"
      },
      "source": [
        "**`A.rref()`** returns the Reduced Row Echelon Form and also the index of the Pivot columns in `A`."
      ]
    },
    {
      "cell_type": "code",
      "metadata": {
        "colab": {
          "base_uri": "https://localhost:8080/",
          "height": 96
        },
        "id": "fZaluk9gsd7I",
        "outputId": "63c7d561-d5ca-4bf5-f005-3984e2b09c32"
      },
      "source": [
        "A_rref, pivot_col_indices = A.rref()\n",
        "\n",
        "print(pivot_col_indices)\n",
        "A_rref"
      ],
      "execution_count": 7,
      "outputs": [
        {
          "output_type": "stream",
          "name": "stdout",
          "text": [
            "(0, 1)\n"
          ]
        },
        {
          "output_type": "execute_result",
          "data": {
            "text/latex": "$\\displaystyle \\left[\\begin{matrix}1 & 0 & 1 & -3\\\\0 & 1 & -4 & 6\\\\0 & 0 & 0 & 0\\end{matrix}\\right]$",
            "text/plain": [
              "Matrix([\n",
              "[1, 0,  1, -3],\n",
              "[0, 1, -4,  6],\n",
              "[0, 0,  0,  0]])"
            ]
          },
          "metadata": {},
          "execution_count": 7
        }
      ]
    },
    {
      "cell_type": "markdown",
      "metadata": {
        "id": "H_74XEe37sOn"
      },
      "source": [
        "**Another Example...**  \n",
        "Find the reduced row echelon form, and pivot columns of given system of equations.\n",
        "\n",
        "NOTEL: The given system os equations represents a determined system."
      ]
    },
    {
      "cell_type": "code",
      "metadata": {
        "colab": {
          "base_uri": "https://localhost:8080/",
          "height": 78
        },
        "id": "vCPFmYNUssOk",
        "outputId": "3e15bebd-626e-4fc4-e8ea-b37e7e48bef8"
      },
      "source": [
        "A = sympy.Matrix([\n",
        "                  [1,2,2,2],\n",
        "                  [2,4,6,8],\n",
        "                  [3,6,8,10]\n",
        "])\n",
        "A"
      ],
      "execution_count": 8,
      "outputs": [
        {
          "output_type": "execute_result",
          "data": {
            "text/latex": "$\\displaystyle \\left[\\begin{matrix}1 & 2 & 2 & 2\\\\2 & 4 & 6 & 8\\\\3 & 6 & 8 & 10\\end{matrix}\\right]$",
            "text/plain": [
              "Matrix([\n",
              "[1, 2, 2,  2],\n",
              "[2, 4, 6,  8],\n",
              "[3, 6, 8, 10]])"
            ]
          },
          "metadata": {},
          "execution_count": 8
        }
      ]
    },
    {
      "cell_type": "code",
      "metadata": {
        "colab": {
          "base_uri": "https://localhost:8080/"
        },
        "id": "Mrp1JDto7W9J",
        "outputId": "13d355d1-81ae-421e-f70e-71e66b37d5d1"
      },
      "source": [
        "A.rref()"
      ],
      "execution_count": 9,
      "outputs": [
        {
          "output_type": "execute_result",
          "data": {
            "text/plain": [
              "(Matrix([\n",
              " [1, 2, 0, -2],\n",
              " [0, 0, 1,  2],\n",
              " [0, 0, 0,  0]]), (0, 2))"
            ]
          },
          "metadata": {},
          "execution_count": 9
        }
      ]
    },
    {
      "cell_type": "markdown",
      "metadata": {
        "id": "90HzXG8X8FTg"
      },
      "source": [
        "**Example of solving an overdermined system**"
      ]
    },
    {
      "cell_type": "code",
      "metadata": {
        "colab": {
          "base_uri": "https://localhost:8080/",
          "height": 78
        },
        "id": "NKe5Kf4Y7YfO",
        "outputId": "de8f6b1a-57e6-4de8-f8ac-17a185ce136b"
      },
      "source": [
        "A = sympy.Matrix([\n",
        "                  [1,2,3],\n",
        "                  [2,4,6],\n",
        "                  [2,8,10]\n",
        "])\n",
        "A"
      ],
      "execution_count": 10,
      "outputs": [
        {
          "output_type": "execute_result",
          "data": {
            "text/latex": "$\\displaystyle \\left[\\begin{matrix}1 & 2 & 3\\\\2 & 4 & 6\\\\2 & 8 & 10\\end{matrix}\\right]$",
            "text/plain": [
              "Matrix([\n",
              "[1, 2,  3],\n",
              "[2, 4,  6],\n",
              "[2, 8, 10]])"
            ]
          },
          "metadata": {},
          "execution_count": 10
        }
      ]
    },
    {
      "cell_type": "markdown",
      "metadata": {
        "id": "IxBJa0q78SLI"
      },
      "source": [
        "NOTE: We do have 3 cols, but all 3 columns are not independent.   \n",
        "$R_3 <= R_1 + R_2$ "
      ]
    },
    {
      "cell_type": "code",
      "metadata": {
        "colab": {
          "base_uri": "https://localhost:8080/"
        },
        "id": "31VkGSxh8P-5",
        "outputId": "9862597c-d3c1-4ed5-b95d-8469285e47a5"
      },
      "source": [
        "A.rref()"
      ],
      "execution_count": 11,
      "outputs": [
        {
          "output_type": "execute_result",
          "data": {
            "text/plain": [
              "(Matrix([\n",
              " [1, 0, 1],\n",
              " [0, 1, 1],\n",
              " [0, 0, 0]]), (0, 1))"
            ]
          },
          "metadata": {},
          "execution_count": 11
        }
      ]
    },
    {
      "cell_type": "markdown",
      "metadata": {
        "id": "eOGta5_D8ubB"
      },
      "source": [
        "## Rank\n",
        "\n",
        "Rank = # of pivot columns in A."
      ]
    },
    {
      "cell_type": "code",
      "metadata": {
        "colab": {
          "base_uri": "https://localhost:8080/"
        },
        "id": "qDajVq2S8h9h",
        "outputId": "291973c4-54fa-405d-bc42-9d38ee69c365"
      },
      "source": [
        "A.rank()"
      ],
      "execution_count": 13,
      "outputs": [
        {
          "output_type": "execute_result",
          "data": {
            "text/plain": [
              "2"
            ]
          },
          "metadata": {},
          "execution_count": 13
        }
      ]
    },
    {
      "cell_type": "markdown",
      "metadata": {
        "id": "WjqE9pyK87dw"
      },
      "source": [
        "## Null Space of matrix\n",
        "\n",
        "Null space of a matrix $A$ is defined as a set of all the vectors $X$ that satisfy $A.X=0$\n",
        "\n",
        "Steps to compute null space:\n",
        "1. Convert to reduced row echelon form using Gaussian Elimination\n",
        "2. Pick any values for the free variables. So if we have two free variables `f1` and `f2`, we assume their values to be `(1, 0)` and `(0, 1)`. We don't choose `(0,0)` as that is a trivial; solution to $A.X=0$."
      ]
    },
    {
      "cell_type": "code",
      "metadata": {
        "colab": {
          "base_uri": "https://localhost:8080/"
        },
        "id": "DJdHN-888trY",
        "outputId": "bea1f585-a7dd-4c82-9252-d6bdbefdebe0"
      },
      "source": [
        "A.nullspace()"
      ],
      "execution_count": 15,
      "outputs": [
        {
          "output_type": "execute_result",
          "data": {
            "text/plain": [
              "[Matrix([\n",
              " [-1],\n",
              " [-1],\n",
              " [ 1]])]"
            ]
          },
          "metadata": {},
          "execution_count": 15
        }
      ]
    },
    {
      "cell_type": "markdown",
      "metadata": {
        "id": "IK12fjTL-8i1"
      },
      "source": [
        "---\n",
        "\n",
        "# Solving $A.X=B$\n",
        "\n",
        "## Goal \n",
        "Check if a solution exists to a given system of equations, and if it does, find all those solutions.\n",
        "\n",
        "<br/>\n",
        "\n",
        "Example:\n",
        "```\n",
        "x + y + z = 1 \n",
        "x + y + 2z = 3\n",
        "```\n",
        "\n",
        "This can be solved via Sympy in a variety of ways.\n",
        "\n",
        "1. Augmented Matrix form\n",
        "2. System of Equations\n",
        "3. $A.x=b$ form\n",
        "\n",
        "### Augmented Matrix Form"
      ]
    },
    {
      "cell_type": "code",
      "metadata": {
        "colab": {
          "base_uri": "https://localhost:8080/",
          "height": 57
        },
        "id": "bJakiEw-85Nx",
        "outputId": "dd03e4d9-dd2a-4d10-87cc-50f3119bd8ca"
      },
      "source": [
        "from sympy import Matrix, symbols\n",
        "from sympy.solvers.solveset import linsolve\n",
        "\n",
        "A = sympy.Matrix([\n",
        "                  [1,1,1,1],\n",
        "                  [1,1,2,3]\n",
        "])\n",
        "\n",
        "A"
      ],
      "execution_count": 32,
      "outputs": [
        {
          "output_type": "execute_result",
          "data": {
            "text/latex": "$\\displaystyle \\left[\\begin{matrix}1 & 1 & 1 & 1\\\\1 & 1 & 2 & 3\\end{matrix}\\right]$",
            "text/plain": [
              "Matrix([\n",
              "[1, 1, 1, 1],\n",
              "[1, 1, 2, 3]])"
            ]
          },
          "metadata": {},
          "execution_count": 32
        }
      ]
    },
    {
      "cell_type": "code",
      "metadata": {
        "colab": {
          "base_uri": "https://localhost:8080/",
          "height": 39
        },
        "id": "T3BwMnL6AHSc",
        "outputId": "2a4627f3-d155-4b2e-e652-9b82d5ec1c44"
      },
      "source": [
        "# Create Sympy symbols for representing variables of the given system of equations\n",
        "x, y, z = symbols('x y z')\n",
        "\n",
        "linsolve(A, (x, y, z))"
      ],
      "execution_count": 34,
      "outputs": [
        {
          "output_type": "execute_result",
          "data": {
            "text/latex": "$\\displaystyle \\left\\{\\left( - y - 1, \\  y, \\  2\\right)\\right\\}$",
            "text/plain": [
              "FiniteSet((-y - 1, y, 2))"
            ]
          },
          "metadata": {},
          "execution_count": 34
        }
      ]
    },
    {
      "cell_type": "markdown",
      "metadata": {
        "id": "B5QUx-VnCUW2"
      },
      "source": [
        "### System of equations form"
      ]
    },
    {
      "cell_type": "code",
      "metadata": {
        "colab": {
          "base_uri": "https://localhost:8080/",
          "height": 39
        },
        "id": "-W8P2mIRATe0",
        "outputId": "dafcbd8f-b975-42f8-9068-b6979c65a362"
      },
      "source": [
        "# Create Sympy symbols\n",
        "x, y, z = symbols('x y z')\n",
        "\n",
        "linsolve([x + y + z - 1, x + y + 2*z - 3 ], (x, y, z))"
      ],
      "execution_count": 35,
      "outputs": [
        {
          "output_type": "execute_result",
          "data": {
            "text/latex": "$\\displaystyle \\left\\{\\left( - y - 1, \\  y, \\  2\\right)\\right\\}$",
            "text/plain": [
              "FiniteSet((-y - 1, y, 2))"
            ]
          },
          "metadata": {},
          "execution_count": 35
        }
      ]
    },
    {
      "cell_type": "markdown",
      "metadata": {
        "id": "opE6yS2bC2YN"
      },
      "source": [
        "### $A.x=b$ form"
      ]
    },
    {
      "cell_type": "code",
      "metadata": {
        "colab": {
          "base_uri": "https://localhost:8080/",
          "height": 57
        },
        "id": "0JOyNDpwA-zP",
        "outputId": "f29569e3-9565-43fc-f604-c5b1d852e501"
      },
      "source": [
        "M = sympy.Matrix([\n",
        "                  [1,1,1,1],\n",
        "                  [1,1,2,3]\n",
        "])\n",
        "\n",
        "M"
      ],
      "execution_count": 42,
      "outputs": [
        {
          "output_type": "execute_result",
          "data": {
            "text/latex": "$\\displaystyle \\left[\\begin{matrix}1 & 1 & 1 & 1\\\\1 & 1 & 2 & 3\\end{matrix}\\right]$",
            "text/plain": [
              "Matrix([\n",
              "[1, 1, 1, 1],\n",
              "[1, 1, 2, 3]])"
            ]
          },
          "metadata": {},
          "execution_count": 42
        }
      ]
    },
    {
      "cell_type": "code",
      "metadata": {
        "colab": {
          "base_uri": "https://localhost:8080/",
          "height": 155
        },
        "id": "VKLXeATBC-bk",
        "outputId": "2ee4cdaf-22f1-412e-bd2b-9600439d2c57"
      },
      "source": [
        "system = A, b = M[:, :-1], M[:, -1]\n",
        "\n",
        "print(A)\n",
        "print(b)\n",
        "print(system)"
      ],
      "execution_count": 44,
      "outputs": [
        {
          "output_type": "stream",
          "name": "stdout",
          "text": [
            "Matrix([[1, 1, 1], [1, 1, 2]])\n",
            "Matrix([[1], [3]])\n",
            "(Matrix([\n",
            "[1, 1, 1],\n",
            "[1, 1, 2]]), Matrix([\n",
            "[1],\n",
            "[3]]))\n"
          ]
        },
        {
          "output_type": "execute_result",
          "data": {
            "text/latex": "$\\displaystyle \\left\\{\\left( - y - 1, \\  y, \\  2\\right)\\right\\}$",
            "text/plain": [
              "FiniteSet((-y - 1, y, 2))"
            ]
          },
          "metadata": {},
          "execution_count": 44
        }
      ]
    },
    {
      "cell_type": "code",
      "metadata": {
        "colab": {
          "base_uri": "https://localhost:8080/",
          "height": 38
        },
        "id": "eZ1Q7ePGENVT",
        "outputId": "9d6143d2-fc9e-4c74-8e33-8659bbbc9238"
      },
      "source": [
        "linsolve(system, x, y, z)"
      ],
      "execution_count": 45,
      "outputs": [
        {
          "output_type": "execute_result",
          "data": {
            "text/latex": "$\\displaystyle \\left\\{\\left( - y - 1, \\  y, \\  2\\right)\\right\\}$",
            "text/plain": [
              "FiniteSet((-y - 1, y, 2))"
            ]
          },
          "metadata": {},
          "execution_count": 45
        }
      ]
    },
    {
      "cell_type": "markdown",
      "metadata": {
        "id": "e01PJch5CPrn"
      },
      "source": [
        "---\n",
        "# Solving linear system of equations\n",
        "\n",
        "$A.x = b$\n",
        "\n",
        "We can use Gaussian elimination to solve the system of equations. However the time complexity of performing Gaussian Elimination is $O(n_3)$.  \n",
        "\n",
        "If $A$ is a suare matrix, then there are couple of approximation techniques that can be used to speed up the solution."
      ]
    },
    {
      "cell_type": "code",
      "metadata": {
        "colab": {
          "base_uri": "https://localhost:8080/"
        },
        "id": "1nVsnUAwCwWr",
        "outputId": "654fffca-92d4-41df-9a64-4fa819f84b58"
      },
      "source": [
        "import numpy as np\n",
        "\n",
        "A = np.array([\n",
        "             [3,2,1],\n",
        "             [1,4,4],\n",
        "             [3,2,8]\n",
        "])\n",
        "\n",
        "b = np.array([\n",
        "              [8],\n",
        "              [13],\n",
        "              [15]\n",
        "])\n",
        "\n",
        "print(A)\n",
        "print(b)"
      ],
      "execution_count": 3,
      "outputs": [
        {
          "output_type": "stream",
          "name": "stdout",
          "text": [
            "[[3 2 1]\n",
            " [1 4 4]\n",
            " [3 2 8]]\n",
            "[[ 8]\n",
            " [13]\n",
            " [15]]\n"
          ]
        }
      ]
    },
    {
      "cell_type": "markdown",
      "metadata": {
        "id": "ZFd3twryCPi5"
      },
      "source": [
        "## Jacobi Iterations\n",
        "\n",
        "$A = D + E$   \n",
        "\n",
        "$A$ : (m * m) matrix  \n",
        "$D$ : (m * m) matrix containing only diagonal elements of A  \n",
        "$E$ : (m * m) matrix containing only non-diagonal elements of A\n",
        "\n",
        "\n",
        "### Derivation\n",
        "$b = Ax$  \n",
        "$b = (D + E) x$  \n",
        "$b = Dx + Ex$  \n",
        "$Dx = -Ex + b$  \n",
        "$x = -D^{-1}Ex + D^{-1}b$  \n",
        "\n",
        "\n",
        "### Algorithm\n",
        "\n",
        "- Initialize:\n",
        "  $x = x_0$\n",
        "\n",
        "- For kth iteration  \n",
        "    $x_i^{k+1} = -\\frac{1}{A_{ii}} (\\sum\\limits_{j \\neq i} A_{ij} - b_i)$\n",
        "\n",
        "- Find error\n",
        "    \n"
      ]
    },
    {
      "cell_type": "code",
      "metadata": {
        "id": "4pVGehSLGGwC"
      },
      "source": [
        "# Implement here"
      ],
      "execution_count": 4,
      "outputs": []
    },
    {
      "cell_type": "markdown",
      "metadata": {
        "id": "B79il6IBkh9S"
      },
      "source": [
        "# Solving $|| b - Ax ||$\n",
        "\n",
        "## Steepest Descent\n",
        "### Theory\n",
        "- https://towardsdatascience.com/descent-method-steepest-descent-and-conjugate-gradient-math-explained-78601d8df3ce\n",
        "- https://sophiamyang.medium.com/descent-method-steepest-descent-and-conjugate-gradient-in-python-85aa4c4aac7b\n",
        "\n",
        "### Algorithm\n",
        "- Initialize\n",
        "      x(0) = 0\n",
        "\n",
        "- For `k=1` to `max_iter`:\n",
        "      1. Find the residue at current position\n",
        "         r(k) = b - Ax(k)\n",
        "\n",
        "      2. Update step size α\n",
        "         α = ( r(k).T x r(k) ) / ( r(k).T x A x r(k) )\n",
        "\n",
        "      3. Take a step of size α in the direction of steepest descent \n",
        "         x(k+1) = x(k) + α r(k)\n",
        "  End\n"
      ]
    },
    {
      "cell_type": "code",
      "metadata": {
        "id": "FEZpbYvmGIcv"
      },
      "source": [
        "def my_steepest_descent(A, b, max_iter=100):\n",
        "  \"\"\"\n",
        "  A -> m x m\n",
        "  b -> m x 1\n",
        "  \"\"\"\n",
        "\n",
        "  # Get shapes. NOTE: A is a square matrix\n",
        "  m, m = A.shape\n",
        "\n",
        "  # Intialize. Since Ax = b => Shape(x) = m x 1, such that A(m,m)x(m,1) = b(m,1)\n",
        "  x = np.zeros(shape=m)\n",
        "\n",
        "  for i in range(max_iter):\n",
        "    # Find residue. NOTE: Shape(r) = Shape(b) = Shape(Ax) = (m,1).\n",
        "    r = b - A @ x\n",
        "\n",
        "    # Step size. \n",
        "    \"\"\"\n",
        "    NOTE: As Shape(r) = (m,1) \n",
        "          => Shape(r.T) = (1,m)\n",
        "          => Shape(r.T @ r) = (1,1)\n",
        "        And  Shape(r.T @ A) = (1,m)\n",
        "          => Shape(r.T @A @ r) = (1,m) x (m,1) = (1,1)\n",
        "          => Shape(alpha) = (1,1)\n",
        "    \"\"\"\n",
        "    alpha = (r.T @ r) / (r.T @ A @ r)\n",
        "\n",
        "    # Update step\n",
        "    x = x + alpha * r\n",
        "\n",
        "  return x"
      ],
      "execution_count": 17,
      "outputs": []
    },
    {
      "cell_type": "markdown",
      "metadata": {
        "id": "1G4X3kfqr3Yx"
      },
      "source": [
        "### Evaluating"
      ]
    },
    {
      "cell_type": "code",
      "metadata": {
        "colab": {
          "base_uri": "https://localhost:8080/"
        },
        "id": "PeoXIhbxnmjL",
        "outputId": "74903a94-32e7-4e0c-b09c-a36e3f2b98be"
      },
      "source": [
        "A = np.array([\n",
        "             [3,2,1],\n",
        "             [1,4,4],\n",
        "             [3,2,8]\n",
        "])\n",
        "\n",
        "np.random.seed(7)\n",
        "\n",
        "b = np.random.standard_normal(size=(3))\n",
        "\n",
        "print(A)\n",
        "print(A.shape)\n",
        "print(b)\n",
        "print(b.shape)"
      ],
      "execution_count": 29,
      "outputs": [
        {
          "output_type": "stream",
          "name": "stdout",
          "text": [
            "[[3 2 1]\n",
            " [1 4 4]\n",
            " [3 2 8]]\n",
            "(3, 3)\n",
            "[ 1.6905257  -0.46593737  0.03282016]\n",
            "(3,)\n"
          ]
        }
      ]
    },
    {
      "cell_type": "markdown",
      "metadata": {
        "id": "xoKji5Gar0He"
      },
      "source": [
        "Calling the steepest decent implementation function..."
      ]
    },
    {
      "cell_type": "code",
      "metadata": {
        "colab": {
          "base_uri": "https://localhost:8080/"
        },
        "id": "csNQggvGnn1N",
        "outputId": "eea9abcd-ef44-461b-c9ca-747c2d30ff18"
      },
      "source": [
        "x = my_steepest_descent(A,b)\n",
        "print(x)"
      ],
      "execution_count": 30,
      "outputs": [
        {
          "output_type": "stream",
          "name": "stdout",
          "text": [
            "[ 0.67467172 -0.0483372  -0.23681508]\n"
          ]
        }
      ]
    },
    {
      "cell_type": "markdown",
      "metadata": {
        "id": "qkmZ5xn4sHN9"
      },
      "source": [
        "This `x` should be the solution to `Ax = b`.\n",
        "\n",
        "We can verify this by multiplying `A` and calculated `x` to check if we get back `b`. Ideally we should get back `b`, but since this solution is obtained through approximation, the value of `Ax` may not be exactly be equal to `b` but would be close enough."
      ]
    },
    {
      "cell_type": "code",
      "metadata": {
        "colab": {
          "base_uri": "https://localhost:8080/"
        },
        "id": "quV4lg_erYwE",
        "outputId": "dec558d9-ee72-4e05-9305-3e71f7a632cc"
      },
      "source": [
        "A @ x"
      ],
      "execution_count": 31,
      "outputs": [
        {
          "output_type": "execute_result",
          "data": {
            "text/plain": [
              "array([ 1.6905257 , -0.46593737,  0.03282016])"
            ]
          },
          "metadata": {},
          "execution_count": 31
        }
      ]
    },
    {
      "cell_type": "markdown",
      "metadata": {
        "id": "HA6MZ0N1tBUK"
      },
      "source": [
        "---\n",
        "\n",
        "# Steepest Descent continued...\n",
        "Our previous implementation of steepest descent required that the given system of equations should be determined, that is, $A$ should be a square matrix.\n",
        "\n",
        "However, we may have over-determined (Tall $A_{m,n}$ ;  $m > n$) or under-determined (Wide $A_{m,n}$ ;  $m < n$) systems.\n",
        "\n",
        "Hence, we will have to tweak our system $b=Ax$ such that, $A$ becomes a square matrix, and we can use the same solver(or function) for steepest descent that we used for determined system."
      ]
    },
    {
      "cell_type": "markdown",
      "metadata": {
        "id": "5Q4Pg0K7uPVt"
      },
      "source": [
        "## Steepest descent for overdetermined system\n",
        "For overdetermined system, $A_{m,n}$ such that $m>n$.  \n",
        "\n",
        "$b_{m,1} = A_{m,n} x_{n,1}$\n",
        "\n",
        "> $Ax = b$  \n",
        "Multiply $A^T$ on both sides  \n",
        "$A^T Ax = A^Tb$  \n",
        "\n",
        "**Note**: $A$ = (m,n) => $A^T$ = (n,m) => $A^T A$ = (m,m)  \n",
        "We successfully converted $A$ to a square matrix by multiplying it with $A^T$.\n",
        "\n",
        "\n",
        "So for square systems,  \n",
        "```\n",
        "x = my_steepest_gradient(A, b)\n",
        "```\n",
        "\n",
        "But if A is not square,\n",
        "```\n",
        "x = my_steepest_gradient(A.T @ A, A.T @ b)\n",
        "```"
      ]
    },
    {
      "cell_type": "markdown",
      "metadata": {
        "id": "thxmdFPCxjJq"
      },
      "source": [
        "### Evaluating"
      ]
    },
    {
      "cell_type": "code",
      "metadata": {
        "colab": {
          "base_uri": "https://localhost:8080/"
        },
        "id": "1e3h8i0dskGB",
        "outputId": "ae18d590-08c6-4562-e4ed-ec0449ce9f0e"
      },
      "source": [
        "A_under = np.array([\n",
        "             [3,2,1,2],\n",
        "             [1,4,4,5],\n",
        "             [3,2,8,1]\n",
        "])\n",
        "\n",
        "np.random.seed(7)\n",
        "\n",
        "b = np.random.standard_normal(size=(3))\n",
        "\n",
        "print(A_under)\n",
        "print(A_under.shape)\n",
        "print(b)\n",
        "print(b.shape)"
      ],
      "execution_count": 45,
      "outputs": [
        {
          "output_type": "stream",
          "name": "stdout",
          "text": [
            "[[3 2 1 2]\n",
            " [1 4 4 5]\n",
            " [3 2 8 1]]\n",
            "(3, 4)\n",
            "[ 1.6905257  -0.46593737  0.03282016]\n",
            "(3,)\n"
          ]
        }
      ]
    },
    {
      "cell_type": "code",
      "metadata": {
        "colab": {
          "base_uri": "https://localhost:8080/"
        },
        "id": "iMzGt1MLxS6g",
        "outputId": "38c741ec-cbf9-441a-f0c4-2ddd0ede0b26"
      },
      "source": [
        "x = my_steepest_descent(A_under.T @ A_under, A_under.T @ b)\n",
        "print(x)"
      ],
      "execution_count": 46,
      "outputs": [
        {
          "output_type": "stream",
          "name": "stdout",
          "text": [
            "[ 0.65783421  0.04703677 -0.24616324 -0.0654519 ]\n"
          ]
        }
      ]
    },
    {
      "cell_type": "markdown",
      "metadata": {
        "id": "ynaPlrr6xlsw"
      },
      "source": [
        "Verifying that $Ax$ indeed produces value approximately equal to $b$"
      ]
    },
    {
      "cell_type": "code",
      "metadata": {
        "colab": {
          "base_uri": "https://localhost:8080/"
        },
        "id": "CVDou95BxgKJ",
        "outputId": "eca9b2ed-4661-4cd5-b262-83faaba79cc5"
      },
      "source": [
        "A_under @ x"
      ],
      "execution_count": 48,
      "outputs": [
        {
          "output_type": "execute_result",
          "data": {
            "text/plain": [
              "array([ 1.69050914, -0.46593115,  0.03281839])"
            ]
          },
          "metadata": {},
          "execution_count": 48
        }
      ]
    },
    {
      "cell_type": "code",
      "metadata": {
        "colab": {
          "base_uri": "https://localhost:8080/"
        },
        "id": "z8A2j5t3Bznw",
        "outputId": "78ac98a3-8932-487d-983a-966f509d9f10"
      },
      "source": [
        "A_over = np.array([\n",
        "             [3,2,1],\n",
        "             [1,4,4],\n",
        "             [3,2,8],\n",
        "             [6,4,2]\n",
        "])\n",
        "\n",
        "b = np.array([10, 21, 31, 20])\n",
        "\n",
        "print(A_over)\n",
        "print(A_over.shape)\n",
        "print(b)\n",
        "print(b.shape)"
      ],
      "execution_count": 53,
      "outputs": [
        {
          "output_type": "stream",
          "name": "stdout",
          "text": [
            "[[3 2 1]\n",
            " [1 4 4]\n",
            " [3 2 8]\n",
            " [6 4 2]]\n",
            "(4, 3)\n",
            "[10 21 31 20]\n",
            "(4,)\n"
          ]
        }
      ]
    },
    {
      "cell_type": "code",
      "metadata": {
        "colab": {
          "base_uri": "https://localhost:8080/"
        },
        "id": "MLn-RK-KB_9F",
        "outputId": "e7cc4205-ba82-471b-dc51-e02cf859a88d"
      },
      "source": [
        "x = my_steepest_descent(A_over.T @ A_over, A_over.T @ b)\n",
        "print(x)"
      ],
      "execution_count": 56,
      "outputs": [
        {
          "output_type": "stream",
          "name": "stdout",
          "text": [
            "[1.00005144 1.99991709 3.00000982]\n"
          ]
        }
      ]
    },
    {
      "cell_type": "markdown",
      "metadata": {
        "id": "SW895MkZCmmA"
      },
      "source": [
        "Verifying that indeed A.x gives b"
      ]
    },
    {
      "cell_type": "code",
      "metadata": {
        "colab": {
          "base_uri": "https://localhost:8080/"
        },
        "id": "VVTa8ZeDClat",
        "outputId": "4fcc1444-0060-495a-9e1f-df08815404b6"
      },
      "source": [
        "A_over @ x"
      ],
      "execution_count": 57,
      "outputs": [
        {
          "output_type": "execute_result",
          "data": {
            "text/plain": [
              "array([ 9.99999831, 20.99975907, 31.00006701, 19.99999661])"
            ]
          },
          "metadata": {},
          "execution_count": 57
        }
      ]
    },
    {
      "cell_type": "markdown",
      "metadata": {
        "id": "auj02aD6zeEU"
      },
      "source": [
        "---\n",
        "---"
      ]
    },
    {
      "cell_type": "markdown",
      "metadata": {
        "id": "vHawVrl_6dI_"
      },
      "source": [
        "## Conjugate Gradient\n",
        "\n",
        "The steepest descent method is great that we minimize the function in the direction of each step. But it doesn’t guarantee that the direction we are going to minimize the function from all the previous directions.\n",
        "\n",
        "Directions p are A conjugate directions if they have the following property (note A is symmetric positive definite):\n",
        "\n",
        "> $P_0, P_1, P_2... P_{k-1}$, such that   \n",
        "$P_i^T A P_i = 0$ for $i \\ne j$\n",
        "\n",
        "Only when the current direction p is A conjugate to all the previous directions, will the next data point minimize the function in the span of all previous directions.\n"
      ]
    },
    {
      "cell_type": "markdown",
      "metadata": {
        "id": "BlJ7b3m79E0j"
      },
      "source": [
        "### Calculating A conjugate\n",
        "Remember that the steepest descent chose the steepest slope, which is also the residual (r) at each step. And we know that this is a good choice. How about we find an A-conjugate direction that’s the closest to the direction of the steepest descent, i.e., we minimize the 2-norm of the vector (r-p).\n",
        "\n",
        "Current direction  = Current Residual + Last direction  \n",
        "$P_{k} = r_k + \\gamma_k P_{k-1}$\n",
        "\n",
        "Because of the property of A-conjugate directions:\n",
        "$P_i^T A P_i = 0$\n",
        "\n",
        "We can then calculate $\\gamma_k$ as :\n",
        "\n",
        "$P_{k-1}^T A \\gamma_k + \\gamma P_{k-1}^T A P_{k-1} = 0$\n",
        "\n",
        "Hence,  \n",
        "> $\\gamma_k = - \\frac{P_{k-1}^T A \\gamma_k}{P_{k-1}^T A P_{k-1}} $  \n"
      ]
    },
    {
      "cell_type": "code",
      "metadata": {
        "id": "altd6l1l__QC"
      },
      "source": [
        "from numpy import linalg as LA"
      ],
      "execution_count": 35,
      "outputs": []
    },
    {
      "cell_type": "code",
      "metadata": {
        "id": "TVXHtplVAGLY"
      },
      "source": [
        "def is_pos_def(x):\n",
        "  \"\"\"check if a matrix is symmetric positive definite\"\"\"\n",
        "  return np.all(np.linalg.eigvals(x) > 0)"
      ],
      "execution_count": 37,
      "outputs": []
    },
    {
      "cell_type": "code",
      "metadata": {
        "id": "OjnqsQhJxt6B"
      },
      "source": [
        "def my_conjugate_gradient(A, b):\n",
        "  # if (is_pos_def(A) == False) | (A != A.T).any():\n",
        "    # raise ValueError('Matrix A needs to be symmetric positive definite (SPD)')\n",
        "  \n",
        "  # Initialize\n",
        "  p = r = b\n",
        "  k = 0\n",
        "  x = np.zeros(A.shape[-1])\n",
        "\n",
        "  # Can iterate for fixed number of times or until residue drops below threshold\n",
        "  while LA.norm(r) > 1e-10 :\n",
        "    if k == 0:\n",
        "      pass\n",
        "    else: \n",
        "      gamma = - (p @ A @ r)/(p @ A @ p)\n",
        "      p = r + gamma * p\n",
        "    \n",
        "    # Calculate step size\n",
        "    alpha = (p @ r) / (p @ A @ p)\n",
        "\n",
        "    # Update step\n",
        "    x = x + alpha * p\n",
        "    # Update residue for next iteration\n",
        "    r = r - alpha * (A @ p)\n",
        "    k =+ 1\n",
        "  return x"
      ],
      "execution_count": 94,
      "outputs": []
    },
    {
      "cell_type": "markdown",
      "metadata": {
        "id": "e_9PpbWuAlB-"
      },
      "source": [
        "### Evaluate"
      ]
    },
    {
      "cell_type": "code",
      "metadata": {
        "colab": {
          "base_uri": "https://localhost:8080/"
        },
        "id": "I__7MxYRAv-l",
        "outputId": "9c6dacee-3754-449c-d399-00a3e371bcf1"
      },
      "source": [
        "A = np.array([\n",
        "              [3,2],\n",
        "              [2,3]\n",
        "])\n",
        "\n",
        "b = np.array([-2, 7])\n",
        "\n",
        "print(A)\n",
        "print(A.shape)\n",
        "print(b)\n",
        "print(b.shape)"
      ],
      "execution_count": 74,
      "outputs": [
        {
          "output_type": "stream",
          "name": "stdout",
          "text": [
            "[[3 2]\n",
            " [2 3]]\n",
            "(2, 2)\n",
            "[-2  7]\n",
            "(2,)\n"
          ]
        }
      ]
    },
    {
      "cell_type": "code",
      "metadata": {
        "colab": {
          "base_uri": "https://localhost:8080/"
        },
        "id": "yH9L7upuARGH",
        "outputId": "6fbb78ae-24c6-4795-e95b-e6b6dbec1b59"
      },
      "source": [
        "x = my_conjugate_gradient(A.T @ A, A.T @ b)\n",
        "print(x)"
      ],
      "execution_count": 75,
      "outputs": [
        {
          "output_type": "stream",
          "name": "stdout",
          "text": [
            "[-4.  5.]\n"
          ]
        }
      ]
    },
    {
      "cell_type": "markdown",
      "metadata": {
        "id": "2RLx2_RNC2ZL"
      },
      "source": [
        "Verifying..."
      ]
    },
    {
      "cell_type": "code",
      "metadata": {
        "colab": {
          "base_uri": "https://localhost:8080/"
        },
        "id": "fmBeNun-C4yx",
        "outputId": "5feb03b2-9766-4198-da5c-cfc8eb71d203"
      },
      "source": [
        "A @ x"
      ],
      "execution_count": 76,
      "outputs": [
        {
          "output_type": "execute_result",
          "data": {
            "text/plain": [
              "array([-2.,  7.])"
            ]
          },
          "metadata": {},
          "execution_count": 76
        }
      ]
    },
    {
      "cell_type": "markdown",
      "metadata": {
        "id": "Gg1k-1wdBBud"
      },
      "source": [
        "If A is an overdetermined system"
      ]
    },
    {
      "cell_type": "code",
      "metadata": {
        "colab": {
          "base_uri": "https://localhost:8080/"
        },
        "id": "l7hMjTzJAUSU",
        "outputId": "527d0ff0-7e53-432e-de33-9e357d12c29e"
      },
      "source": [
        "A_over = np.array([\n",
        "             [3,2,1],\n",
        "             [1,4,4],\n",
        "             [3,2,8],\n",
        "             [6,4,2]\n",
        "])\n",
        "\n",
        "b = np.array([10, 21, 31, 20])\n",
        "\n",
        "print(A_over)\n",
        "print(A_over.shape)\n",
        "print(b)\n",
        "print(b.shape)"
      ],
      "execution_count": 77,
      "outputs": [
        {
          "output_type": "stream",
          "name": "stdout",
          "text": [
            "[[3 2 1]\n",
            " [1 4 4]\n",
            " [3 2 8]\n",
            " [6 4 2]]\n",
            "(4, 3)\n",
            "[10 21 31 20]\n",
            "(4,)\n"
          ]
        }
      ]
    },
    {
      "cell_type": "code",
      "metadata": {
        "colab": {
          "base_uri": "https://localhost:8080/"
        },
        "id": "uLOcZjL1DHGS",
        "outputId": "7e43a136-8298-4d28-b255-a1bc92113abc"
      },
      "source": [
        "x = my_conjugate_gradient(A_over.T @ A_over, A_over.T @ b)\n",
        "print(x)"
      ],
      "execution_count": 78,
      "outputs": [
        {
          "output_type": "stream",
          "name": "stdout",
          "text": [
            "[1. 2. 3.]\n"
          ]
        }
      ]
    },
    {
      "cell_type": "markdown",
      "metadata": {
        "id": "tSNloxzfDWLX"
      },
      "source": [
        "Verifying..."
      ]
    },
    {
      "cell_type": "code",
      "metadata": {
        "colab": {
          "base_uri": "https://localhost:8080/"
        },
        "id": "KJNdOEMTDUcG",
        "outputId": "552c8840-44fc-4b4d-930f-6c01301507d9"
      },
      "source": [
        "A_over @ x"
      ],
      "execution_count": 79,
      "outputs": [
        {
          "output_type": "execute_result",
          "data": {
            "text/plain": [
              "array([10., 21., 31., 20.])"
            ]
          },
          "metadata": {},
          "execution_count": 79
        }
      ]
    },
    {
      "cell_type": "markdown",
      "metadata": {
        "id": "nTj5BfvTEuXt"
      },
      "source": [
        "If A is an underdetermined system"
      ]
    },
    {
      "cell_type": "code",
      "metadata": {
        "colab": {
          "base_uri": "https://localhost:8080/"
        },
        "id": "FJ_WM8AwDYnK",
        "outputId": "bf74a179-2722-45c7-847d-b0294a4cc6ab"
      },
      "source": [
        "A_under = np.array([\n",
        "             [3,2,1,2],\n",
        "             [1,4,4,5],\n",
        "             [3,2,8,1]\n",
        "])\n",
        "\n",
        "np.random.seed(7)\n",
        "\n",
        "b = np.array([12, 26, 32])\n",
        "\n",
        "print(A_under)\n",
        "print(A_under.shape)\n",
        "print(b)\n",
        "print(b.shape)"
      ],
      "execution_count": 120,
      "outputs": [
        {
          "output_type": "stream",
          "name": "stdout",
          "text": [
            "[[3 2 1 2]\n",
            " [1 4 4 5]\n",
            " [3 2 8 1]]\n",
            "(3, 4)\n",
            "[12 26 32]\n",
            "(3,)\n"
          ]
        }
      ]
    },
    {
      "cell_type": "code",
      "metadata": {
        "colab": {
          "base_uri": "https://localhost:8080/",
          "height": 189
        },
        "id": "7zmD1zBbFTIZ",
        "outputId": "f7e018bf-1ae9-4452-e4c2-6aebfd4d49ba"
      },
      "source": [
        "x = my_conjugate_gradient(A_under.T @ A_under, A_under.T @b)\n",
        "print(x)"
      ],
      "execution_count": 121,
      "outputs": [
        {
          "output_type": "error",
          "ename": "NameError",
          "evalue": "ignored",
          "traceback": [
            "\u001b[0;31m---------------------------------------------------------------------------\u001b[0m",
            "\u001b[0;31mNameError\u001b[0m                                 Traceback (most recent call last)",
            "\u001b[0;32m<ipython-input-121-307841ef2b09>\u001b[0m in \u001b[0;36m<module>\u001b[0;34m()\u001b[0m\n\u001b[0;32m----> 1\u001b[0;31m \u001b[0mx\u001b[0m \u001b[0;34m=\u001b[0m \u001b[0mmy_conjugate_gradient\u001b[0m\u001b[0;34m(\u001b[0m\u001b[0mA_under\u001b[0m\u001b[0;34m.\u001b[0m\u001b[0mT\u001b[0m \u001b[0;34m@\u001b[0m \u001b[0mA_under\u001b[0m\u001b[0;34m,\u001b[0m \u001b[0mA_under\u001b[0m\u001b[0;34m.\u001b[0m\u001b[0mT\u001b[0m \u001b[0;34m@\u001b[0m\u001b[0mb\u001b[0m\u001b[0;34m)\u001b[0m\u001b[0;34m\u001b[0m\u001b[0;34m\u001b[0m\u001b[0m\n\u001b[0m\u001b[1;32m      2\u001b[0m \u001b[0mprint\u001b[0m\u001b[0;34m(\u001b[0m\u001b[0mx\u001b[0m\u001b[0;34m)\u001b[0m\u001b[0;34m\u001b[0m\u001b[0;34m\u001b[0m\u001b[0m\n",
            "\u001b[0;31mNameError\u001b[0m: name 'my_conjugate_gradient' is not defined"
          ]
        }
      ]
    },
    {
      "cell_type": "markdown",
      "metadata": {
        "id": "olMtBIg4G_oa"
      },
      "source": [
        "Veriying..."
      ]
    },
    {
      "cell_type": "code",
      "metadata": {
        "colab": {
          "base_uri": "https://localhost:8080/"
        },
        "id": "Q_FeDNTnFbpi",
        "outputId": "6de87ca5-065e-47b1-9a99-0fd09a8dc056"
      },
      "source": [
        "A_under @ x"
      ],
      "execution_count": 96,
      "outputs": [
        {
          "output_type": "execute_result",
          "data": {
            "text/plain": [
              "array([12., 26., 32.])"
            ]
          },
          "metadata": {},
          "execution_count": 96
        }
      ]
    },
    {
      "cell_type": "markdown",
      "metadata": {
        "id": "Eu5XdZhcHC5A"
      },
      "source": [
        "---\n",
        "---"
      ]
    },
    {
      "cell_type": "markdown",
      "metadata": {
        "id": "4ddCuHkQTk8Q"
      },
      "source": [
        "# Weighted Least Squares Solver"
      ]
    },
    {
      "cell_type": "code",
      "metadata": {
        "id": "eoqjUHaWT7Mw"
      },
      "source": [
        "import numpy as np"
      ],
      "execution_count": 98,
      "outputs": []
    },
    {
      "cell_type": "markdown",
      "metadata": {
        "id": "7-BbcIrDVtjt"
      },
      "source": [
        "Least squares solver.\n",
        "\n",
        "Solves for $Ax=b$. \n",
        "\n",
        "If A is square and full rank (that is the system is well-determined), then `np.linalg.lstsq` returns the exact solution. \n",
        "\n",
        "Else, if the system is overdetermined or under-determined, then approximate solution is computed by minimizing the L2 Norm of $\\epsilon$, that is,   \n",
        "$min_x || \\epsilon ||_2$  \n",
        "$=min_x || b - Ax ||_2$"
      ]
    },
    {
      "cell_type": "code",
      "metadata": {
        "id": "_taEJbc6HDdj"
      },
      "source": [
        "def least_squares_solver(A, b):\n",
        "  # Using Numpy\n",
        "  x_np, residuals, rank, singular  = np.linalg.lstsq(A, b)\n",
        "\n",
        "  return x_np, residuals, rank, singular"
      ],
      "execution_count": 100,
      "outputs": []
    },
    {
      "cell_type": "markdown",
      "metadata": {
        "id": "hrqXFJ0TXADp"
      },
      "source": [
        "To compute Weighted Least Squares, we simply pass in the weighted matrices\n",
        "\n",
        "Solution to $Ax=b$ can be found by minimizing $=min_x || b - Ax ||_2$ in `LS(A, b)`, where `LS` represents any least squares solver such as steepest descent or conjugate gradient..\n",
        "\n",
        "But to solve \n",
        "$min_x ||W( b - Ax ) ||_2$  \n",
        "$= min_x ||Wb - WAx ) ||_2$\n",
        "\n",
        "So simply use `LS(WA, Wb)` to solve the system, where `LS` still represents the same linear solver."
      ]
    },
    {
      "cell_type": "markdown",
      "metadata": {
        "id": "TYmVsPHoYVqB"
      },
      "source": [
        "### Iteratively Reweighted Least Squares (IRLS)\n",
        "\n",
        "Using Numpy's approximate least squares solver for fixed number of iterations."
      ]
    },
    {
      "cell_type": "code",
      "metadata": {
        "id": "TvnqZ3HMC4lU"
      },
      "source": [
        "import numpy as np"
      ],
      "execution_count": 2,
      "outputs": []
    },
    {
      "cell_type": "code",
      "metadata": {
        "id": "kteW43GtVo_A"
      },
      "source": [
        "def my_IRLS(A, b, max_iter=100):\n",
        "  # Get dimensions\n",
        "  m, n = A.shape # A is (m,n)\n",
        "\n",
        "  # Initialize\n",
        "  W = np.eye(n)\n",
        "  print(W.shape)\n",
        "\n",
        "  for i in range(max_iter):\n",
        "    # Solve\n",
        "    x,_,_,_ = np.linalg.lstsq(W @ (A.T @ A), W @ (A.T @ b))\n",
        "\n",
        "    # Update weights\n",
        "    W = np.fill_diagonal(W, 1/np.sqrt(x))\n",
        "\n",
        "  return x"
      ],
      "execution_count": 7,
      "outputs": []
    },
    {
      "cell_type": "code",
      "metadata": {
        "id": "OnHJTdjTETVF"
      },
      "source": [
        "def my_IRLS(A, b, max_iter=100, delta=0.001):\n",
        "  # Get dimensions\n",
        "  m = A.shape[0] # A is (m,m)\n",
        "\n",
        "  # Initialize\n",
        "  W = np.eye(m)\n",
        "\n",
        "  for i in range(max_iter):\n",
        "    # Solve\n",
        "    x,_,_,_ = np.linalg.lstsq(W @ A, W @ b, rcond=None)\n",
        "\n",
        "    # Update weights\n",
        "    np.fill_diagonal(W, 1/np.sqrt(b - A @ x + delta))\n",
        "    # a small delta is added because b-Ax can yeild very small negative values.\n",
        "    # Adding delta ensures that everythign inside sqrt remains +ve\n",
        "\n",
        "  return x"
      ],
      "execution_count": 100,
      "outputs": []
    },
    {
      "cell_type": "markdown",
      "metadata": {
        "id": "rZdLsObNU61m"
      },
      "source": [
        "#### For a determined system"
      ]
    },
    {
      "cell_type": "code",
      "metadata": {
        "colab": {
          "base_uri": "https://localhost:8080/"
        },
        "id": "XcAQkbP5EcLF",
        "outputId": "5bfff948-f86d-4d7c-ac71-88fa028b9079"
      },
      "source": [
        "A = np.array([\n",
        "              [3,2],\n",
        "              [2,3]\n",
        "])\n",
        "\n",
        "b = np.array([-2, 7])\n",
        "\n",
        "print(A)\n",
        "print(A.shape)\n",
        "print(b)\n",
        "print(b.shape)"
      ],
      "execution_count": 101,
      "outputs": [
        {
          "output_type": "stream",
          "name": "stdout",
          "text": [
            "[[3 2]\n",
            " [2 3]]\n",
            "(2, 2)\n",
            "[-2  7]\n",
            "(2,)\n"
          ]
        }
      ]
    },
    {
      "cell_type": "code",
      "metadata": {
        "colab": {
          "base_uri": "https://localhost:8080/"
        },
        "id": "dKSfCO4pEiF9",
        "outputId": "677ae973-cfb3-4c71-f157-83f1a325100e"
      },
      "source": [
        "x = my_IRLS(A, b)\n",
        "print(x)"
      ],
      "execution_count": 102,
      "outputs": [
        {
          "output_type": "stream",
          "name": "stdout",
          "text": [
            "[-4.  5.]\n"
          ]
        }
      ]
    },
    {
      "cell_type": "markdown",
      "metadata": {
        "id": "9pImy4zZjrEG"
      },
      "source": [
        "Verifying..."
      ]
    },
    {
      "cell_type": "code",
      "metadata": {
        "colab": {
          "base_uri": "https://localhost:8080/"
        },
        "id": "enQ99ifDjsbE",
        "outputId": "9db54091-b375-490b-b1c3-76e808d658a8"
      },
      "source": [
        "print(b)\n",
        "print(A @ x)"
      ],
      "execution_count": 103,
      "outputs": [
        {
          "output_type": "stream",
          "name": "stdout",
          "text": [
            "[-2  7]\n",
            "[-2.  7.]\n"
          ]
        }
      ]
    },
    {
      "cell_type": "markdown",
      "metadata": {
        "id": "g60gB1NEjws5"
      },
      "source": [
        "#### Over-determined system"
      ]
    },
    {
      "cell_type": "code",
      "metadata": {
        "colab": {
          "base_uri": "https://localhost:8080/"
        },
        "id": "GpGHNxaBahs4",
        "outputId": "c9ee9498-2b53-4ef3-8947-f031b04e65f5"
      },
      "source": [
        "A_over = np.array([\n",
        "             [3,2,1],\n",
        "             [1,4,4],\n",
        "             [3,2,8],\n",
        "             [6,4,2]\n",
        "])\n",
        "\n",
        "b = np.array([10, 21, 31, 20])\n",
        "\n",
        "print(A_over)\n",
        "print(A_over.shape)\n",
        "print(b)\n",
        "print(b.shape)"
      ],
      "execution_count": 104,
      "outputs": [
        {
          "output_type": "stream",
          "name": "stdout",
          "text": [
            "[[3 2 1]\n",
            " [1 4 4]\n",
            " [3 2 8]\n",
            " [6 4 2]]\n",
            "(4, 3)\n",
            "[10 21 31 20]\n",
            "(4,)\n"
          ]
        }
      ]
    },
    {
      "cell_type": "markdown",
      "metadata": {
        "id": "4moONgQ5k6TM"
      },
      "source": [
        "If our least squares solver `LS` is only capable of solving determined systems (that is when A is a square matrix), we tweak our inputs to the solver as \n",
        "\n",
        "$x = LS (A, b) \\mid A_{m,m}$  \n",
        "\n",
        "If our $A$ is over-determined or underdetermined, we input   \n",
        "$x = LS (A^T A, A^T b) \\mid A_{m,n}$  "
      ]
    },
    {
      "cell_type": "code",
      "metadata": {
        "colab": {
          "base_uri": "https://localhost:8080/"
        },
        "id": "fQkEdzMakSYQ",
        "outputId": "c20f5816-1f41-4564-cfda-f8ba5e7ef100"
      },
      "source": [
        "x = my_IRLS(A_over.T @ A_over, A_over.T @ b)\n",
        "print(x)"
      ],
      "execution_count": 111,
      "outputs": [
        {
          "output_type": "stream",
          "name": "stdout",
          "text": [
            "[1. 2. 3.]\n"
          ]
        }
      ]
    },
    {
      "cell_type": "markdown",
      "metadata": {
        "id": "88juR6rukOBD"
      },
      "source": [
        "Verifying that the solution x we found indeed satisfies $Ax = b$:"
      ]
    },
    {
      "cell_type": "code",
      "metadata": {
        "colab": {
          "base_uri": "https://localhost:8080/"
        },
        "id": "bG9mI6Mykawq",
        "outputId": "093d6b30-74c3-4b7a-8204-97a31afe5d33"
      },
      "source": [
        "print(b)\n",
        "print(A_over @ x)"
      ],
      "execution_count": 112,
      "outputs": [
        {
          "output_type": "stream",
          "name": "stdout",
          "text": [
            "[10 21 31 20]\n",
            "[10. 21. 31. 20.]\n"
          ]
        }
      ]
    },
    {
      "cell_type": "markdown",
      "metadata": {
        "id": "2vpaFnyRmFwa"
      },
      "source": [
        "However, the Least Squares Solver that we're using from Numpy namely **`np.linalg.lstsq`** is internally capable of handling overdetermined, underdtermined and fully determined systems. So, actually we do not have to worry about first converting $A$ into a square matrix.\n",
        "\n",
        "Verifying this by simply calling `my_IRLS(A_over, b)` instead of `my_IRLS(A_over.T @ A_over, A_over.T @ b)`"
      ]
    },
    {
      "cell_type": "code",
      "metadata": {
        "colab": {
          "base_uri": "https://localhost:8080/"
        },
        "id": "EiczgXt0ayQu",
        "outputId": "2fa45715-b49b-4cff-b5c6-0caa11befffe"
      },
      "source": [
        "x = my_IRLS(A_over, b)\n",
        "print(x)"
      ],
      "execution_count": 113,
      "outputs": [
        {
          "output_type": "stream",
          "name": "stdout",
          "text": [
            "[1. 2. 3.]\n"
          ]
        }
      ]
    },
    {
      "cell_type": "markdown",
      "metadata": {
        "id": "4vR1tQ7um3cq"
      },
      "source": [
        "Verifying that the solution x we found indeed satisfies $Ax=b$ :"
      ]
    },
    {
      "cell_type": "code",
      "metadata": {
        "colab": {
          "base_uri": "https://localhost:8080/"
        },
        "id": "MrriAjKrDXfg",
        "outputId": "f7c95d28-0b54-4c0c-b988-e1958e2b43c5"
      },
      "source": [
        "print(b)\n",
        "print( A_over @ x )"
      ],
      "execution_count": 114,
      "outputs": [
        {
          "output_type": "stream",
          "name": "stdout",
          "text": [
            "[10 21 31 20]\n",
            "[10. 21. 31. 20.]\n"
          ]
        }
      ]
    },
    {
      "cell_type": "markdown",
      "metadata": {
        "id": "ut1JPXbmm8ve"
      },
      "source": [
        "#### Underdetermined systems"
      ]
    },
    {
      "cell_type": "code",
      "metadata": {
        "colab": {
          "base_uri": "https://localhost:8080/"
        },
        "id": "J5ysYy6PkjdS",
        "outputId": "9025f5f5-6a2d-44ce-b782-e1da0a3f03a4"
      },
      "source": [
        "A_under = np.array([\n",
        "             [3,2,1,2],\n",
        "             [1,4,4,5],\n",
        "             [3,2,8,1]\n",
        "])\n",
        "\n",
        "b = np.array([12, 26, 32])\n",
        "\n",
        "print(A_under.shape)\n",
        "print(b.shape)"
      ],
      "execution_count": 117,
      "outputs": [
        {
          "output_type": "stream",
          "name": "stdout",
          "text": [
            "(3, 4)\n",
            "(3,)\n"
          ]
        }
      ]
    },
    {
      "cell_type": "markdown",
      "metadata": {
        "id": "3KbGUe0PwISc"
      },
      "source": [
        "Just like the case of overdetermined systems, if the Least Squares solver is capable of solving only sqaure (fully determined) systems, then we convert the inputs $A, b$ to square matrices such that $A \\rightarrow A^T A$ and $b \\rightarrow A^T b$"
      ]
    },
    {
      "cell_type": "code",
      "metadata": {
        "colab": {
          "base_uri": "https://localhost:8080/"
        },
        "id": "WmVlH8t4v6r8",
        "outputId": "62d7df35-f635-4cc4-89f2-dd74d9959cc0"
      },
      "source": [
        "x = my_IRLS(A_under.T @ A_under, A_under.T @ b)\n",
        "print(x)"
      ],
      "execution_count": 136,
      "outputs": [
        {
          "output_type": "stream",
          "name": "stdout",
          "text": [
            "[1.09842319 1.44226857 3.05467955 1.38275687]\n"
          ]
        }
      ]
    },
    {
      "cell_type": "code",
      "metadata": {
        "colab": {
          "base_uri": "https://localhost:8080/"
        },
        "id": "xAzQwI3MnFjv",
        "outputId": "c6c6f7db-f485-4dc5-822c-e00fd1896396"
      },
      "source": [
        "x = my_IRLS(A_under, b)\n",
        "print(x)"
      ],
      "execution_count": 137,
      "outputs": [
        {
          "output_type": "stream",
          "name": "stdout",
          "text": [
            "[1.09842319 1.44226857 3.05467955 1.38275687]\n"
          ]
        }
      ]
    },
    {
      "cell_type": "markdown",
      "metadata": {
        "id": "o3Nfjbs308Xa"
      },
      "source": [
        "Verifying that the solution `x` we computed indeed satisfies $Ax=b$"
      ]
    },
    {
      "cell_type": "code",
      "metadata": {
        "colab": {
          "base_uri": "https://localhost:8080/"
        },
        "id": "v6y9UNRYntsM",
        "outputId": "a335634f-73fe-4a02-b142-99de472eb199"
      },
      "source": [
        "print(b)\n",
        "print(A_under @ x)"
      ],
      "execution_count": 138,
      "outputs": [
        {
          "output_type": "stream",
          "name": "stdout",
          "text": [
            "[12 26 32]\n",
            "[12. 26. 32.]\n"
          ]
        }
      ]
    },
    {
      "cell_type": "markdown",
      "metadata": {
        "id": "NwhCv6Hh1SJK"
      },
      "source": [
        "But since, **`np.linalg.lstsq`** is internally capable of handling overdetermined, underdtermined and fully determined systems, we do not have to worry about first converting $A$ into a square matrix."
      ]
    },
    {
      "cell_type": "code",
      "metadata": {
        "colab": {
          "base_uri": "https://localhost:8080/"
        },
        "id": "EjjrWEWpv1VQ",
        "outputId": "95fc4b2c-4560-4c02-8bcb-7b0317d2edcb"
      },
      "source": [
        "x = my_IRLS(A_under, b)\n",
        "print(x)"
      ],
      "execution_count": 139,
      "outputs": [
        {
          "output_type": "stream",
          "name": "stdout",
          "text": [
            "[1.09842319 1.44226857 3.05467955 1.38275687]\n"
          ]
        }
      ]
    },
    {
      "cell_type": "markdown",
      "metadata": {
        "id": "lLqLdWY11hnS"
      },
      "source": [
        "Verifying that the solution `x` we computed indeed satisfies $Ax=b$"
      ]
    },
    {
      "cell_type": "code",
      "metadata": {
        "colab": {
          "base_uri": "https://localhost:8080/"
        },
        "id": "n-k4WEp-1hLR",
        "outputId": "2abc682a-0f56-4faa-9e42-0849d058cb12"
      },
      "source": [
        "print(b)\n",
        "print(A_under @ x)"
      ],
      "execution_count": 143,
      "outputs": [
        {
          "output_type": "stream",
          "name": "stdout",
          "text": [
            "[12 26 32]\n",
            "[12. 26. 32.]\n"
          ]
        }
      ]
    },
    {
      "cell_type": "markdown",
      "metadata": {
        "id": "-nyN3Ztk2Ixb"
      },
      "source": [
        "---\n",
        "---"
      ]
    },
    {
      "cell_type": "code",
      "metadata": {
        "id": "26JJize91nEB"
      },
      "source": [
        ""
      ],
      "execution_count": null,
      "outputs": []
    }
  ]
}